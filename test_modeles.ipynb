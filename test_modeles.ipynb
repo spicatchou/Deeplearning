{
 "cells": [
  {
   "cell_type": "code",
   "execution_count": 1,
   "id": "8264c77d",
   "metadata": {},
   "outputs": [],
   "source": [
    "import os\n",
    "import torch\n",
    "from torchvision import datasets, transforms\n",
    "from torch.utils.data import DataLoader\n",
    "import torch.nn as nn\n",
    "import torch.nn.functional as F\n",
    "import torch.optim as optim"
   ]
  },
  {
   "cell_type": "code",
   "execution_count": 2,
   "id": "40f9aed1",
   "metadata": {},
   "outputs": [],
   "source": [
    "transform = transforms.Compose([transforms.Resize((150,150)),\n",
    "                                 transforms.ToTensor()])\n",
    "batch_size = 20\n",
    "num_workers = 4\n",
    "\n",
    "df_train = datasets.ImageFolder(\"./train_another\",transform=transform)\n",
    "train_dataloader = DataLoader(dataset=df_train, batch_size=batch_size, shuffle=True, num_workers = 4 , pin_memory = True)\n",
    "\n",
    "df_test = datasets.ImageFolder(\"./test_another\",transform=transform)\n",
    "test_dataloader = DataLoader(dataset=df_test, batch_size=batch_size, shuffle=True,num_workers = 4 , pin_memory = True)\n",
    "\n",
    "df_validation = datasets.ImageFolder(\"./validation_another\",transform=transform)\n",
    "validation_dataloader = DataLoader(dataset=df_validation, batch_size=batch_size, shuffle=True,num_workers = 4 , pin_memory = True)"
   ]
  },
  {
   "cell_type": "code",
   "execution_count": 3,
   "id": "0b422c05",
   "metadata": {},
   "outputs": [],
   "source": [
    "class ImageClassificationBase(nn.Module):\n",
    "    \n",
    "    def training_step(self, batch):\n",
    "        images, labels = batch \n",
    "        out = self(images)                  # Generate predictions\n",
    "        loss = F.cross_entropy(out, labels) # Calculate loss\n",
    "        return loss\n",
    "    \n",
    "    def validation_step(self, batch):\n",
    "        images, labels = batch \n",
    "        out = self(images)                    # Generate predictions\n",
    "        loss = F.cross_entropy(out, labels)   # Calculate loss\n",
    "        acc = accuracy(out, labels)           # Calculate accuracy\n",
    "        return {'val_loss': loss.detach(), 'val_acc': acc}\n",
    "        \n",
    "    def validation_epoch_end(self, outputs):\n",
    "        batch_losses = [x['val_loss'] for x in outputs]\n",
    "        epoch_loss = torch.stack(batch_losses).mean()   # Combine losses\n",
    "        batch_accs = [x['val_acc'] for x in outputs]\n",
    "        epoch_acc = torch.stack(batch_accs).mean()      # Combine accuracies\n",
    "        return {'val_loss': epoch_loss.item(), 'val_acc': epoch_acc.item()}\n",
    "    \n",
    "    def epoch_end(self, epoch, result):\n",
    "        print(\"Epoch [{}], train_loss: {:.4f}, val_loss: {:.4f}, val_acc: {:.4f}\".format(\n",
    "            epoch, result['train_loss'], result['val_loss'], result['val_acc']))"
   ]
  },
  {
   "cell_type": "code",
   "execution_count": 4,
   "id": "65013293",
   "metadata": {},
   "outputs": [],
   "source": [
    "class NotreModeleClassification(ImageClassificationBase):\n",
    "    def __init__(self):\n",
    "        super().__init__()\n",
    "        self.network = nn.Sequential(\n",
    "            \n",
    "            nn.Conv2d(3,32, kernel_size = (3,3)),\n",
    "            nn.LeakyReLU(),\n",
    "            nn.MaxPool2d(2,2),\n",
    "            nn.Conv2d(32,64, kernel_size = (3,3)),\n",
    "            nn.LeakyReLU(),\n",
    "            nn.MaxPool2d(2,2),\n",
    "        \n",
    "            nn.Conv2d(64, 128, kernel_size = (3,3)),\n",
    "            nn.LeakyReLU(),\n",
    "            nn.MaxPool2d(2,2),\n",
    "            nn.Conv2d(128,128, kernel_size = (3,3)),\n",
    "            nn.LeakyReLU(),\n",
    "            nn.MaxPool2d(2,2),\n",
    "            \n",
    "            nn.Flatten(),\n",
    "            nn.Dropout(p=0.5),\n",
    "            nn.Linear(128*7*7, 512),\n",
    "            nn.LeakyReLU(),\n",
    "            nn.Linear(512, 2),\n",
    "            nn.LeakyReLU(),\n",
    "        )\n",
    "    \n",
    "    def forward(self, xb):\n",
    "        return self.network(xb)"
   ]
  },
  {
   "cell_type": "code",
   "execution_count": 5,
   "id": "f01c7821",
   "metadata": {},
   "outputs": [],
   "source": [
    "def accuracy(outputs, labels):\n",
    "    _, preds = torch.max(outputs, dim=1)\n",
    "    return torch.tensor(torch.sum(preds == labels).item() / len(preds))\n",
    "\n",
    "  \n",
    "@torch.no_grad()\n",
    "def evaluate(model, val_loader):\n",
    "    model.eval()\n",
    "    nb_etape = 0\n",
    "    outputs = []\n",
    "    for batch in val_loader:\n",
    "        nb_etape = nb_etape + 1\n",
    "        outputs.append(model.validation_step(batch))\n",
    "        if nb_etape == 50:\n",
    "            break\n",
    "            \n",
    "    return model.validation_epoch_end(outputs)\n",
    "\n",
    "  \n",
    "def fit(epochs, lr, model, train_loader, val_loader, opt_func = torch.optim.SGD):\n",
    "    \n",
    "    history = []\n",
    "    optimizer = opt_func(model.parameters(),lr)\n",
    "    for epoch in range(epochs):\n",
    "        \n",
    "        model.train()\n",
    "        train_losses = []\n",
    "        nb_etape = 0\n",
    "        \n",
    "        for batch in train_loader:\n",
    "            loss = model.training_step(batch)\n",
    "            train_losses.append(loss)\n",
    "            loss.backward()\n",
    "            optimizer.step()\n",
    "            optimizer.zero_grad()\n",
    "            nb_etape = nb_etape+1\n",
    "            if nb_etape == 100:\n",
    "                break\n",
    "                \n",
    "        result = evaluate(model, val_loader)\n",
    "        result['train_loss'] = torch.stack(train_losses).mean().item()\n",
    "        model.epoch_end(epoch, result)\n",
    "        history.append(result)\n",
    "    \n",
    "    return history"
   ]
  },
  {
   "cell_type": "code",
   "execution_count": 6,
   "id": "efe1c9c8",
   "metadata": {},
   "outputs": [
    {
     "name": "stdout",
     "output_type": "stream",
     "text": [
      "Epoch [0], train_loss: 0.6980, val_loss: 0.6931, val_acc: 0.4910\n",
      "Epoch [1], train_loss: 0.6902, val_loss: 0.6918, val_acc: 0.6800\n",
      "Epoch [2], train_loss: 0.6720, val_loss: 0.5973, val_acc: 0.7190\n",
      "Epoch [3], train_loss: 0.5771, val_loss: 0.5776, val_acc: 0.6880\n",
      "Epoch [4], train_loss: 0.5127, val_loss: 0.5128, val_acc: 0.7470\n",
      "Epoch [5], train_loss: 0.4360, val_loss: 0.3719, val_acc: 0.8370\n",
      "Epoch [6], train_loss: 0.4158, val_loss: 0.3395, val_acc: 0.8640\n",
      "Epoch [7], train_loss: 0.3723, val_loss: 0.2998, val_acc: 0.8820\n",
      "Epoch [8], train_loss: 0.3596, val_loss: 0.2926, val_acc: 0.8610\n",
      "Epoch [9], train_loss: 0.3373, val_loss: 0.3083, val_acc: 0.8770\n",
      "Epoch [10], train_loss: 0.3113, val_loss: 0.2722, val_acc: 0.8860\n",
      "Epoch [11], train_loss: 0.3023, val_loss: 0.2619, val_acc: 0.8890\n",
      "Epoch [12], train_loss: 0.2610, val_loss: 0.2580, val_acc: 0.8890\n",
      "Epoch [13], train_loss: 0.2418, val_loss: 0.2285, val_acc: 0.9120\n",
      "Epoch [14], train_loss: 0.2614, val_loss: 0.2212, val_acc: 0.9210\n",
      "Epoch [15], train_loss: 0.2418, val_loss: 0.2261, val_acc: 0.8950\n",
      "Epoch [16], train_loss: 0.2344, val_loss: 0.2107, val_acc: 0.9160\n",
      "Epoch [17], train_loss: 0.2030, val_loss: 0.1975, val_acc: 0.9200\n",
      "Epoch [18], train_loss: 0.2066, val_loss: 0.1899, val_acc: 0.9320\n",
      "Epoch [19], train_loss: 0.1947, val_loss: 0.2084, val_acc: 0.9250\n",
      "Epoch [20], train_loss: 0.1879, val_loss: 0.1846, val_acc: 0.9150\n",
      "Epoch [21], train_loss: 0.1904, val_loss: 0.1790, val_acc: 0.9310\n",
      "Epoch [22], train_loss: 0.1832, val_loss: 0.1734, val_acc: 0.9280\n",
      "Epoch [23], train_loss: 0.1841, val_loss: 0.1721, val_acc: 0.9340\n",
      "Epoch [24], train_loss: 0.1708, val_loss: 0.1573, val_acc: 0.9490\n",
      "Epoch [25], train_loss: 0.1685, val_loss: 0.1336, val_acc: 0.9490\n",
      "Epoch [26], train_loss: 0.1789, val_loss: 0.1442, val_acc: 0.9470\n",
      "Epoch [27], train_loss: 0.1562, val_loss: 0.1348, val_acc: 0.9420\n",
      "Epoch [28], train_loss: 0.1486, val_loss: 0.1480, val_acc: 0.9400\n",
      "Epoch [29], train_loss: 0.1474, val_loss: 0.1439, val_acc: 0.9390\n"
     ]
    }
   ],
   "source": [
    "model = NotreModeleClassification()\n",
    "num_epochs = 30\n",
    "\n",
    "#optimiseurs testés\n",
    "opt_RMS = optim.RMSprop\n",
    "opt_adamv = optim.AdamW\n",
    "opt_adad = optim.Adadelta\n",
    "opt_adam = optim.Adam\n",
    "\n",
    "#taux d'apprentissage\n",
    "lr = 1e-4\n",
    "\n",
    "#fit le modèle et on sort les résultats sur chaque epoch\n",
    "historyRMS = fit(num_epochs, lr, model, train_dataloader, validation_dataloader, opt_RMS)"
   ]
  },
  {
   "cell_type": "code",
   "execution_count": 7,
   "id": "45ae6a16",
   "metadata": {},
   "outputs": [
    {
     "name": "stdout",
     "output_type": "stream",
     "text": [
      "Epoch [0], train_loss: 0.1506, val_loss: 0.1218, val_acc: 0.9610\n",
      "Epoch [1], train_loss: 0.1244, val_loss: 0.1385, val_acc: 0.9420\n",
      "Epoch [2], train_loss: 0.1236, val_loss: 0.1212, val_acc: 0.9560\n",
      "Epoch [3], train_loss: 0.1314, val_loss: 0.1556, val_acc: 0.9470\n",
      "Epoch [4], train_loss: 0.1362, val_loss: 0.1738, val_acc: 0.9440\n",
      "Epoch [5], train_loss: 0.1179, val_loss: 0.1419, val_acc: 0.9420\n",
      "Epoch [6], train_loss: 0.1173, val_loss: 0.3222, val_acc: 0.8760\n",
      "Epoch [7], train_loss: 0.1309, val_loss: 0.1415, val_acc: 0.9460\n",
      "Epoch [8], train_loss: 0.1385, val_loss: 0.1379, val_acc: 0.9480\n",
      "Epoch [9], train_loss: 0.0971, val_loss: 0.1039, val_acc: 0.9630\n",
      "Epoch [10], train_loss: 0.0987, val_loss: 0.1203, val_acc: 0.9580\n",
      "Epoch [11], train_loss: 0.0912, val_loss: 0.1541, val_acc: 0.9430\n",
      "Epoch [12], train_loss: 0.1068, val_loss: 0.1686, val_acc: 0.9360\n",
      "Epoch [13], train_loss: 0.1119, val_loss: 0.0971, val_acc: 0.9640\n",
      "Epoch [14], train_loss: 0.0995, val_loss: 0.1430, val_acc: 0.9450\n",
      "Epoch [15], train_loss: 0.1042, val_loss: 0.1091, val_acc: 0.9620\n",
      "Epoch [16], train_loss: 0.0968, val_loss: 0.1303, val_acc: 0.9570\n",
      "Epoch [17], train_loss: 0.0932, val_loss: 0.1275, val_acc: 0.9530\n",
      "Epoch [18], train_loss: 0.1080, val_loss: 0.1032, val_acc: 0.9620\n",
      "Epoch [19], train_loss: 0.0940, val_loss: 0.1282, val_acc: 0.9530\n",
      "Epoch [20], train_loss: 0.1037, val_loss: 0.1427, val_acc: 0.9410\n",
      "Epoch [21], train_loss: 0.0869, val_loss: 0.0902, val_acc: 0.9710\n",
      "Epoch [22], train_loss: 0.0909, val_loss: 0.1109, val_acc: 0.9620\n",
      "Epoch [23], train_loss: 0.0916, val_loss: 0.1649, val_acc: 0.9430\n",
      "Epoch [24], train_loss: 0.1026, val_loss: 0.1070, val_acc: 0.9630\n",
      "Epoch [25], train_loss: 0.0849, val_loss: 0.1180, val_acc: 0.9650\n",
      "Epoch [26], train_loss: 0.0828, val_loss: 0.1012, val_acc: 0.9580\n",
      "Epoch [27], train_loss: 0.0800, val_loss: 0.0984, val_acc: 0.9650\n",
      "Epoch [28], train_loss: 0.0820, val_loss: 0.0816, val_acc: 0.9750\n",
      "Epoch [29], train_loss: 0.0691, val_loss: 0.1358, val_acc: 0.9530\n"
     ]
    }
   ],
   "source": [
    "historyAdamW = fit(num_epochs, lr, model, train_dataloader, validation_dataloader, opt_adamv)"
   ]
  },
  {
   "cell_type": "code",
   "execution_count": 8,
   "id": "56de01f4",
   "metadata": {},
   "outputs": [
    {
     "name": "stdout",
     "output_type": "stream",
     "text": [
      "Epoch [0], train_loss: 0.0763, val_loss: 0.1202, val_acc: 0.9600\n",
      "Epoch [1], train_loss: 0.0789, val_loss: 0.1165, val_acc: 0.9590\n",
      "Epoch [2], train_loss: 0.0790, val_loss: 0.1179, val_acc: 0.9600\n",
      "Epoch [3], train_loss: 0.0816, val_loss: 0.1094, val_acc: 0.9580\n",
      "Epoch [4], train_loss: 0.0709, val_loss: 0.1355, val_acc: 0.9530\n",
      "Epoch [5], train_loss: 0.0656, val_loss: 0.1084, val_acc: 0.9660\n",
      "Epoch [6], train_loss: 0.0743, val_loss: 0.1086, val_acc: 0.9660\n",
      "Epoch [7], train_loss: 0.0730, val_loss: 0.1082, val_acc: 0.9630\n",
      "Epoch [8], train_loss: 0.0888, val_loss: 0.1037, val_acc: 0.9670\n",
      "Epoch [9], train_loss: 0.0698, val_loss: 0.0965, val_acc: 0.9650\n",
      "Epoch [10], train_loss: 0.0680, val_loss: 0.0938, val_acc: 0.9710\n",
      "Epoch [11], train_loss: 0.0829, val_loss: 0.1135, val_acc: 0.9590\n",
      "Epoch [12], train_loss: 0.0793, val_loss: 0.0976, val_acc: 0.9660\n",
      "Epoch [13], train_loss: 0.0585, val_loss: 0.1096, val_acc: 0.9590\n",
      "Epoch [14], train_loss: 0.0573, val_loss: 0.0909, val_acc: 0.9640\n",
      "Epoch [15], train_loss: 0.0585, val_loss: 0.0970, val_acc: 0.9660\n",
      "Epoch [16], train_loss: 0.0662, val_loss: 0.1032, val_acc: 0.9610\n",
      "Epoch [17], train_loss: 0.0709, val_loss: 0.1123, val_acc: 0.9560\n",
      "Epoch [18], train_loss: 0.0679, val_loss: 0.0937, val_acc: 0.9620\n",
      "Epoch [19], train_loss: 0.0587, val_loss: 0.0889, val_acc: 0.9650\n",
      "Epoch [20], train_loss: 0.0703, val_loss: 0.0826, val_acc: 0.9640\n",
      "Epoch [21], train_loss: 0.0630, val_loss: 0.0992, val_acc: 0.9650\n",
      "Epoch [22], train_loss: 0.0578, val_loss: 0.0945, val_acc: 0.9660\n",
      "Epoch [23], train_loss: 0.0521, val_loss: 0.1008, val_acc: 0.9590\n",
      "Epoch [24], train_loss: 0.0584, val_loss: 0.1076, val_acc: 0.9600\n",
      "Epoch [25], train_loss: 0.0573, val_loss: 0.0999, val_acc: 0.9640\n",
      "Epoch [26], train_loss: 0.0636, val_loss: 0.1001, val_acc: 0.9630\n",
      "Epoch [27], train_loss: 0.0571, val_loss: 0.0853, val_acc: 0.9640\n",
      "Epoch [28], train_loss: 0.0662, val_loss: 0.0770, val_acc: 0.9680\n",
      "Epoch [29], train_loss: 0.0634, val_loss: 0.0953, val_acc: 0.9650\n"
     ]
    }
   ],
   "source": [
    "historyAdad = fit(num_epochs, lr, model, train_dataloader, validation_dataloader, opt_adad)"
   ]
  },
  {
   "cell_type": "code",
   "execution_count": 24,
   "id": "776ad095",
   "metadata": {},
   "outputs": [],
   "source": [
    "class SoftModeleClassification(ImageClassificationBase):\n",
    "    def __init__(self):\n",
    "        super().__init__()\n",
    "        self.network = nn.Sequential(\n",
    "            \n",
    "            nn.Conv2d(3,32, kernel_size = (3,3)),\n",
    "            nn.Softplus(),\n",
    "            nn.MaxPool2d(2,2),\n",
    "            nn.Conv2d(32,64, kernel_size = (3,3)),\n",
    "            nn.Softplus(),\n",
    "            nn.MaxPool2d(2,2),\n",
    "        \n",
    "            nn.Conv2d(64, 128, kernel_size = (3,3)),\n",
    "            nn.Softplus(),\n",
    "            nn.MaxPool2d(2,2),\n",
    "            nn.Conv2d(128,128, kernel_size = (3,3)),\n",
    "            nn.Softplus(),\n",
    "            nn.MaxPool2d(2,2),\n",
    "            \n",
    "            nn.Flatten(),\n",
    "            nn.Dropout(p=0.5),\n",
    "            nn.Linear(128*7*7, 512),\n",
    "            nn.Softplus(),\n",
    "            nn.Linear(512, 2),\n",
    "            nn.Softplus(),\n",
    "        )\n",
    "    \n",
    "    def forward(self, xb):\n",
    "        return self.network(xb)"
   ]
  },
  {
   "cell_type": "code",
   "execution_count": 10,
   "id": "9674f941",
   "metadata": {},
   "outputs": [],
   "source": [
    "class tanModeleClassification(ImageClassificationBase):\n",
    "    def __init__(self):\n",
    "        super().__init__()\n",
    "        self.network = nn.Sequential(\n",
    "            \n",
    "            nn.Conv2d(3,32, kernel_size = (3,3)),\n",
    "            nn.Tanh(),\n",
    "            nn.MaxPool2d(2,2),\n",
    "            nn.Conv2d(32,64, kernel_size = (3,3)),\n",
    "            nn.Tanh(),\n",
    "            nn.MaxPool2d(2,2),\n",
    "        \n",
    "            nn.Conv2d(64, 128, kernel_size = (3,3)),\n",
    "            nn.Tanh(),\n",
    "            nn.MaxPool2d(2,2),\n",
    "            nn.Conv2d(128,128, kernel_size = (3,3)),\n",
    "            nn.Tanh(),\n",
    "            nn.MaxPool2d(2,2),\n",
    "            \n",
    "            nn.Flatten(),\n",
    "            nn.Dropout(p=0.5),\n",
    "            nn.Linear(128*7*7, 512),\n",
    "            nn.Tanh(),\n",
    "            nn.Linear(512, 2),\n",
    "            nn.Tanh(),\n",
    "        )\n",
    "    \n",
    "    def forward(self, xb):\n",
    "        return self.network(xb)"
   ]
  },
  {
   "cell_type": "code",
   "execution_count": 13,
   "id": "11a75b29",
   "metadata": {},
   "outputs": [
    {
     "name": "stdout",
     "output_type": "stream",
     "text": [
      "Epoch [0], train_loss: 0.0879, val_loss: 0.1033, val_acc: 0.9590\n",
      "Epoch [1], train_loss: 0.0833, val_loss: 0.0982, val_acc: 0.9600\n",
      "Epoch [2], train_loss: 0.0850, val_loss: 0.0924, val_acc: 0.9680\n",
      "Epoch [3], train_loss: 0.0652, val_loss: 0.0965, val_acc: 0.9660\n",
      "Epoch [4], train_loss: 0.0721, val_loss: 0.1105, val_acc: 0.9640\n",
      "Epoch [5], train_loss: 0.0801, val_loss: 0.0983, val_acc: 0.9670\n",
      "Epoch [6], train_loss: 0.0742, val_loss: 0.0948, val_acc: 0.9740\n",
      "Epoch [7], train_loss: 0.0854, val_loss: 0.0879, val_acc: 0.9670\n",
      "Epoch [8], train_loss: 0.0737, val_loss: 0.1046, val_acc: 0.9630\n",
      "Epoch [9], train_loss: 0.0608, val_loss: 0.0992, val_acc: 0.9610\n",
      "Epoch [10], train_loss: 0.0641, val_loss: 0.0908, val_acc: 0.9680\n",
      "Epoch [11], train_loss: 0.0713, val_loss: 0.1313, val_acc: 0.9550\n",
      "Epoch [12], train_loss: 0.0626, val_loss: 0.1030, val_acc: 0.9610\n",
      "Epoch [13], train_loss: 0.0685, val_loss: 0.1081, val_acc: 0.9590\n",
      "Epoch [14], train_loss: 0.0588, val_loss: 0.0864, val_acc: 0.9710\n",
      "Epoch [15], train_loss: 0.0777, val_loss: 0.0851, val_acc: 0.9660\n",
      "Epoch [16], train_loss: 0.0459, val_loss: 0.1137, val_acc: 0.9630\n",
      "Epoch [17], train_loss: 0.0681, val_loss: 0.1026, val_acc: 0.9590\n",
      "Epoch [18], train_loss: 0.0562, val_loss: 0.1463, val_acc: 0.9470\n",
      "Epoch [19], train_loss: 0.0843, val_loss: 0.0887, val_acc: 0.9730\n",
      "Epoch [20], train_loss: 0.0565, val_loss: 0.0823, val_acc: 0.9680\n",
      "Epoch [21], train_loss: 0.0534, val_loss: 0.0975, val_acc: 0.9710\n",
      "Epoch [22], train_loss: 0.0671, val_loss: 0.1329, val_acc: 0.9600\n",
      "Epoch [23], train_loss: 0.0776, val_loss: 0.1157, val_acc: 0.9610\n",
      "Epoch [24], train_loss: 0.0432, val_loss: 0.0911, val_acc: 0.9710\n",
      "Epoch [25], train_loss: 0.0540, val_loss: 0.1015, val_acc: 0.9670\n",
      "Epoch [26], train_loss: 0.0472, val_loss: 0.0996, val_acc: 0.9660\n",
      "Epoch [27], train_loss: 0.0572, val_loss: 0.0888, val_acc: 0.9690\n",
      "Epoch [28], train_loss: 0.0440, val_loss: 0.0915, val_acc: 0.9670\n",
      "Epoch [29], train_loss: 0.0491, val_loss: 0.0860, val_acc: 0.9710\n"
     ]
    }
   ],
   "source": [
    "opt_adam = optim.Adam\n",
    "history = fit(num_epochs, lr, model, train_dataloader, validation_dataloader, opt_adam)"
   ]
  },
  {
   "cell_type": "code",
   "execution_count": 14,
   "id": "31c53407",
   "metadata": {},
   "outputs": [
    {
     "name": "stdout",
     "output_type": "stream",
     "text": [
      "Epoch [0], train_loss: 0.6933, val_loss: 0.6931, val_acc: 0.5710\n",
      "Epoch [1], train_loss: 0.6707, val_loss: 0.6041, val_acc: 0.7100\n",
      "Epoch [2], train_loss: 0.4894, val_loss: 0.4417, val_acc: 0.7870\n",
      "Epoch [3], train_loss: 0.4234, val_loss: 0.3678, val_acc: 0.8460\n",
      "Epoch [4], train_loss: 0.3584, val_loss: 0.3266, val_acc: 0.8650\n",
      "Epoch [5], train_loss: 0.3167, val_loss: 0.2661, val_acc: 0.9000\n",
      "Epoch [6], train_loss: 0.2677, val_loss: 0.4846, val_acc: 0.7830\n",
      "Epoch [7], train_loss: 0.2661, val_loss: 0.2366, val_acc: 0.9050\n",
      "Epoch [8], train_loss: 0.2886, val_loss: 0.2951, val_acc: 0.8680\n",
      "Epoch [9], train_loss: 0.2371, val_loss: 0.2352, val_acc: 0.8980\n",
      "Epoch [10], train_loss: 0.2032, val_loss: 0.1860, val_acc: 0.9280\n",
      "Epoch [11], train_loss: 0.2127, val_loss: 0.2102, val_acc: 0.9120\n",
      "Epoch [12], train_loss: 0.1998, val_loss: 0.2017, val_acc: 0.9240\n",
      "Epoch [13], train_loss: 0.1934, val_loss: 0.1647, val_acc: 0.9470\n",
      "Epoch [14], train_loss: 0.1820, val_loss: 0.3582, val_acc: 0.8550\n",
      "Epoch [15], train_loss: 0.1545, val_loss: 0.1672, val_acc: 0.9300\n",
      "Epoch [16], train_loss: 0.1707, val_loss: 0.1536, val_acc: 0.9350\n",
      "Epoch [17], train_loss: 0.1929, val_loss: 0.1653, val_acc: 0.9270\n",
      "Epoch [18], train_loss: 0.1596, val_loss: 0.1731, val_acc: 0.9250\n",
      "Epoch [19], train_loss: 0.1668, val_loss: 0.1528, val_acc: 0.9380\n",
      "Epoch [20], train_loss: 0.1419, val_loss: 0.1468, val_acc: 0.9380\n",
      "Epoch [21], train_loss: 0.1551, val_loss: 0.1532, val_acc: 0.9450\n",
      "Epoch [22], train_loss: 0.1588, val_loss: 0.1879, val_acc: 0.9300\n",
      "Epoch [23], train_loss: 0.1402, val_loss: 0.1268, val_acc: 0.9500\n",
      "Epoch [24], train_loss: 0.1524, val_loss: 0.1579, val_acc: 0.9370\n",
      "Epoch [25], train_loss: 0.1335, val_loss: 0.1515, val_acc: 0.9350\n",
      "Epoch [26], train_loss: 0.1252, val_loss: 0.1254, val_acc: 0.9460\n",
      "Epoch [27], train_loss: 0.1453, val_loss: 0.1774, val_acc: 0.9340\n",
      "Epoch [28], train_loss: 0.1453, val_loss: 0.1762, val_acc: 0.9390\n",
      "Epoch [29], train_loss: 0.1396, val_loss: 0.1629, val_acc: 0.9380\n"
     ]
    }
   ],
   "source": [
    "tanmodel = tanModeleClassification()\n",
    "tanhistory = fit(num_epochs, lr, tanmodel, train_dataloader, validation_dataloader, opt_adam)"
   ]
  },
  {
   "cell_type": "code",
   "execution_count": 29,
   "id": "8d31b6fa",
   "metadata": {},
   "outputs": [
    {
     "name": "stdout",
     "output_type": "stream",
     "text": [
      "Epoch [0], train_loss: 0.6951, val_loss: 0.6930, val_acc: 0.5130\n",
      "Epoch [1], train_loss: 0.6933, val_loss: 0.6931, val_acc: 0.5150\n"
     ]
    },
    {
     "ename": "KeyboardInterrupt",
     "evalue": "",
     "output_type": "error",
     "traceback": [
      "\u001b[1;31m---------------------------------------------------------------------------\u001b[0m",
      "\u001b[1;31mKeyboardInterrupt\u001b[0m                         Traceback (most recent call last)",
      "Input \u001b[1;32mIn [29]\u001b[0m, in \u001b[0;36m<cell line: 2>\u001b[1;34m()\u001b[0m\n\u001b[0;32m      1\u001b[0m softmodel \u001b[38;5;241m=\u001b[39m SoftModeleClassification()\n\u001b[1;32m----> 2\u001b[0m softhistory \u001b[38;5;241m=\u001b[39m \u001b[43mfit\u001b[49m\u001b[43m(\u001b[49m\u001b[43mnum_epochs\u001b[49m\u001b[43m,\u001b[49m\u001b[43m \u001b[49m\u001b[43mlr\u001b[49m\u001b[43m,\u001b[49m\u001b[43m \u001b[49m\u001b[43msoftmodel\u001b[49m\u001b[43m,\u001b[49m\u001b[43m \u001b[49m\u001b[43mtrain_dataloader\u001b[49m\u001b[43m,\u001b[49m\u001b[43m \u001b[49m\u001b[43mvalidation_dataloader\u001b[49m\u001b[43m,\u001b[49m\u001b[43m \u001b[49m\u001b[43mopt_adam\u001b[49m\u001b[43m)\u001b[49m\n",
      "Input \u001b[1;32mIn [5]\u001b[0m, in \u001b[0;36mfit\u001b[1;34m(epochs, lr, model, train_loader, val_loader, opt_func)\u001b[0m\n\u001b[0;32m     28\u001b[0m nb_etape \u001b[38;5;241m=\u001b[39m \u001b[38;5;241m0\u001b[39m\n\u001b[0;32m     30\u001b[0m \u001b[38;5;28;01mfor\u001b[39;00m batch \u001b[38;5;129;01min\u001b[39;00m train_loader:\n\u001b[1;32m---> 31\u001b[0m     loss \u001b[38;5;241m=\u001b[39m \u001b[43mmodel\u001b[49m\u001b[38;5;241;43m.\u001b[39;49m\u001b[43mtraining_step\u001b[49m\u001b[43m(\u001b[49m\u001b[43mbatch\u001b[49m\u001b[43m)\u001b[49m\n\u001b[0;32m     32\u001b[0m     train_losses\u001b[38;5;241m.\u001b[39mappend(loss)\n\u001b[0;32m     33\u001b[0m     loss\u001b[38;5;241m.\u001b[39mbackward()\n",
      "Input \u001b[1;32mIn [3]\u001b[0m, in \u001b[0;36mImageClassificationBase.training_step\u001b[1;34m(self, batch)\u001b[0m\n\u001b[0;32m      3\u001b[0m \u001b[38;5;28;01mdef\u001b[39;00m \u001b[38;5;21mtraining_step\u001b[39m(\u001b[38;5;28mself\u001b[39m, batch):\n\u001b[0;32m      4\u001b[0m     images, labels \u001b[38;5;241m=\u001b[39m batch \n\u001b[1;32m----> 5\u001b[0m     out \u001b[38;5;241m=\u001b[39m \u001b[38;5;28;43mself\u001b[39;49m\u001b[43m(\u001b[49m\u001b[43mimages\u001b[49m\u001b[43m)\u001b[49m                  \u001b[38;5;66;03m# Generate predictions\u001b[39;00m\n\u001b[0;32m      6\u001b[0m     loss \u001b[38;5;241m=\u001b[39m F\u001b[38;5;241m.\u001b[39mcross_entropy(out, labels) \u001b[38;5;66;03m# Calculate loss\u001b[39;00m\n\u001b[0;32m      7\u001b[0m     \u001b[38;5;28;01mreturn\u001b[39;00m loss\n",
      "File \u001b[1;32m~\\anaconda3\\lib\\site-packages\\torch\\nn\\modules\\module.py:1130\u001b[0m, in \u001b[0;36mModule._call_impl\u001b[1;34m(self, *input, **kwargs)\u001b[0m\n\u001b[0;32m   1126\u001b[0m \u001b[38;5;66;03m# If we don't have any hooks, we want to skip the rest of the logic in\u001b[39;00m\n\u001b[0;32m   1127\u001b[0m \u001b[38;5;66;03m# this function, and just call forward.\u001b[39;00m\n\u001b[0;32m   1128\u001b[0m \u001b[38;5;28;01mif\u001b[39;00m \u001b[38;5;129;01mnot\u001b[39;00m (\u001b[38;5;28mself\u001b[39m\u001b[38;5;241m.\u001b[39m_backward_hooks \u001b[38;5;129;01mor\u001b[39;00m \u001b[38;5;28mself\u001b[39m\u001b[38;5;241m.\u001b[39m_forward_hooks \u001b[38;5;129;01mor\u001b[39;00m \u001b[38;5;28mself\u001b[39m\u001b[38;5;241m.\u001b[39m_forward_pre_hooks \u001b[38;5;129;01mor\u001b[39;00m _global_backward_hooks\n\u001b[0;32m   1129\u001b[0m         \u001b[38;5;129;01mor\u001b[39;00m _global_forward_hooks \u001b[38;5;129;01mor\u001b[39;00m _global_forward_pre_hooks):\n\u001b[1;32m-> 1130\u001b[0m     \u001b[38;5;28;01mreturn\u001b[39;00m forward_call(\u001b[38;5;241m*\u001b[39m\u001b[38;5;28minput\u001b[39m, \u001b[38;5;241m*\u001b[39m\u001b[38;5;241m*\u001b[39mkwargs)\n\u001b[0;32m   1131\u001b[0m \u001b[38;5;66;03m# Do not call functions when jit is used\u001b[39;00m\n\u001b[0;32m   1132\u001b[0m full_backward_hooks, non_full_backward_hooks \u001b[38;5;241m=\u001b[39m [], []\n",
      "Input \u001b[1;32mIn [24]\u001b[0m, in \u001b[0;36mSoftModeleClassification.forward\u001b[1;34m(self, xb)\u001b[0m\n\u001b[0;32m     28\u001b[0m \u001b[38;5;28;01mdef\u001b[39;00m \u001b[38;5;21mforward\u001b[39m(\u001b[38;5;28mself\u001b[39m, xb):\n\u001b[1;32m---> 29\u001b[0m     \u001b[38;5;28;01mreturn\u001b[39;00m \u001b[38;5;28;43mself\u001b[39;49m\u001b[38;5;241;43m.\u001b[39;49m\u001b[43mnetwork\u001b[49m\u001b[43m(\u001b[49m\u001b[43mxb\u001b[49m\u001b[43m)\u001b[49m\n",
      "File \u001b[1;32m~\\anaconda3\\lib\\site-packages\\torch\\nn\\modules\\module.py:1130\u001b[0m, in \u001b[0;36mModule._call_impl\u001b[1;34m(self, *input, **kwargs)\u001b[0m\n\u001b[0;32m   1126\u001b[0m \u001b[38;5;66;03m# If we don't have any hooks, we want to skip the rest of the logic in\u001b[39;00m\n\u001b[0;32m   1127\u001b[0m \u001b[38;5;66;03m# this function, and just call forward.\u001b[39;00m\n\u001b[0;32m   1128\u001b[0m \u001b[38;5;28;01mif\u001b[39;00m \u001b[38;5;129;01mnot\u001b[39;00m (\u001b[38;5;28mself\u001b[39m\u001b[38;5;241m.\u001b[39m_backward_hooks \u001b[38;5;129;01mor\u001b[39;00m \u001b[38;5;28mself\u001b[39m\u001b[38;5;241m.\u001b[39m_forward_hooks \u001b[38;5;129;01mor\u001b[39;00m \u001b[38;5;28mself\u001b[39m\u001b[38;5;241m.\u001b[39m_forward_pre_hooks \u001b[38;5;129;01mor\u001b[39;00m _global_backward_hooks\n\u001b[0;32m   1129\u001b[0m         \u001b[38;5;129;01mor\u001b[39;00m _global_forward_hooks \u001b[38;5;129;01mor\u001b[39;00m _global_forward_pre_hooks):\n\u001b[1;32m-> 1130\u001b[0m     \u001b[38;5;28;01mreturn\u001b[39;00m forward_call(\u001b[38;5;241m*\u001b[39m\u001b[38;5;28minput\u001b[39m, \u001b[38;5;241m*\u001b[39m\u001b[38;5;241m*\u001b[39mkwargs)\n\u001b[0;32m   1131\u001b[0m \u001b[38;5;66;03m# Do not call functions when jit is used\u001b[39;00m\n\u001b[0;32m   1132\u001b[0m full_backward_hooks, non_full_backward_hooks \u001b[38;5;241m=\u001b[39m [], []\n",
      "File \u001b[1;32m~\\anaconda3\\lib\\site-packages\\torch\\nn\\modules\\container.py:139\u001b[0m, in \u001b[0;36mSequential.forward\u001b[1;34m(self, input)\u001b[0m\n\u001b[0;32m    137\u001b[0m \u001b[38;5;28;01mdef\u001b[39;00m \u001b[38;5;21mforward\u001b[39m(\u001b[38;5;28mself\u001b[39m, \u001b[38;5;28minput\u001b[39m):\n\u001b[0;32m    138\u001b[0m     \u001b[38;5;28;01mfor\u001b[39;00m module \u001b[38;5;129;01min\u001b[39;00m \u001b[38;5;28mself\u001b[39m:\n\u001b[1;32m--> 139\u001b[0m         \u001b[38;5;28minput\u001b[39m \u001b[38;5;241m=\u001b[39m \u001b[43mmodule\u001b[49m\u001b[43m(\u001b[49m\u001b[38;5;28;43minput\u001b[39;49m\u001b[43m)\u001b[49m\n\u001b[0;32m    140\u001b[0m     \u001b[38;5;28;01mreturn\u001b[39;00m \u001b[38;5;28minput\u001b[39m\n",
      "File \u001b[1;32m~\\anaconda3\\lib\\site-packages\\torch\\nn\\modules\\module.py:1130\u001b[0m, in \u001b[0;36mModule._call_impl\u001b[1;34m(self, *input, **kwargs)\u001b[0m\n\u001b[0;32m   1126\u001b[0m \u001b[38;5;66;03m# If we don't have any hooks, we want to skip the rest of the logic in\u001b[39;00m\n\u001b[0;32m   1127\u001b[0m \u001b[38;5;66;03m# this function, and just call forward.\u001b[39;00m\n\u001b[0;32m   1128\u001b[0m \u001b[38;5;28;01mif\u001b[39;00m \u001b[38;5;129;01mnot\u001b[39;00m (\u001b[38;5;28mself\u001b[39m\u001b[38;5;241m.\u001b[39m_backward_hooks \u001b[38;5;129;01mor\u001b[39;00m \u001b[38;5;28mself\u001b[39m\u001b[38;5;241m.\u001b[39m_forward_hooks \u001b[38;5;129;01mor\u001b[39;00m \u001b[38;5;28mself\u001b[39m\u001b[38;5;241m.\u001b[39m_forward_pre_hooks \u001b[38;5;129;01mor\u001b[39;00m _global_backward_hooks\n\u001b[0;32m   1129\u001b[0m         \u001b[38;5;129;01mor\u001b[39;00m _global_forward_hooks \u001b[38;5;129;01mor\u001b[39;00m _global_forward_pre_hooks):\n\u001b[1;32m-> 1130\u001b[0m     \u001b[38;5;28;01mreturn\u001b[39;00m forward_call(\u001b[38;5;241m*\u001b[39m\u001b[38;5;28minput\u001b[39m, \u001b[38;5;241m*\u001b[39m\u001b[38;5;241m*\u001b[39mkwargs)\n\u001b[0;32m   1131\u001b[0m \u001b[38;5;66;03m# Do not call functions when jit is used\u001b[39;00m\n\u001b[0;32m   1132\u001b[0m full_backward_hooks, non_full_backward_hooks \u001b[38;5;241m=\u001b[39m [], []\n",
      "File \u001b[1;32m~\\anaconda3\\lib\\site-packages\\torch\\nn\\modules\\activation.py:838\u001b[0m, in \u001b[0;36mSoftplus.forward\u001b[1;34m(self, input)\u001b[0m\n\u001b[0;32m    837\u001b[0m \u001b[38;5;28;01mdef\u001b[39;00m \u001b[38;5;21mforward\u001b[39m(\u001b[38;5;28mself\u001b[39m, \u001b[38;5;28minput\u001b[39m: Tensor) \u001b[38;5;241m-\u001b[39m\u001b[38;5;241m>\u001b[39m Tensor:\n\u001b[1;32m--> 838\u001b[0m     \u001b[38;5;28;01mreturn\u001b[39;00m \u001b[43mF\u001b[49m\u001b[38;5;241;43m.\u001b[39;49m\u001b[43msoftplus\u001b[49m\u001b[43m(\u001b[49m\u001b[38;5;28;43minput\u001b[39;49m\u001b[43m,\u001b[49m\u001b[43m \u001b[49m\u001b[38;5;28;43mself\u001b[39;49m\u001b[38;5;241;43m.\u001b[39;49m\u001b[43mbeta\u001b[49m\u001b[43m,\u001b[49m\u001b[43m \u001b[49m\u001b[38;5;28;43mself\u001b[39;49m\u001b[38;5;241;43m.\u001b[39;49m\u001b[43mthreshold\u001b[49m\u001b[43m)\u001b[49m\n",
      "\u001b[1;31mKeyboardInterrupt\u001b[0m: "
     ]
    }
   ],
   "source": [
    "softmodel = SoftModeleClassification()\n",
    "softhistory = fit(num_epochs, lr, softmodel, train_dataloader, validation_dataloader, opt_adam)"
   ]
  },
  {
   "cell_type": "code",
   "execution_count": 15,
   "id": "2292ad29",
   "metadata": {},
   "outputs": [],
   "source": [
    "import torchsummary"
   ]
  },
  {
   "cell_type": "code",
   "execution_count": 16,
   "id": "84e80e34",
   "metadata": {},
   "outputs": [],
   "source": [
    "import matplotlib.pyplot as plt"
   ]
  },
  {
   "cell_type": "code",
   "execution_count": 17,
   "id": "4b5ada5f",
   "metadata": {},
   "outputs": [
    {
     "name": "stdout",
     "output_type": "stream",
     "text": [
      "----------------------------------------------------------------\n",
      "        Layer (type)               Output Shape         Param #\n",
      "================================================================\n",
      "            Conv2d-1         [-1, 32, 148, 148]             896\n",
      "         LeakyReLU-2         [-1, 32, 148, 148]               0\n",
      "         MaxPool2d-3           [-1, 32, 74, 74]               0\n",
      "            Conv2d-4           [-1, 64, 72, 72]          18,496\n",
      "              ReLU-5           [-1, 64, 72, 72]               0\n",
      "         MaxPool2d-6           [-1, 64, 36, 36]               0\n",
      "            Conv2d-7          [-1, 128, 34, 34]          73,856\n",
      "         LeakyReLU-8          [-1, 128, 34, 34]               0\n",
      "         MaxPool2d-9          [-1, 128, 17, 17]               0\n",
      "           Conv2d-10          [-1, 128, 15, 15]         147,584\n",
      "        LeakyReLU-11          [-1, 128, 15, 15]               0\n",
      "        MaxPool2d-12            [-1, 128, 7, 7]               0\n",
      "          Flatten-13                 [-1, 6272]               0\n",
      "          Dropout-14                 [-1, 6272]               0\n",
      "           Linear-15                  [-1, 512]       3,211,776\n",
      "        LeakyReLU-16                  [-1, 512]               0\n",
      "           Linear-17                    [-1, 2]           1,026\n",
      "        LeakyReLU-18                    [-1, 2]               0\n",
      "================================================================\n",
      "Total params: 3,453,634\n",
      "Trainable params: 3,453,634\n",
      "Non-trainable params: 0\n",
      "----------------------------------------------------------------\n",
      "Input size (MB): 0.26\n",
      "Forward/backward pass size (MB): 20.86\n",
      "Params size (MB): 13.17\n",
      "Estimated Total Size (MB): 34.29\n",
      "----------------------------------------------------------------\n"
     ]
    }
   ],
   "source": [
    "torchsummary.summary(model, (3, 150, 150))"
   ]
  },
  {
   "cell_type": "code",
   "execution_count": 18,
   "id": "8f5c30f6",
   "metadata": {},
   "outputs": [
    {
     "name": "stdout",
     "output_type": "stream",
     "text": [
      "----------------------------------------------------------------\n",
      "        Layer (type)               Output Shape         Param #\n",
      "================================================================\n",
      "            Conv2d-1         [-1, 32, 148, 148]             896\n",
      "         LeakyReLU-2         [-1, 32, 148, 148]               0\n",
      "         MaxPool2d-3           [-1, 32, 74, 74]               0\n",
      "            Conv2d-4           [-1, 64, 72, 72]          18,496\n",
      "              ReLU-5           [-1, 64, 72, 72]               0\n",
      "         MaxPool2d-6           [-1, 64, 36, 36]               0\n",
      "            Conv2d-7          [-1, 128, 34, 34]          73,856\n",
      "         LeakyReLU-8          [-1, 128, 34, 34]               0\n",
      "         MaxPool2d-9          [-1, 128, 17, 17]               0\n",
      "           Conv2d-10          [-1, 128, 15, 15]         147,584\n",
      "        LeakyReLU-11          [-1, 128, 15, 15]               0\n",
      "        MaxPool2d-12            [-1, 128, 7, 7]               0\n",
      "          Flatten-13                 [-1, 6272]               0\n",
      "          Dropout-14                 [-1, 6272]               0\n",
      "           Linear-15                  [-1, 512]       3,211,776\n",
      "        LeakyReLU-16                  [-1, 512]               0\n",
      "           Linear-17                    [-1, 2]           1,026\n",
      "        LeakyReLU-18                    [-1, 2]               0\n",
      "================================================================\n",
      "Total params: 3,453,634\n",
      "Trainable params: 3,453,634\n",
      "Non-trainable params: 0\n",
      "----------------------------------------------------------------\n",
      "Input size (MB): 0.26\n",
      "Forward/backward pass size (MB): 20.86\n",
      "Params size (MB): 13.17\n",
      "Estimated Total Size (MB): 34.29\n",
      "----------------------------------------------------------------\n"
     ]
    }
   ],
   "source": [
    "torchsummary.summary(tanmodel, (3, 150, 150))"
   ]
  },
  {
   "cell_type": "code",
   "execution_count": 19,
   "id": "acebf638",
   "metadata": {},
   "outputs": [
    {
     "ename": "NameError",
     "evalue": "name 'softmodel' is not defined",
     "output_type": "error",
     "traceback": [
      "\u001b[1;31m---------------------------------------------------------------------------\u001b[0m",
      "\u001b[1;31mNameError\u001b[0m                                 Traceback (most recent call last)",
      "Input \u001b[1;32mIn [19]\u001b[0m, in \u001b[0;36m<cell line: 1>\u001b[1;34m()\u001b[0m\n\u001b[1;32m----> 1\u001b[0m torchsummary\u001b[38;5;241m.\u001b[39msummary(\u001b[43msoftmodel\u001b[49m, (\u001b[38;5;241m3\u001b[39m, \u001b[38;5;241m150\u001b[39m, \u001b[38;5;241m150\u001b[39m))\n",
      "\u001b[1;31mNameError\u001b[0m: name 'softmodel' is not defined"
     ]
    }
   ],
   "source": [
    "torchsummary.summary(softmodel, (3, 150, 150))"
   ]
  },
  {
   "cell_type": "code",
   "execution_count": null,
   "id": "b3f0aa38",
   "metadata": {},
   "outputs": [],
   "source": []
  },
  {
   "cell_type": "code",
   "execution_count": 30,
   "id": "768000ce",
   "metadata": {},
   "outputs": [],
   "source": [
    "def plot_accuracies(history):\n",
    "    \"\"\" Plot the history of accuracies\"\"\"\n",
    "    accuracies = [x['val_acc'] for x in history]\n",
    "    plt.plot(accuracies, '-x')\n",
    "    plt.xlabel('epoch')\n",
    "    plt.ylabel('accuracy')\n",
    "    plt.title('Accuracy vs. No. of epochs');\n",
    "    \n",
    "def plot_losses(history):\n",
    "    \"\"\" Plot the losses in each epoch\"\"\"\n",
    "    train_losses = [x.get('train_loss') for x in history]\n",
    "    val_losses = [x['val_loss'] for x in history]\n",
    "    plt.plot(train_losses, '-bx')\n",
    "    plt.plot(val_losses, '-rx')\n",
    "    plt.xlabel('epoch')\n",
    "    plt.ylabel('loss')\n",
    "    plt.legend(['Training', 'Validation'])\n",
    "    plt.title('Loss vs. No. of epochs');"
   ]
  },
  {
   "cell_type": "code",
   "execution_count": 31,
   "id": "f2fdd2d2",
   "metadata": {},
   "outputs": [
    {
     "data": {
      "image/png": "[encoded data removed]",
      "text/plain": [
       "<Figure size 432x288 with 1 Axes>"
      ]
     },
     "metadata": {
      "needs_background": "light"
     },
     "output_type": "display_data"
    }
   ],
   "source": [
    "plot_accuracies(history)\n",
    "plot_losses(history)"
   ]
  },
  {
   "cell_type": "code",
   "execution_count": 32,
   "id": "e7641f7f",
   "metadata": {},
   "outputs": [
    {
     "data": {
      "image/png": "[encoded data removed]",
      "text/plain": [
       "<Figure size 432x288 with 1 Axes>"
      ]
     },
     "metadata": {
      "needs_background": "light"
     },
     "output_type": "display_data"
    }
   ],
   "source": [
    "plot_accuracies(historyRMS)\n",
    "plot_losses(historyRMS)"
   ]
  },
  {
   "cell_type": "code",
   "execution_count": 33,
   "id": "d582a053",
   "metadata": {},
   "outputs": [
    {
     "data": {
      "image/png": "[encoded data removed]",
      "text/plain": [
       "<Figure size 432x288 with 1 Axes>"
      ]
     },
     "metadata": {
      "needs_background": "light"
     },
     "output_type": "display_data"
    }
   ],
   "source": [
    "plot_accuracies(historyAdamW)\n",
    "plot_losses(historyAdamW)"
   ]
  },
  {
   "cell_type": "code",
   "execution_count": 34,
   "id": "f25a9fe2",
   "metadata": {},
   "outputs": [
    {
     "data": {
      "image/png": "[encoded data removed]",
      "text/plain": [
       "<Figure size 432x288 with 1 Axes>"
      ]
     },
     "metadata": {
      "needs_background": "light"
     },
     "output_type": "display_data"
    }
   ],
   "source": [
    "plot_accuracies(historyAdad)\n",
    "plot_losses(historyAdad)"
   ]
  },
  {
   "cell_type": "code",
   "execution_count": 35,
   "id": "1b3b12b7",
   "metadata": {},
   "outputs": [
    {
     "ename": "NameError",
     "evalue": "name 'softhistory' is not defined",
     "output_type": "error",
     "traceback": [
      "\u001b[1;31m---------------------------------------------------------------------------\u001b[0m",
      "\u001b[1;31mNameError\u001b[0m                                 Traceback (most recent call last)",
      "Input \u001b[1;32mIn [35]\u001b[0m, in \u001b[0;36m<cell line: 1>\u001b[1;34m()\u001b[0m\n\u001b[1;32m----> 1\u001b[0m plot_accuracies(\u001b[43msofthistory\u001b[49m)\n\u001b[0;32m      2\u001b[0m plot_losses(softhistory)\n",
      "\u001b[1;31mNameError\u001b[0m: name 'softhistory' is not defined"
     ]
    }
   ],
   "source": [
    "plot_accuracies(softhistory)\n",
    "plot_losses(softhistory)"
   ]
  },
  {
   "cell_type": "code",
   "execution_count": 37,
   "id": "f19b3999",
   "metadata": {},
   "outputs": [
    {
     "data": {
      "image/png": "[encoded data removed]",
      "text/plain": [
       "<Figure size 432x288 with 1 Axes>"
      ]
     },
     "metadata": {
      "needs_background": "light"
     },
     "output_type": "display_data"
    }
   ],
   "source": [
    "plot_accuracies(tanhistory)\n",
    "plot_losses(tanhistory)"
   ]
  },
  {
   "cell_type": "code",
   "execution_count": null,
   "id": "904c77e9",
   "metadata": {},
   "outputs": [],
   "source": []
  }
 ],
 "metadata": {
  "kernelspec": {
   "display_name": "Python 3 (ipykernel)",
   "language": "python",
   "name": "python3"
  },
  "language_info": {
   "codemirror_mode": {
    "name": "ipython",
    "version": 3
   },
   "file_extension": ".py",
   "mimetype": "text/x-python",
   "name": "python",
   "nbconvert_exporter": "python",
   "pygments_lexer": "ipython3",
   "version": "3.9.12"
  }
 },
 "nbformat": 4,
 "nbformat_minor": 5
}
