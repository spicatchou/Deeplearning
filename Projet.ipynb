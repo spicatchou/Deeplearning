{
 "cells": [
  {
   "attachments": {},
   "cell_type": "markdown",
   "metadata": {},
   "source": [
    "# PACKAGES"
   ]
  },
  {
   "cell_type": "code",
   "execution_count": 14,
   "metadata": {},
   "outputs": [],
   "source": [
    "import os\n",
    "import torch\n",
    "from torchvision import datasets, transforms\n",
    "from torch.utils.data import DataLoader"
   ]
  },
  {
   "attachments": {},
   "cell_type": "markdown",
   "metadata": {},
   "source": [
    "# DONNEES"
   ]
  },
  {
   "cell_type": "code",
   "execution_count": 7,
   "metadata": {},
   "outputs": [
    {
     "name": "stdout",
     "output_type": "stream",
     "text": [
      "total training damage images:  5000\n",
      "total validation damage images:  1000\n",
      "total test damage images:  8000\n",
      "total training no damage images:  5000\n",
      "total validation no damage images:  1000\n",
      "total test no damage images:  1000\n"
     ]
    }
   ],
   "source": [
    "print('total training damage images: ',len(os.listdir(\"./train_another/damage\")))\n",
    "print('total validation damage images: ',len(os.listdir(\"./validation_another/damage\")))\n",
    "print('total test damage images: ',len(os.listdir(\"./test_another/damage\")))\n",
    "print('total training no damage images: ',len(os.listdir(\"./train_another/no_damage\")))\n",
    "print('total validation no damage images: ',len(os.listdir(\"./validation_another/no_damage\")))\n",
    "print('total test no damage images: ',len(os.listdir(\"./test_another/no_damage\")))"
   ]
  },
  {
   "cell_type": "code",
   "execution_count": 17,
   "metadata": {},
   "outputs": [],
   "source": [
    "transform = transforms.Compose([transforms.Resize(255),\n",
    "                                 transforms.CenterCrop(224),\n",
    "                                 transforms.ToTensor()])\n",
    "batch_size = 5000\n",
    "\n",
    "df_train = datasets.ImageFolder(\"./train_another\",transform=transform)\n",
    "train_dataloader = DataLoader(dataset=df_train, batch_size=batch_size, shuffle=True)\n",
    "\n",
    "df_test = datasets.ImageFolder(\"./test_another\",transform=transform)\n",
    "test_dataloader = DataLoader(dataset=df_test, batch_size=batch_size, shuffle=True)\n",
    "\n",
    "df_validation = datasets.ImageFolder(\"./validation_another\",transform=transform)\n",
    "test_dataloader = DataLoader(dataset=df_validation, batch_size=batch_size, shuffle=True)"
   ]
  }
 ],
 "metadata": {
  "kernelspec": {
   "display_name": "base",
   "language": "python",
   "name": "python3"
  },
  "language_info": {
   "codemirror_mode": {
    "name": "ipython",
    "version": 3
   },
   "file_extension": ".py",
   "mimetype": "text/x-python",
   "name": "python",
   "nbconvert_exporter": "python",
   "pygments_lexer": "ipython3",
   "version": "3.9.13"
  },
  "orig_nbformat": 4,
  "vscode": {
   "interpreter": {
    "hash": "43846aba58453b3fc7a3ceda9f4997b299ab26354919d73b0d9b0c9dbd4441fc"
   }
  }
 },
 "nbformat": 4,
 "nbformat_minor": 2
}
