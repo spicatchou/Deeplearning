{
 "cells": [
  {
   "attachments": {},
   "cell_type": "markdown",
   "metadata": {},
   "source": [
    "# PROJET DEEP LEARNING"
   ]
  },
  {
   "attachments": {},
   "cell_type": "markdown",
   "metadata": {},
   "source": [
    "## IMPORTATION DES MODULES"
   ]
  },
  {
   "cell_type": "code",
   "execution_count": 1,
   "metadata": {},
   "outputs": [],
   "source": [
    "import os\n",
    "import torch\n",
    "from torchvision import datasets, transforms\n",
    "from torch.utils.data import DataLoader\n",
    "import matplotlib.pyplot as plt\n",
    "import torch.nn as nn\n",
    "import torch.nn.functional as F\n",
    "from torchsummary import summary\n",
    "import torchvision\n",
    "import numpy as np"
   ]
  },
  {
   "attachments": {},
   "cell_type": "markdown",
   "metadata": {},
   "source": [
    "## PRE-TRAITEMENT DES DONNEES"
   ]
  },
  {
   "cell_type": "code",
   "execution_count": 2,
   "metadata": {},
   "outputs": [
    {
     "name": "stdout",
     "output_type": "stream",
     "text": [
      "total training damage images:  5000\n",
      "total validation damage images:  1000\n",
      "total test damage images:  8000\n",
      "total training no damage images:  5000\n",
      "total validation no damage images:  1000\n",
      "total test no damage images:  1000\n"
     ]
    }
   ],
   "source": [
    "print('total training damage images: ',len(os.listdir(\"./train_another/damage\")))\n",
    "print('total validation damage images: ',len(os.listdir(\"./validation_another/damage\")))\n",
    "print('total test damage images: ',len(os.listdir(\"./test_another/damage\")))\n",
    "print('total training no damage images: ',len(os.listdir(\"./train_another/no_damage\")))\n",
    "print('total validation no damage images: ',len(os.listdir(\"./validation_another/no_damage\")))\n",
    "print('total test no damage images: ',len(os.listdir(\"./test_another/no_damage\")))"
   ]
  },
  {
   "attachments": {},
   "cell_type": "markdown",
   "metadata": {},
   "source": [
    "### Importation des images en séparant en jeu train / test / validation"
   ]
  },
  {
   "cell_type": "code",
   "execution_count": 2,
   "metadata": {},
   "outputs": [],
   "source": [
    "transform = transforms.Compose([transforms.Resize((150,150)),\n",
    "                                 transforms.ToTensor()])\n",
    "batch_size = 20\n",
    "\n",
    "df_train = datasets.ImageFolder(\"./train_another\",transform=transform)\n",
    "train_dataloader = DataLoader(dataset=df_train, batch_size=batch_size, shuffle=True, num_workers = 4 , pin_memory = True)\n",
    "\n",
    "df_test = datasets.ImageFolder(\"./test_another\",transform=transform)\n",
    "test_dataloader = DataLoader(dataset=df_test, batch_size=batch_size, shuffle=True,num_workers = 4 , pin_memory = True)\n",
    "\n",
    "df_validation = datasets.ImageFolder(\"./validation_another\",transform=transform)\n",
    "validation_dataloader = DataLoader(dataset=df_validation, batch_size=batch_size, shuffle=True,num_workers = 4 , pin_memory = True)"
   ]
  },
  {
   "attachments": {},
   "cell_type": "markdown",
   "metadata": {},
   "source": [
    "Essayons de visualiser les classes de nos images "
   ]
  },
  {
   "cell_type": "code",
   "execution_count": 5,
   "metadata": {},
   "outputs": [
    {
     "data": {
      "text/plain": [
       "['damage', 'no_damage']"
      ]
     },
     "execution_count": 5,
     "metadata": {},
     "output_type": "execute_result"
    }
   ],
   "source": [
    "df_validation.classes"
   ]
  },
  {
   "attachments": {},
   "cell_type": "markdown",
   "metadata": {},
   "source": [
    "## MODELISATION"
   ]
  },
  {
   "attachments": {},
   "cell_type": "markdown",
   "metadata": {},
   "source": [
    "### MODELE 1 : Reproduction du modèle de CAO & CHOE"
   ]
  },
  {
   "attachments": {},
   "cell_type": "markdown",
   "metadata": {},
   "source": [
    "#### Création de la classe qui va nous permettre de faire notre classification d'images"
   ]
  },
  {
   "cell_type": "code",
   "execution_count": 3,
   "metadata": {},
   "outputs": [],
   "source": [
    "class ImageClassificationBase(nn.Module):\n",
    "    \n",
    "    def training_step(self, batch):\n",
    "        images, labels = batch \n",
    "        out = self(images)                  # Generate predictions\n",
    "        loss = F.cross_entropy(out, labels) # Calculate loss\n",
    "        return loss\n",
    "    \n",
    "    def validation_step(self, batch):\n",
    "        images, labels = batch \n",
    "        out = self(images)                    # Generate predictions\n",
    "        loss = F.cross_entropy(out, labels)   # Calculate loss\n",
    "        acc = accuracy(out, labels)           # Calculate accuracy\n",
    "        return {'val_loss': loss.detach(), 'val_acc': acc}\n",
    "        \n",
    "    def validation_epoch_end(self, outputs):\n",
    "        batch_losses = [x['val_loss'] for x in outputs]\n",
    "        epoch_loss = torch.stack(batch_losses).mean()   # Combine losses\n",
    "        batch_accs = [x['val_acc'] for x in outputs]\n",
    "        epoch_acc = torch.stack(batch_accs).mean()      # Combine accuracies\n",
    "        return {'val_loss': epoch_loss.item(), 'val_acc': epoch_acc.item()}\n",
    "    \n",
    "    def epoch_end(self, epoch, result):\n",
    "        print(\"Epoch [{}], train_loss: {:.4f}, val_loss: {:.4f}, val_acc: {:.4f}\".format(\n",
    "            epoch, result['train_loss'], result['val_loss'], result['val_acc']))"
   ]
  },
  {
   "attachments": {},
   "cell_type": "markdown",
   "metadata": {},
   "source": [
    "#### Création de la classe qui va permettre de créer notre premier modèle"
   ]
  },
  {
   "cell_type": "code",
   "execution_count": 6,
   "metadata": {},
   "outputs": [],
   "source": [
    "class HurricaneClassification(ImageClassificationBase):\n",
    "    def __init__(self):\n",
    "        super().__init__()\n",
    "        self.network = nn.Sequential(\n",
    "            \n",
    "            nn.Conv2d(3,32, kernel_size = (3,3)),\n",
    "            nn.ReLU(),\n",
    "            nn.MaxPool2d(2,2),\n",
    "            nn.Conv2d(32,64, kernel_size = (3,3)),\n",
    "            nn.ReLU(),\n",
    "            nn.MaxPool2d(2,2),\n",
    "        \n",
    "            nn.Conv2d(64, 128, kernel_size = (3,3)),\n",
    "            nn.ReLU(),\n",
    "            nn.MaxPool2d(2,2),\n",
    "            nn.Conv2d(128,128, kernel_size = (3,3)),\n",
    "            nn.ReLU(),\n",
    "            nn.MaxPool2d(2,2),\n",
    "            \n",
    "            nn.Flatten(),\n",
    "            nn.Dropout(0.5),\n",
    "            nn.Linear(6272, 512),\n",
    "            nn.ReLU(),\n",
    "            nn.Linear(512, 2),\n",
    "            nn.ReLU(),\n",
    "        )\n",
    "    \n",
    "    def forward(self, xb):\n",
    "        return self.network(xb)"
   ]
  },
  {
   "attachments": {},
   "cell_type": "markdown",
   "metadata": {},
   "source": [
    "#### Création des fonctions qui vont permettre d'évaluer notre modèle"
   ]
  },
  {
   "cell_type": "code",
   "execution_count": 4,
   "metadata": {},
   "outputs": [],
   "source": [
    "def accuracy(outputs, labels):\n",
    "    _, preds = torch.max(outputs, dim=1)\n",
    "    return torch.tensor(torch.sum(preds == labels).item() / len(preds))\n",
    "\n",
    "  \n",
    "@torch.no_grad()\n",
    "def evaluate(model, val_loader):\n",
    "    model.eval()\n",
    "    nb_etape = 0\n",
    "    outputs = []\n",
    "    for batch in val_loader:\n",
    "        nb_etape = nb_etape + 1\n",
    "        outputs.append(model.validation_step(batch))\n",
    "        if nb_etape == 50:\n",
    "            break\n",
    "            \n",
    "    return model.validation_epoch_end(outputs)\n",
    "\n",
    "  \n",
    "def fit(epochs, lr, model, train_loader, val_loader, opt_func = torch.optim.SGD):\n",
    "    \n",
    "    history = []\n",
    "    optimizer = opt_func(model.parameters(),lr)\n",
    "    for epoch in range(epochs):\n",
    "        \n",
    "        model.train()\n",
    "        train_losses = []\n",
    "        nb_etape = 0\n",
    "        \n",
    "        for batch in train_loader:\n",
    "            loss = model.training_step(batch)\n",
    "            train_losses.append(loss)\n",
    "            loss.backward()\n",
    "            optimizer.step()\n",
    "            optimizer.zero_grad()\n",
    "            nb_etape = nb_etape+1\n",
    "            if nb_etape == 100:\n",
    "                break\n",
    "                \n",
    "        result = evaluate(model, val_loader)\n",
    "        result['train_loss'] = torch.stack(train_losses).mean().item()\n",
    "        model.epoch_end(epoch, result)\n",
    "        history.append(result)\n",
    "    \n",
    "    return history, train_losses"
   ]
  },
  {
   "cell_type": "markdown",
   "metadata": {},
   "source": [
    "Fonction pour calculer la précision sur le jeu de données validation"
   ]
  },
  {
   "cell_type": "code",
   "execution_count": 5,
   "metadata": {},
   "outputs": [],
   "source": [
    "def val_CNN(net, valLoader):\n",
    "    correct, total = 0, 0\n",
    "    predictions = []\n",
    "    net.eval()\n",
    "    for i, data in enumerate(valLoader, 0):\n",
    "        inputs, labels = data\n",
    "        outputs = net(inputs)    \n",
    "        _, predicted = torch.max(outputs.data, 1)\n",
    "        predictions.append(outputs)\n",
    "        total += labels.size(0)\n",
    "        correct += (predicted == labels).sum().item()\n",
    "    print('The testing set accuracy of the network is: %d %%' % (100 * correct / total))"
   ]
  },
  {
   "cell_type": "markdown",
   "metadata": {},
   "source": [
    "Instanciation du modèle"
   ]
  },
  {
   "cell_type": "code",
   "execution_count": 22,
   "metadata": {},
   "outputs": [
    {
     "name": "stdout",
     "output_type": "stream",
     "text": [
      "Epoch [0], train_loss: 0.6821, val_loss: 0.6515, val_acc: 0.5650\n",
      "Epoch [1], train_loss: 0.6334, val_loss: 0.5907, val_acc: 0.8250\n",
      "Epoch [2], train_loss: 0.5575, val_loss: 0.6227, val_acc: 0.7550\n",
      "Epoch [3], train_loss: 0.5333, val_loss: 0.5010, val_acc: 0.8580\n",
      "Epoch [4], train_loss: 0.5103, val_loss: 0.4826, val_acc: 0.8700\n",
      "Epoch [5], train_loss: 0.5146, val_loss: 0.5591, val_acc: 0.8220\n",
      "Epoch [6], train_loss: 0.4572, val_loss: 0.4724, val_acc: 0.8850\n",
      "Epoch [7], train_loss: 0.4917, val_loss: 0.4612, val_acc: 0.8740\n",
      "Epoch [8], train_loss: 0.4732, val_loss: 0.4577, val_acc: 0.8810\n",
      "Epoch [9], train_loss: 0.4659, val_loss: 0.4786, val_acc: 0.8850\n",
      "Epoch [10], train_loss: 0.4610, val_loss: 0.4379, val_acc: 0.9030\n",
      "Epoch [11], train_loss: 0.4699, val_loss: 0.4426, val_acc: 0.8940\n",
      "Epoch [12], train_loss: 0.4499, val_loss: 0.4408, val_acc: 0.8970\n",
      "Epoch [13], train_loss: 0.4513, val_loss: 0.4420, val_acc: 0.9070\n",
      "Epoch [14], train_loss: 0.4375, val_loss: 0.4525, val_acc: 0.9000\n",
      "Epoch [15], train_loss: 0.4500, val_loss: 0.4490, val_acc: 0.8940\n",
      "Epoch [16], train_loss: 0.4485, val_loss: 0.4280, val_acc: 0.9120\n",
      "Epoch [17], train_loss: 0.4451, val_loss: 0.4436, val_acc: 0.9020\n",
      "Epoch [18], train_loss: 0.4432, val_loss: 0.4334, val_acc: 0.9130\n",
      "Epoch [19], train_loss: 0.4422, val_loss: 0.4435, val_acc: 0.9140\n",
      "Epoch [20], train_loss: 0.4365, val_loss: 0.4346, val_acc: 0.9180\n",
      "Epoch [21], train_loss: 0.4245, val_loss: 0.4473, val_acc: 0.9020\n",
      "Epoch [22], train_loss: 0.4319, val_loss: 0.4240, val_acc: 0.9120\n",
      "Epoch [23], train_loss: 0.4206, val_loss: 0.4389, val_acc: 0.9080\n",
      "Epoch [24], train_loss: 0.4439, val_loss: 0.4293, val_acc: 0.9140\n",
      "Epoch [25], train_loss: 0.4335, val_loss: 0.4695, val_acc: 0.8720\n",
      "Epoch [26], train_loss: 0.4281, val_loss: 0.4080, val_acc: 0.9220\n",
      "Epoch [27], train_loss: 0.4113, val_loss: 0.4267, val_acc: 0.9120\n",
      "Epoch [28], train_loss: 0.4259, val_loss: 0.4171, val_acc: 0.9150\n",
      "Epoch [29], train_loss: 0.4174, val_loss: 0.4384, val_acc: 0.9130\n",
      "Epoch [30], train_loss: 0.4213, val_loss: 0.4381, val_acc: 0.9010\n",
      "Epoch [31], train_loss: 0.4160, val_loss: 0.4349, val_acc: 0.9130\n",
      "Epoch [32], train_loss: 0.4115, val_loss: 0.4272, val_acc: 0.9190\n",
      "Epoch [33], train_loss: 0.4186, val_loss: 0.4093, val_acc: 0.9290\n",
      "Epoch [34], train_loss: 0.4273, val_loss: 0.4328, val_acc: 0.9230\n",
      "Epoch [35], train_loss: 0.4396, val_loss: 0.4241, val_acc: 0.9250\n",
      "Epoch [36], train_loss: 0.4346, val_loss: 0.4133, val_acc: 0.9230\n",
      "Epoch [37], train_loss: 0.4246, val_loss: 0.4083, val_acc: 0.9300\n",
      "Epoch [38], train_loss: 0.4132, val_loss: 0.4024, val_acc: 0.9310\n",
      "Epoch [39], train_loss: 0.4140, val_loss: 0.4195, val_acc: 0.9210\n",
      "Epoch [40], train_loss: 0.4198, val_loss: 0.4033, val_acc: 0.9360\n",
      "Epoch [41], train_loss: 0.4118, val_loss: 0.4677, val_acc: 0.8990\n",
      "Epoch [42], train_loss: 0.4263, val_loss: 0.4129, val_acc: 0.9190\n",
      "Epoch [43], train_loss: 0.4147, val_loss: 0.4187, val_acc: 0.9250\n",
      "Epoch [44], train_loss: 0.4000, val_loss: 0.4198, val_acc: 0.9200\n",
      "Epoch [45], train_loss: 0.4295, val_loss: 0.4073, val_acc: 0.9240\n",
      "Epoch [46], train_loss: 0.4060, val_loss: 0.4131, val_acc: 0.9320\n",
      "Epoch [47], train_loss: 0.4052, val_loss: 0.4100, val_acc: 0.9140\n",
      "Epoch [48], train_loss: 0.4039, val_loss: 0.4251, val_acc: 0.9210\n",
      "Epoch [49], train_loss: 0.4144, val_loss: 0.4011, val_acc: 0.9320\n"
     ]
    }
   ],
   "source": [
    "model = HurricaneClassification()\n",
    "num_epochs = 50\n",
    "opt_func = torch.optim.Adam\n",
    "lr = 1e-4\n",
    "#fitting the model on training data and record the result after each epoch\n",
    "history, loss = fit(num_epochs, lr, model, train_dataloader, validation_dataloader, opt_func)"
   ]
  },
  {
   "cell_type": "code",
   "execution_count": 62,
   "metadata": {},
   "outputs": [
    {
     "name": "stdout",
     "output_type": "stream",
     "text": [
      "----------------------------------------------------------------\n",
      "        Layer (type)               Output Shape         Param #\n",
      "================================================================\n",
      "            Conv2d-1         [-1, 32, 148, 148]             896\n",
      "              ReLU-2         [-1, 32, 148, 148]               0\n",
      "         MaxPool2d-3           [-1, 32, 74, 74]               0\n",
      "            Conv2d-4           [-1, 64, 72, 72]          18,496\n",
      "              ReLU-5           [-1, 64, 72, 72]               0\n",
      "         MaxPool2d-6           [-1, 64, 36, 36]               0\n",
      "            Conv2d-7          [-1, 128, 34, 34]          73,856\n",
      "              ReLU-8          [-1, 128, 34, 34]               0\n",
      "         MaxPool2d-9          [-1, 128, 17, 17]               0\n",
      "           Conv2d-10          [-1, 128, 15, 15]         147,584\n",
      "             ReLU-11          [-1, 128, 15, 15]               0\n",
      "        MaxPool2d-12            [-1, 128, 7, 7]               0\n",
      "          Flatten-13                 [-1, 6272]               0\n",
      "          Dropout-14                 [-1, 6272]               0\n",
      "           Linear-15                  [-1, 512]       3,211,776\n",
      "             ReLU-16                  [-1, 512]               0\n",
      "           Linear-17                    [-1, 2]           1,026\n",
      "             ReLU-18                    [-1, 2]               0\n",
      "================================================================\n",
      "Total params: 3,453,634\n",
      "Trainable params: 3,453,634\n",
      "Non-trainable params: 0\n",
      "----------------------------------------------------------------\n",
      "Input size (MB): 0.26\n",
      "Forward/backward pass size (MB): 20.86\n",
      "Params size (MB): 13.17\n",
      "Estimated Total Size (MB): 34.29\n",
      "----------------------------------------------------------------\n"
     ]
    }
   ],
   "source": [
    "summary(model,(3, 150, 150))"
   ]
  },
  {
   "attachments": {},
   "cell_type": "markdown",
   "metadata": {},
   "source": [
    "#### Sauvegarde du modèle"
   ]
  },
  {
   "cell_type": "code",
   "execution_count": null,
   "metadata": {},
   "outputs": [],
   "source": [
    "torch.save(model.state_dict(),\"model1\")"
   ]
  },
  {
   "attachments": {},
   "cell_type": "markdown",
   "metadata": {},
   "source": [
    "On crée également un sauvegarde de la variable loss pour éviter de la recharger en cas de crash à cause de matplotlib"
   ]
  },
  {
   "cell_type": "code",
   "execution_count": 64,
   "metadata": {},
   "outputs": [],
   "source": [
    "import pickle\n",
    "\n",
    "# sauvegarde\n",
    "with open(\"loss1\",\"wb\") as f:\n",
    "    pickle.dump(loss,f)\n",
    "\n",
    "\n",
    "\n"
   ]
  },
  {
   "cell_type": "code",
   "execution_count": 65,
   "metadata": {},
   "outputs": [],
   "source": [
    "# chargement\n",
    "with open(\"loss1\",\"rb\") as f:\n",
    "    loss_loaded = pickle.load(f)"
   ]
  },
  {
   "cell_type": "markdown",
   "metadata": {},
   "source": [
    "Le code pour l'affichage du plot est en commentaire car il arrive que matplotlib tue notre kernel"
   ]
  },
  {
   "cell_type": "code",
   "execution_count": 66,
   "metadata": {},
   "outputs": [
    {
     "name": "stdout",
     "output_type": "stream",
     "text": [
      "[tensor(0.4509, requires_grad=True), tensor(0.3548, requires_grad=True), tensor(0.5223, requires_grad=True), tensor(0.4511, requires_grad=True), tensor(0.3464, requires_grad=True), tensor(0.2550, requires_grad=True), tensor(0.5251, requires_grad=True), tensor(0.3134, requires_grad=True), tensor(0.3033, requires_grad=True), tensor(0.3829, requires_grad=True), tensor(0.3678, requires_grad=True), tensor(0.4022, requires_grad=True), tensor(0.2800, requires_grad=True), tensor(0.4875, requires_grad=True), tensor(0.2494, requires_grad=True), tensor(0.3815, requires_grad=True), tensor(0.4023, requires_grad=True), tensor(0.4261, requires_grad=True), tensor(0.3152, requires_grad=True), tensor(0.3257, requires_grad=True), tensor(0.6313, requires_grad=True), tensor(0.3922, requires_grad=True), tensor(0.3583, requires_grad=True), tensor(0.3142, requires_grad=True), tensor(0.5271, requires_grad=True), tensor(0.4069, requires_grad=True), tensor(0.3888, requires_grad=True), tensor(0.4729, requires_grad=True), tensor(0.2824, requires_grad=True), tensor(0.4586, requires_grad=True), tensor(0.4186, requires_grad=True), tensor(0.3631, requires_grad=True), tensor(0.4243, requires_grad=True), tensor(0.4224, requires_grad=True), tensor(0.3150, requires_grad=True), tensor(0.5640, requires_grad=True), tensor(0.3672, requires_grad=True), tensor(0.3576, requires_grad=True), tensor(0.4285, requires_grad=True), tensor(0.4775, requires_grad=True), tensor(0.5302, requires_grad=True), tensor(0.5245, requires_grad=True), tensor(0.4959, requires_grad=True), tensor(0.3422, requires_grad=True), tensor(0.3491, requires_grad=True), tensor(0.3833, requires_grad=True), tensor(0.4774, requires_grad=True), tensor(0.3839, requires_grad=True), tensor(0.5069, requires_grad=True), tensor(0.5006, requires_grad=True), tensor(0.3449, requires_grad=True), tensor(0.4321, requires_grad=True), tensor(0.4280, requires_grad=True), tensor(0.6287, requires_grad=True), tensor(0.4892, requires_grad=True), tensor(0.3467, requires_grad=True), tensor(0.4687, requires_grad=True), tensor(0.5023, requires_grad=True), tensor(0.3818, requires_grad=True), tensor(0.4588, requires_grad=True), tensor(0.1887, requires_grad=True), tensor(0.3149, requires_grad=True), tensor(0.5536, requires_grad=True), tensor(0.1863, requires_grad=True), tensor(0.4562, requires_grad=True), tensor(0.5617, requires_grad=True), tensor(0.4509, requires_grad=True), tensor(0.4652, requires_grad=True), tensor(0.2407, requires_grad=True), tensor(0.3277, requires_grad=True), tensor(0.4941, requires_grad=True), tensor(0.5382, requires_grad=True), tensor(0.4812, requires_grad=True), tensor(0.3993, requires_grad=True), tensor(0.4297, requires_grad=True), tensor(0.3530, requires_grad=True), tensor(0.3818, requires_grad=True), tensor(0.4855, requires_grad=True), tensor(0.3888, requires_grad=True), tensor(0.4823, requires_grad=True), tensor(0.4433, requires_grad=True), tensor(0.3258, requires_grad=True), tensor(0.3586, requires_grad=True), tensor(0.4195, requires_grad=True), tensor(0.2789, requires_grad=True), tensor(0.3156, requires_grad=True), tensor(0.3803, requires_grad=True), tensor(0.3502, requires_grad=True), tensor(0.5491, requires_grad=True), tensor(0.3860, requires_grad=True), tensor(0.4214, requires_grad=True), tensor(0.3547, requires_grad=True), tensor(0.5208, requires_grad=True), tensor(0.4168, requires_grad=True), tensor(0.6343, requires_grad=True), tensor(0.2705, requires_grad=True), tensor(0.5661, requires_grad=True), tensor(0.3561, requires_grad=True), tensor(0.4658, requires_grad=True), tensor(0.5564, requires_grad=True)]\n"
     ]
    }
   ],
   "source": [
    "loss_tensor = torch.stack(loss_loaded)\n",
    "loss_np=torch.detach(loss_tensor).numpy()\n",
    "\n",
    "#plt.plot(loss)\n",
    "#plt.xlabel('Itération')\n",
    "#plt.ylabel('Perte')\n",
    "#plt.show()"
   ]
  },
  {
   "cell_type": "code",
   "execution_count": 67,
   "metadata": {},
   "outputs": [
    {
     "name": "stdout",
     "output_type": "stream",
     "text": [
      "The accuracy of the network on the validation images is: 92 %\n"
     ]
    }
   ],
   "source": [
    "val_model1 = acc_val(model,validation_dataloader)"
   ]
  },
  {
   "attachments": {},
   "cell_type": "markdown",
   "metadata": {},
   "source": [
    "### MODELE 2 : Fine tuning VGG-19"
   ]
  },
  {
   "cell_type": "code",
   "execution_count": 14,
   "metadata": {},
   "outputs": [
    {
     "name": "stderr",
     "output_type": "stream",
     "text": [
      "c:\\Users\\spica\\anaconda3\\lib\\site-packages\\torchvision\\models\\_utils.py:208: UserWarning: The parameter 'pretrained' is deprecated since 0.13 and may be removed in the future, please use 'weights' instead.\n",
      "  warnings.warn(\n",
      "c:\\Users\\spica\\anaconda3\\lib\\site-packages\\torchvision\\models\\_utils.py:223: UserWarning: Arguments other than a weight enum or `None` for 'weights' are deprecated since 0.13 and may be removed in the future. The current behavior is equivalent to passing `weights=VGG19_Weights.IMAGENET1K_V1`. You can also use `weights=VGG19_Weights.DEFAULT` to get the most up-to-date weights.\n",
      "  warnings.warn(msg)\n"
     ]
    },
    {
     "name": "stdout",
     "output_type": "stream",
     "text": [
      "VGG(\n",
      "  (features): Sequential(\n",
      "    (0): Conv2d(3, 64, kernel_size=(3, 3), stride=(1, 1), padding=(1, 1))\n",
      "    (1): ReLU(inplace=True)\n",
      "    (2): Conv2d(64, 64, kernel_size=(3, 3), stride=(1, 1), padding=(1, 1))\n",
      "    (3): ReLU(inplace=True)\n",
      "    (4): MaxPool2d(kernel_size=2, stride=2, padding=0, dilation=1, ceil_mode=False)\n",
      "    (5): Conv2d(64, 128, kernel_size=(3, 3), stride=(1, 1), padding=(1, 1))\n",
      "    (6): ReLU(inplace=True)\n",
      "    (7): Conv2d(128, 128, kernel_size=(3, 3), stride=(1, 1), padding=(1, 1))\n",
      "    (8): ReLU(inplace=True)\n",
      "    (9): MaxPool2d(kernel_size=2, stride=2, padding=0, dilation=1, ceil_mode=False)\n",
      "    (10): Conv2d(128, 256, kernel_size=(3, 3), stride=(1, 1), padding=(1, 1))\n",
      "    (11): ReLU(inplace=True)\n",
      "    (12): Conv2d(256, 256, kernel_size=(3, 3), stride=(1, 1), padding=(1, 1))\n",
      "    (13): ReLU(inplace=True)\n",
      "    (14): Conv2d(256, 256, kernel_size=(3, 3), stride=(1, 1), padding=(1, 1))\n",
      "    (15): ReLU(inplace=True)\n",
      "    (16): Conv2d(256, 256, kernel_size=(3, 3), stride=(1, 1), padding=(1, 1))\n",
      "    (17): ReLU(inplace=True)\n",
      "    (18): MaxPool2d(kernel_size=2, stride=2, padding=0, dilation=1, ceil_mode=False)\n",
      "    (19): Conv2d(256, 512, kernel_size=(3, 3), stride=(1, 1), padding=(1, 1))\n",
      "    (20): ReLU(inplace=True)\n",
      "    (21): Conv2d(512, 512, kernel_size=(3, 3), stride=(1, 1), padding=(1, 1))\n",
      "    (22): ReLU(inplace=True)\n",
      "    (23): Conv2d(512, 512, kernel_size=(3, 3), stride=(1, 1), padding=(1, 1))\n",
      "    (24): ReLU(inplace=True)\n",
      "    (25): Conv2d(512, 512, kernel_size=(3, 3), stride=(1, 1), padding=(1, 1))\n",
      "    (26): ReLU(inplace=True)\n",
      "    (27): MaxPool2d(kernel_size=2, stride=2, padding=0, dilation=1, ceil_mode=False)\n",
      "    (28): Conv2d(512, 512, kernel_size=(3, 3), stride=(1, 1), padding=(1, 1))\n",
      "    (29): ReLU(inplace=True)\n",
      "    (30): Conv2d(512, 512, kernel_size=(3, 3), stride=(1, 1), padding=(1, 1))\n",
      "    (31): ReLU(inplace=True)\n",
      "    (32): Conv2d(512, 512, kernel_size=(3, 3), stride=(1, 1), padding=(1, 1))\n",
      "    (33): ReLU(inplace=True)\n",
      "    (34): Conv2d(512, 512, kernel_size=(3, 3), stride=(1, 1), padding=(1, 1))\n",
      "    (35): ReLU(inplace=True)\n",
      "    (36): MaxPool2d(kernel_size=2, stride=2, padding=0, dilation=1, ceil_mode=False)\n",
      "  )\n",
      "  (avgpool): AdaptiveAvgPool2d(output_size=(7, 7))\n",
      "  (classifier): Sequential(\n",
      "    (0): Linear(in_features=25088, out_features=4096, bias=True)\n",
      "    (1): ReLU(inplace=True)\n",
      "    (2): Dropout(p=0.5, inplace=False)\n",
      "    (3): Linear(in_features=4096, out_features=4096, bias=True)\n",
      "    (4): ReLU(inplace=True)\n",
      "    (5): Dropout(p=0.5, inplace=False)\n",
      "    (6): Linear(in_features=4096, out_features=1000, bias=True)\n",
      "  )\n",
      ")\n"
     ]
    }
   ],
   "source": [
    "model2 = torchvision.models.vgg19(pretrained=True)\n",
    "print(model2)"
   ]
  },
  {
   "cell_type": "code",
   "execution_count": 15,
   "metadata": {},
   "outputs": [
    {
     "name": "stdout",
     "output_type": "stream",
     "text": [
      "[1,   101] loss: 0.561\n",
      "[2,   101] loss: 0.459\n",
      "[3,   101] loss: 0.430\n",
      "[4,   101] loss: 0.278\n",
      "[5,   101] loss: 0.406\n",
      "[6,   101] loss: 0.122\n",
      "[7,   101] loss: 0.421\n",
      "[8,   101] loss: 0.447\n",
      "[9,   101] loss: 0.280\n",
      "[10,   101] loss: 0.244\n",
      "[11,   101] loss: 0.341\n",
      "[12,   101] loss: 0.464\n",
      "[13,   101] loss: 0.166\n",
      "[14,   101] loss: 0.304\n",
      "[15,   101] loss: 0.228\n",
      "[16,   101] loss: 0.271\n",
      "[17,   101] loss: 0.373\n",
      "[18,   101] loss: 0.301\n",
      "[19,   101] loss: 0.225\n",
      "[20,   101] loss: 0.398\n"
     ]
    }
   ],
   "source": [
    "num_classes = 1000\n",
    "\n",
    "# Verrouillage des couches du modèle (sauf la dernière) pour éviter leur mise à jour lors de l'entraînement\n",
    "for param in model2.parameters():\n",
    "    param.requires_grad = False\n",
    "\n",
    "# Modification du nombre de classes en sortie (par défaut 1000) si nécessaire\n",
    "model2.classifier[6] = torch.nn.Linear(in_features=4096, out_features=num_classes)\n",
    "\n",
    "# Déverrouillage de la dernière couche pour permettre son entraînement\n",
    "for param in model2.classifier[6].parameters():\n",
    "    param.requires_grad = True\n",
    "\n",
    "# Conversion en mode \"entraînement\"\n",
    "model2.train()\n",
    "\n",
    "# Préparation des transformateurs pour les données d'entraînement\n",
    "transform = transforms.Compose([\n",
    "    transforms.Resize(256),\n",
    "    transforms.CenterCrop(224),\n",
    "    transforms.ToTensor(),\n",
    "    transforms.Normalize(mean=[0.485, 0.456, 0.406],\n",
    "                         std=[0.229, 0.224, 0.225])\n",
    "])\n",
    "\n",
    "batch_size = 20\n",
    "num_epochs = 20\n",
    "\n",
    "trainset = torchvision.datasets.ImageFolder(root='./train_another', transform=transform)\n",
    "trainloader = torch.utils.data.DataLoader(trainset, batch_size=batch_size,\n",
    "                                          shuffle=True, num_workers=2)\n",
    "loss_values = []\n",
    "\n",
    "# Boucle d'entraînement\n",
    "for epoch in range(num_epochs):\n",
    "    for i, data in enumerate(trainloader, 0):\n",
    "        # Chargement des entrées et des étiquettes\n",
    "        inputs, labels = data\n",
    "        \n",
    "        # Calcul des sorties à l'aide de la méthode forward\n",
    "        outputs = model2(inputs)\n",
    "        \n",
    "        # Calcul de la perte\n",
    "        criterion = torch.nn.CrossEntropyLoss()\n",
    "        loss = criterion(outputs, labels)\n",
    "        \n",
    "        # Ajout de la perte à la liste\n",
    "        loss_values.append(loss.item())\n",
    "        # Calcul des gradients pour la rétropropagation\n",
    "        optimizer = torch.optim.SGD(model2.classifier[6].parameters(), lr=0.001, momentum=0.9)\n",
    "        optimizer.zero_grad()\n",
    "        loss.backward()\n",
    "        \n",
    "        # Mise à jour des paramètres du modèle\n",
    "        optimizer.step()\n",
    "        \n",
    "        # Affichage de la progression de l'entraînement toutes les 100 itérations\n",
    "        if i ==100:\n",
    "            print('[%d, %5d] loss: %.3f' %\n",
    "                  (epoch + 1, i + 1, loss.item()))\n",
    "            break"
   ]
  },
  {
   "attachments": {},
   "cell_type": "markdown",
   "metadata": {},
   "source": [
    "On sauvegarde le modèle"
   ]
  },
  {
   "cell_type": "code",
   "execution_count": 16,
   "metadata": {},
   "outputs": [],
   "source": [
    "torch.save(model2.state_dict(),\"model2\")"
   ]
  },
  {
   "cell_type": "code",
   "execution_count": 41,
   "metadata": {},
   "outputs": [],
   "source": [
    "import pickle\n",
    "\n",
    "# sauvegarde\n",
    "with open(\"loss_vgg19\", \"wb\") as f:\n",
    "    pickle.dump(loss_values, f)\n",
    "    \n",
    "# chargement\n",
    "with open(\"loss_vgg19\", \"rb\") as f:\n",
    "    loss2_loaded = pickle.load(f)"
   ]
  },
  {
   "attachments": {},
   "cell_type": "markdown",
   "metadata": {},
   "source": [
    "#### Courbe de gain"
   ]
  },
  {
   "cell_type": "code",
   "execution_count": 43,
   "metadata": {},
   "outputs": [
    {
     "data": {
      "image/png": "[encoded data removed]",
      "text/plain": [
       "<Figure size 640x480 with 1 Axes>"
      ]
     },
     "metadata": {},
     "output_type": "display_data"
    }
   ],
   "source": [
    "plt.plot(loss2_loaded)\n",
    "plt.xlabel('Itération')\n",
    "plt.ylabel('Perte')\n",
    "plt.show()"
   ]
  },
  {
   "cell_type": "code",
   "execution_count": 44,
   "metadata": {},
   "outputs": [
    {
     "name": "stdout",
     "output_type": "stream",
     "text": [
      "The testing set accuracy of the network is: 50 %\n"
     ]
    }
   ],
   "source": [
    "val_model2 = val_CNN(model2,validation_dataloader)"
   ]
  },
  {
   "attachments": {},
   "cell_type": "markdown",
   "metadata": {},
   "source": [
    "## Modèle 3 : Création de notre propre CNN"
   ]
  },
  {
   "cell_type": "code",
   "execution_count": 6,
   "metadata": {},
   "outputs": [],
   "source": [
    "class NotreModeleClassification(ImageClassificationBase):\n",
    "    def __init__(self):\n",
    "        super().__init__()\n",
    "        self.network = nn.Sequential(\n",
    "            \n",
    "            nn.Conv2d(3,32, kernel_size = (3,3)),\n",
    "            nn.LeakyReLU(),\n",
    "            nn.MaxPool2d(2,2),\n",
    "            nn.Conv2d(32,64, kernel_size = (3,3)),\n",
    "            nn.LeakyReLU(),\n",
    "            nn.MaxPool2d(2,2),\n",
    "        \n",
    "            nn.Conv2d(64, 128, kernel_size = (3,3)),\n",
    "            nn.LeakyReLU(),\n",
    "            nn.MaxPool2d(2,2),\n",
    "            nn.Conv2d(128,128, kernel_size = (3,3)),\n",
    "            nn.LeakyReLU(),\n",
    "            nn.MaxPool2d(2,2),\n",
    "            \n",
    "            nn.Flatten(),\n",
    "            nn.Dropout(p=0.5),\n",
    "            nn.Linear(128*7*7, 512),\n",
    "            nn.LeakyReLU(),\n",
    "            nn.Linear(512, 2),\n",
    "            nn.LeakyReLU(),\n",
    "        )\n",
    "    \n",
    "    def forward(self, xb):\n",
    "        return self.network(xb)"
   ]
  },
  {
   "attachments": {},
   "cell_type": "markdown",
   "metadata": {},
   "source": [
    "### MODELES DE MACHINE LEARNING"
   ]
  },
  {
   "attachments": {},
   "cell_type": "markdown",
   "metadata": {},
   "source": [
    "#### Extraction des features du modèles"
   ]
  },
  {
   "cell_type": "code",
   "execution_count": 25,
   "metadata": {},
   "outputs": [],
   "source": [
    "def extract_features(dataloader, model, n_sample, n_features):\n",
    "    features = np.zeros(shape=(n_sample,n_features))\n",
    "    batchSize = dataloader.batch_size\n",
    "    labels = np.zeros(shape = (n_sample))\n",
    "    i = 0\n",
    "    for inputs_batch, labels_batch in dataloader:\n",
    "        model.eval()\n",
    "        features_batch = model(inputs_batch).detach().numpy()\n",
    "        features[i * batchSize: (i + 1) * batchSize] = features_batch\n",
    "        labels[i * batchSize: (i + 1) * batchSize] = labels_batch\n",
    "        i += 1\n",
    "        if i * batchSize >= n_sample:\n",
    "            break\n",
    "    return features, labels"
   ]
  },
  {
   "attachments": {},
   "cell_type": "markdown",
   "metadata": {},
   "source": [
    "On regarde les outputs de notre modèle"
   ]
  },
  {
   "cell_type": "code",
   "execution_count": null,
   "metadata": {},
   "outputs": [],
   "source": [
    "summary(model, (3,150,150))"
   ]
  },
  {
   "cell_type": "code",
   "execution_count": 27,
   "metadata": {},
   "outputs": [],
   "source": [
    "x_train, y_train = extract_features(train_dataloader,model,10000,2)\n",
    "x_test, y_test = extract_features(validation_dataloader, model, 2000, 2)\n"
   ]
  },
  {
   "cell_type": "code",
   "execution_count": 43,
   "metadata": {},
   "outputs": [],
   "source": [
    "best_model = \"\"\n",
    "best_acc = 0"
   ]
  },
  {
   "attachments": {},
   "cell_type": "markdown",
   "metadata": {},
   "source": [
    "#### Modèle 1 : Arbres de décisions"
   ]
  },
  {
   "cell_type": "code",
   "execution_count": 44,
   "metadata": {},
   "outputs": [
    {
     "data": {
      "text/plain": [
       "DecisionTreeClassifier()"
      ]
     },
     "execution_count": 44,
     "metadata": {},
     "output_type": "execute_result"
    }
   ],
   "source": [
    "from sklearn.tree import DecisionTreeClassifier\n",
    "clf = DecisionTreeClassifier()\n",
    "clf.fit(x_train,y_train)"
   ]
  },
  {
   "cell_type": "code",
   "execution_count": 46,
   "metadata": {},
   "outputs": [
    {
     "name": "stdout",
     "output_type": "stream",
     "text": [
      "[[875 125]\n",
      " [150 850]]\n",
      "Précision : 0.8625\n",
      "DecisionTreeClassifier()\n"
     ]
    }
   ],
   "source": [
    "from sklearn.metrics import accuracy_score, confusion_matrix \n",
    "y_pred = clf.predict(x_test)\n",
    "print(confusion_matrix(y_test,y_pred))\n",
    "print(\"Précision : \" + str(accuracy_score(y_test,y_pred)))\n",
    "\n",
    "if accuracy_score(y_test,y_pred)>best_acc:\n",
    "    best_model = clf\n",
    "    best_acc = accuracy_score(y_test,y_pred)"
   ]
  },
  {
   "attachments": {},
   "cell_type": "markdown",
   "metadata": {},
   "source": [
    "#### Modèle 2 : Fôrets aléatoires + GridSearch"
   ]
  },
  {
   "cell_type": "code",
   "execution_count": 47,
   "metadata": {},
   "outputs": [
    {
     "name": "stdout",
     "output_type": "stream",
     "text": [
      "Fitting 5 folds for each of 44 candidates, totalling 220 fits\n",
      "[CV] END max_depth=10, min_samples_leaf=2, min_samples_split=2; total time=   0.5s\n",
      "[CV] END max_depth=10, min_samples_leaf=2, min_samples_split=2; total time=   0.5s\n",
      "[CV] END max_depth=10, min_samples_leaf=2, min_samples_split=2; total time=   0.4s\n",
      "[CV] END max_depth=10, min_samples_leaf=2, min_samples_split=2; total time=   0.5s\n",
      "[CV] END max_depth=10, min_samples_leaf=2, min_samples_split=2; total time=   0.4s\n",
      "[CV] END max_depth=10, min_samples_leaf=2, min_samples_split=3; total time=   0.4s\n",
      "[CV] END max_depth=10, min_samples_leaf=2, min_samples_split=3; total time=   0.4s\n",
      "[CV] END max_depth=10, min_samples_leaf=2, min_samples_split=3; total time=   0.4s\n",
      "[CV] END max_depth=10, min_samples_leaf=2, min_samples_split=3; total time=   0.4s\n",
      "[CV] END max_depth=10, min_samples_leaf=2, min_samples_split=3; total time=   0.4s\n",
      "[CV] END max_depth=10, min_samples_leaf=3, min_samples_split=2; total time=   0.4s\n",
      "[CV] END max_depth=10, min_samples_leaf=3, min_samples_split=2; total time=   0.4s\n",
      "[CV] END max_depth=10, min_samples_leaf=3, min_samples_split=2; total time=   0.4s\n",
      "[CV] END max_depth=10, min_samples_leaf=3, min_samples_split=2; total time=   0.4s\n",
      "[CV] END max_depth=10, min_samples_leaf=3, min_samples_split=2; total time=   0.4s\n",
      "[CV] END max_depth=10, min_samples_leaf=3, min_samples_split=3; total time=   0.4s\n",
      "[CV] END max_depth=10, min_samples_leaf=3, min_samples_split=3; total time=   0.4s\n",
      "[CV] END max_depth=10, min_samples_leaf=3, min_samples_split=3; total time=   0.4s\n",
      "[CV] END max_depth=10, min_samples_leaf=3, min_samples_split=3; total time=   0.4s\n",
      "[CV] END max_depth=10, min_samples_leaf=3, min_samples_split=3; total time=   0.4s\n",
      "[CV] END max_depth=11, min_samples_leaf=2, min_samples_split=2; total time=   0.4s\n",
      "[CV] END max_depth=11, min_samples_leaf=2, min_samples_split=2; total time=   0.4s\n",
      "[CV] END max_depth=11, min_samples_leaf=2, min_samples_split=2; total time=   0.4s\n",
      "[CV] END max_depth=11, min_samples_leaf=2, min_samples_split=2; total time=   0.5s\n",
      "[CV] END max_depth=11, min_samples_leaf=2, min_samples_split=2; total time=   0.4s\n",
      "[CV] END max_depth=11, min_samples_leaf=2, min_samples_split=3; total time=   0.4s\n",
      "[CV] END max_depth=11, min_samples_leaf=2, min_samples_split=3; total time=   0.4s\n",
      "[CV] END max_depth=11, min_samples_leaf=2, min_samples_split=3; total time=   0.4s\n",
      "[CV] END max_depth=11, min_samples_leaf=2, min_samples_split=3; total time=   0.4s\n",
      "[CV] END max_depth=11, min_samples_leaf=2, min_samples_split=3; total time=   0.4s\n",
      "[CV] END max_depth=11, min_samples_leaf=3, min_samples_split=2; total time=   0.4s\n",
      "[CV] END max_depth=11, min_samples_leaf=3, min_samples_split=2; total time=   0.4s\n",
      "[CV] END max_depth=11, min_samples_leaf=3, min_samples_split=2; total time=   0.4s\n",
      "[CV] END max_depth=11, min_samples_leaf=3, min_samples_split=2; total time=   0.4s\n",
      "[CV] END max_depth=11, min_samples_leaf=3, min_samples_split=2; total time=   0.4s\n",
      "[CV] END max_depth=11, min_samples_leaf=3, min_samples_split=3; total time=   0.4s\n",
      "[CV] END max_depth=11, min_samples_leaf=3, min_samples_split=3; total time=   0.4s\n",
      "[CV] END max_depth=11, min_samples_leaf=3, min_samples_split=3; total time=   0.4s\n",
      "[CV] END max_depth=11, min_samples_leaf=3, min_samples_split=3; total time=   0.4s\n",
      "[CV] END max_depth=11, min_samples_leaf=3, min_samples_split=3; total time=   0.4s\n",
      "[CV] END max_depth=12, min_samples_leaf=2, min_samples_split=2; total time=   0.4s\n",
      "[CV] END max_depth=12, min_samples_leaf=2, min_samples_split=2; total time=   0.4s\n",
      "[CV] END max_depth=12, min_samples_leaf=2, min_samples_split=2; total time=   0.4s\n",
      "[CV] END max_depth=12, min_samples_leaf=2, min_samples_split=2; total time=   0.4s\n",
      "[CV] END max_depth=12, min_samples_leaf=2, min_samples_split=2; total time=   0.4s\n",
      "[CV] END max_depth=12, min_samples_leaf=2, min_samples_split=3; total time=   0.4s\n",
      "[CV] END max_depth=12, min_samples_leaf=2, min_samples_split=3; total time=   0.4s\n",
      "[CV] END max_depth=12, min_samples_leaf=2, min_samples_split=3; total time=   0.4s\n",
      "[CV] END max_depth=12, min_samples_leaf=2, min_samples_split=3; total time=   0.4s\n",
      "[CV] END max_depth=12, min_samples_leaf=2, min_samples_split=3; total time=   0.4s\n",
      "[CV] END max_depth=12, min_samples_leaf=3, min_samples_split=2; total time=   0.4s\n",
      "[CV] END max_depth=12, min_samples_leaf=3, min_samples_split=2; total time=   0.4s\n",
      "[CV] END max_depth=12, min_samples_leaf=3, min_samples_split=2; total time=   0.4s\n",
      "[CV] END max_depth=12, min_samples_leaf=3, min_samples_split=2; total time=   0.4s\n",
      "[CV] END max_depth=12, min_samples_leaf=3, min_samples_split=2; total time=   0.4s\n",
      "[CV] END max_depth=12, min_samples_leaf=3, min_samples_split=3; total time=   0.4s\n",
      "[CV] END max_depth=12, min_samples_leaf=3, min_samples_split=3; total time=   0.4s\n",
      "[CV] END max_depth=12, min_samples_leaf=3, min_samples_split=3; total time=   0.4s\n",
      "[CV] END max_depth=12, min_samples_leaf=3, min_samples_split=3; total time=   0.4s\n",
      "[CV] END max_depth=12, min_samples_leaf=3, min_samples_split=3; total time=   0.4s\n",
      "[CV] END max_depth=13, min_samples_leaf=2, min_samples_split=2; total time=   0.4s\n",
      "[CV] END max_depth=13, min_samples_leaf=2, min_samples_split=2; total time=   0.4s\n",
      "[CV] END max_depth=13, min_samples_leaf=2, min_samples_split=2; total time=   0.5s\n",
      "[CV] END max_depth=13, min_samples_leaf=2, min_samples_split=2; total time=   0.5s\n",
      "[CV] END max_depth=13, min_samples_leaf=2, min_samples_split=2; total time=   0.5s\n",
      "[CV] END max_depth=13, min_samples_leaf=2, min_samples_split=3; total time=   0.4s\n",
      "[CV] END max_depth=13, min_samples_leaf=2, min_samples_split=3; total time=   0.4s\n",
      "[CV] END max_depth=13, min_samples_leaf=2, min_samples_split=3; total time=   0.4s\n",
      "[CV] END max_depth=13, min_samples_leaf=2, min_samples_split=3; total time=   0.5s\n",
      "[CV] END max_depth=13, min_samples_leaf=2, min_samples_split=3; total time=   0.5s\n",
      "[CV] END max_depth=13, min_samples_leaf=3, min_samples_split=2; total time=   0.4s\n",
      "[CV] END max_depth=13, min_samples_leaf=3, min_samples_split=2; total time=   0.4s\n",
      "[CV] END max_depth=13, min_samples_leaf=3, min_samples_split=2; total time=   0.4s\n",
      "[CV] END max_depth=13, min_samples_leaf=3, min_samples_split=2; total time=   0.5s\n",
      "[CV] END max_depth=13, min_samples_leaf=3, min_samples_split=2; total time=   0.4s\n",
      "[CV] END max_depth=13, min_samples_leaf=3, min_samples_split=3; total time=   0.4s\n",
      "[CV] END max_depth=13, min_samples_leaf=3, min_samples_split=3; total time=   0.4s\n",
      "[CV] END max_depth=13, min_samples_leaf=3, min_samples_split=3; total time=   0.4s\n",
      "[CV] END max_depth=13, min_samples_leaf=3, min_samples_split=3; total time=   0.4s\n",
      "[CV] END max_depth=13, min_samples_leaf=3, min_samples_split=3; total time=   0.5s\n",
      "[CV] END max_depth=14, min_samples_leaf=2, min_samples_split=2; total time=   0.4s\n",
      "[CV] END max_depth=14, min_samples_leaf=2, min_samples_split=2; total time=   0.5s\n",
      "[CV] END max_depth=14, min_samples_leaf=2, min_samples_split=2; total time=   0.5s\n",
      "[CV] END max_depth=14, min_samples_leaf=2, min_samples_split=2; total time=   0.5s\n",
      "[CV] END max_depth=14, min_samples_leaf=2, min_samples_split=2; total time=   0.5s\n",
      "[CV] END max_depth=14, min_samples_leaf=2, min_samples_split=3; total time=   0.4s\n",
      "[CV] END max_depth=14, min_samples_leaf=2, min_samples_split=3; total time=   0.5s\n",
      "[CV] END max_depth=14, min_samples_leaf=2, min_samples_split=3; total time=   0.5s\n",
      "[CV] END max_depth=14, min_samples_leaf=2, min_samples_split=3; total time=   0.5s\n",
      "[CV] END max_depth=14, min_samples_leaf=2, min_samples_split=3; total time=   0.5s\n",
      "[CV] END max_depth=14, min_samples_leaf=3, min_samples_split=2; total time=   0.4s\n",
      "[CV] END max_depth=14, min_samples_leaf=3, min_samples_split=2; total time=   0.4s\n",
      "[CV] END max_depth=14, min_samples_leaf=3, min_samples_split=2; total time=   0.4s\n",
      "[CV] END max_depth=14, min_samples_leaf=3, min_samples_split=2; total time=   0.5s\n",
      "[CV] END max_depth=14, min_samples_leaf=3, min_samples_split=2; total time=   0.5s\n",
      "[CV] END max_depth=14, min_samples_leaf=3, min_samples_split=3; total time=   0.4s\n",
      "[CV] END max_depth=14, min_samples_leaf=3, min_samples_split=3; total time=   0.5s\n",
      "[CV] END max_depth=14, min_samples_leaf=3, min_samples_split=3; total time=   0.4s\n",
      "[CV] END max_depth=14, min_samples_leaf=3, min_samples_split=3; total time=   0.5s\n",
      "[CV] END max_depth=14, min_samples_leaf=3, min_samples_split=3; total time=   0.4s\n",
      "[CV] END max_depth=15, min_samples_leaf=2, min_samples_split=2; total time=   0.5s\n",
      "[CV] END max_depth=15, min_samples_leaf=2, min_samples_split=2; total time=   0.5s\n",
      "[CV] END max_depth=15, min_samples_leaf=2, min_samples_split=2; total time=   0.5s\n",
      "[CV] END max_depth=15, min_samples_leaf=2, min_samples_split=2; total time=   0.5s\n",
      "[CV] END max_depth=15, min_samples_leaf=2, min_samples_split=2; total time=   0.5s\n",
      "[CV] END max_depth=15, min_samples_leaf=2, min_samples_split=3; total time=   0.5s\n",
      "[CV] END max_depth=15, min_samples_leaf=2, min_samples_split=3; total time=   0.5s\n",
      "[CV] END max_depth=15, min_samples_leaf=2, min_samples_split=3; total time=   0.5s\n",
      "[CV] END max_depth=15, min_samples_leaf=2, min_samples_split=3; total time=   0.5s\n",
      "[CV] END max_depth=15, min_samples_leaf=2, min_samples_split=3; total time=   0.5s\n",
      "[CV] END max_depth=15, min_samples_leaf=3, min_samples_split=2; total time=   0.4s\n",
      "[CV] END max_depth=15, min_samples_leaf=3, min_samples_split=2; total time=   0.4s\n",
      "[CV] END max_depth=15, min_samples_leaf=3, min_samples_split=2; total time=   0.5s\n",
      "[CV] END max_depth=15, min_samples_leaf=3, min_samples_split=2; total time=   0.5s\n",
      "[CV] END max_depth=15, min_samples_leaf=3, min_samples_split=2; total time=   0.4s\n",
      "[CV] END max_depth=15, min_samples_leaf=3, min_samples_split=3; total time=   0.5s\n",
      "[CV] END max_depth=15, min_samples_leaf=3, min_samples_split=3; total time=   0.4s\n",
      "[CV] END max_depth=15, min_samples_leaf=3, min_samples_split=3; total time=   0.4s\n",
      "[CV] END max_depth=15, min_samples_leaf=3, min_samples_split=3; total time=   0.5s\n",
      "[CV] END max_depth=15, min_samples_leaf=3, min_samples_split=3; total time=   0.4s\n",
      "[CV] END max_depth=16, min_samples_leaf=2, min_samples_split=2; total time=   0.4s\n",
      "[CV] END max_depth=16, min_samples_leaf=2, min_samples_split=2; total time=   0.5s\n",
      "[CV] END max_depth=16, min_samples_leaf=2, min_samples_split=2; total time=   0.5s\n",
      "[CV] END max_depth=16, min_samples_leaf=2, min_samples_split=2; total time=   0.5s\n",
      "[CV] END max_depth=16, min_samples_leaf=2, min_samples_split=2; total time=   0.5s\n",
      "[CV] END max_depth=16, min_samples_leaf=2, min_samples_split=3; total time=   0.5s\n",
      "[CV] END max_depth=16, min_samples_leaf=2, min_samples_split=3; total time=   0.5s\n",
      "[CV] END max_depth=16, min_samples_leaf=2, min_samples_split=3; total time=   0.5s\n",
      "[CV] END max_depth=16, min_samples_leaf=2, min_samples_split=3; total time=   0.5s\n",
      "[CV] END max_depth=16, min_samples_leaf=2, min_samples_split=3; total time=   0.5s\n",
      "[CV] END max_depth=16, min_samples_leaf=3, min_samples_split=2; total time=   0.5s\n",
      "[CV] END max_depth=16, min_samples_leaf=3, min_samples_split=2; total time=   0.4s\n",
      "[CV] END max_depth=16, min_samples_leaf=3, min_samples_split=2; total time=   0.5s\n",
      "[CV] END max_depth=16, min_samples_leaf=3, min_samples_split=2; total time=   0.5s\n",
      "[CV] END max_depth=16, min_samples_leaf=3, min_samples_split=2; total time=   0.5s\n",
      "[CV] END max_depth=16, min_samples_leaf=3, min_samples_split=3; total time=   0.4s\n",
      "[CV] END max_depth=16, min_samples_leaf=3, min_samples_split=3; total time=   0.5s\n",
      "[CV] END max_depth=16, min_samples_leaf=3, min_samples_split=3; total time=   0.4s\n",
      "[CV] END max_depth=16, min_samples_leaf=3, min_samples_split=3; total time=   0.5s\n",
      "[CV] END max_depth=16, min_samples_leaf=3, min_samples_split=3; total time=   0.5s\n",
      "[CV] END max_depth=17, min_samples_leaf=2, min_samples_split=2; total time=   0.5s\n",
      "[CV] END max_depth=17, min_samples_leaf=2, min_samples_split=2; total time=   0.5s\n",
      "[CV] END max_depth=17, min_samples_leaf=2, min_samples_split=2; total time=   0.5s\n",
      "[CV] END max_depth=17, min_samples_leaf=2, min_samples_split=2; total time=   0.5s\n",
      "[CV] END max_depth=17, min_samples_leaf=2, min_samples_split=2; total time=   0.5s\n",
      "[CV] END max_depth=17, min_samples_leaf=2, min_samples_split=3; total time=   0.5s\n",
      "[CV] END max_depth=17, min_samples_leaf=2, min_samples_split=3; total time=   0.5s\n",
      "[CV] END max_depth=17, min_samples_leaf=2, min_samples_split=3; total time=   0.5s\n",
      "[CV] END max_depth=17, min_samples_leaf=2, min_samples_split=3; total time=   0.5s\n",
      "[CV] END max_depth=17, min_samples_leaf=2, min_samples_split=3; total time=   0.5s\n",
      "[CV] END max_depth=17, min_samples_leaf=3, min_samples_split=2; total time=   0.5s\n",
      "[CV] END max_depth=17, min_samples_leaf=3, min_samples_split=2; total time=   0.5s\n",
      "[CV] END max_depth=17, min_samples_leaf=3, min_samples_split=2; total time=   0.5s\n",
      "[CV] END max_depth=17, min_samples_leaf=3, min_samples_split=2; total time=   0.5s\n",
      "[CV] END max_depth=17, min_samples_leaf=3, min_samples_split=2; total time=   0.5s\n",
      "[CV] END max_depth=17, min_samples_leaf=3, min_samples_split=3; total time=   0.4s\n",
      "[CV] END max_depth=17, min_samples_leaf=3, min_samples_split=3; total time=   0.4s\n",
      "[CV] END max_depth=17, min_samples_leaf=3, min_samples_split=3; total time=   0.5s\n",
      "[CV] END max_depth=17, min_samples_leaf=3, min_samples_split=3; total time=   0.5s\n",
      "[CV] END max_depth=17, min_samples_leaf=3, min_samples_split=3; total time=   0.5s\n",
      "[CV] END max_depth=18, min_samples_leaf=2, min_samples_split=2; total time=   0.5s\n",
      "[CV] END max_depth=18, min_samples_leaf=2, min_samples_split=2; total time=   0.5s\n",
      "[CV] END max_depth=18, min_samples_leaf=2, min_samples_split=2; total time=   0.5s\n",
      "[CV] END max_depth=18, min_samples_leaf=2, min_samples_split=2; total time=   0.5s\n",
      "[CV] END max_depth=18, min_samples_leaf=2, min_samples_split=2; total time=   0.5s\n",
      "[CV] END max_depth=18, min_samples_leaf=2, min_samples_split=3; total time=   0.5s\n",
      "[CV] END max_depth=18, min_samples_leaf=2, min_samples_split=3; total time=   0.5s\n",
      "[CV] END max_depth=18, min_samples_leaf=2, min_samples_split=3; total time=   0.5s\n",
      "[CV] END max_depth=18, min_samples_leaf=2, min_samples_split=3; total time=   0.5s\n",
      "[CV] END max_depth=18, min_samples_leaf=2, min_samples_split=3; total time=   0.5s\n",
      "[CV] END max_depth=18, min_samples_leaf=3, min_samples_split=2; total time=   0.4s\n",
      "[CV] END max_depth=18, min_samples_leaf=3, min_samples_split=2; total time=   0.5s\n",
      "[CV] END max_depth=18, min_samples_leaf=3, min_samples_split=2; total time=   0.5s\n",
      "[CV] END max_depth=18, min_samples_leaf=3, min_samples_split=2; total time=   0.5s\n",
      "[CV] END max_depth=18, min_samples_leaf=3, min_samples_split=2; total time=   0.5s\n",
      "[CV] END max_depth=18, min_samples_leaf=3, min_samples_split=3; total time=   0.5s\n",
      "[CV] END max_depth=18, min_samples_leaf=3, min_samples_split=3; total time=   0.4s\n",
      "[CV] END max_depth=18, min_samples_leaf=3, min_samples_split=3; total time=   0.4s\n",
      "[CV] END max_depth=18, min_samples_leaf=3, min_samples_split=3; total time=   0.5s\n",
      "[CV] END max_depth=18, min_samples_leaf=3, min_samples_split=3; total time=   0.4s\n",
      "[CV] END max_depth=19, min_samples_leaf=2, min_samples_split=2; total time=   0.5s\n",
      "[CV] END max_depth=19, min_samples_leaf=2, min_samples_split=2; total time=   0.5s\n",
      "[CV] END max_depth=19, min_samples_leaf=2, min_samples_split=2; total time=   0.5s\n",
      "[CV] END max_depth=19, min_samples_leaf=2, min_samples_split=2; total time=   0.5s\n",
      "[CV] END max_depth=19, min_samples_leaf=2, min_samples_split=2; total time=   0.5s\n",
      "[CV] END max_depth=19, min_samples_leaf=2, min_samples_split=3; total time=   0.5s\n",
      "[CV] END max_depth=19, min_samples_leaf=2, min_samples_split=3; total time=   0.5s\n",
      "[CV] END max_depth=19, min_samples_leaf=2, min_samples_split=3; total time=   0.5s\n",
      "[CV] END max_depth=19, min_samples_leaf=2, min_samples_split=3; total time=   0.5s\n",
      "[CV] END max_depth=19, min_samples_leaf=2, min_samples_split=3; total time=   0.5s\n",
      "[CV] END max_depth=19, min_samples_leaf=3, min_samples_split=2; total time=   0.4s\n",
      "[CV] END max_depth=19, min_samples_leaf=3, min_samples_split=2; total time=   0.5s\n",
      "[CV] END max_depth=19, min_samples_leaf=3, min_samples_split=2; total time=   0.5s\n",
      "[CV] END max_depth=19, min_samples_leaf=3, min_samples_split=2; total time=   0.5s\n",
      "[CV] END max_depth=19, min_samples_leaf=3, min_samples_split=2; total time=   0.5s\n",
      "[CV] END max_depth=19, min_samples_leaf=3, min_samples_split=3; total time=   0.5s\n",
      "[CV] END max_depth=19, min_samples_leaf=3, min_samples_split=3; total time=   0.4s\n",
      "[CV] END max_depth=19, min_samples_leaf=3, min_samples_split=3; total time=   0.4s\n",
      "[CV] END max_depth=19, min_samples_leaf=3, min_samples_split=3; total time=   0.5s\n",
      "[CV] END max_depth=19, min_samples_leaf=3, min_samples_split=3; total time=   0.4s\n",
      "[CV] END max_depth=20, min_samples_leaf=2, min_samples_split=2; total time=   0.5s\n",
      "[CV] END max_depth=20, min_samples_leaf=2, min_samples_split=2; total time=   0.5s\n",
      "[CV] END max_depth=20, min_samples_leaf=2, min_samples_split=2; total time=   0.5s\n",
      "[CV] END max_depth=20, min_samples_leaf=2, min_samples_split=2; total time=   0.5s\n",
      "[CV] END max_depth=20, min_samples_leaf=2, min_samples_split=2; total time=   0.5s\n",
      "[CV] END max_depth=20, min_samples_leaf=2, min_samples_split=3; total time=   0.5s\n",
      "[CV] END max_depth=20, min_samples_leaf=2, min_samples_split=3; total time=   0.5s\n",
      "[CV] END max_depth=20, min_samples_leaf=2, min_samples_split=3; total time=   0.5s\n",
      "[CV] END max_depth=20, min_samples_leaf=2, min_samples_split=3; total time=   0.5s\n",
      "[CV] END max_depth=20, min_samples_leaf=2, min_samples_split=3; total time=   0.5s\n",
      "[CV] END max_depth=20, min_samples_leaf=3, min_samples_split=2; total time=   0.4s\n",
      "[CV] END max_depth=20, min_samples_leaf=3, min_samples_split=2; total time=   0.5s\n",
      "[CV] END max_depth=20, min_samples_leaf=3, min_samples_split=2; total time=   0.5s\n",
      "[CV] END max_depth=20, min_samples_leaf=3, min_samples_split=2; total time=   0.5s\n",
      "[CV] END max_depth=20, min_samples_leaf=3, min_samples_split=2; total time=   0.5s\n",
      "[CV] END max_depth=20, min_samples_leaf=3, min_samples_split=3; total time=   0.4s\n",
      "[CV] END max_depth=20, min_samples_leaf=3, min_samples_split=3; total time=   0.5s\n",
      "[CV] END max_depth=20, min_samples_leaf=3, min_samples_split=3; total time=   0.4s\n",
      "[CV] END max_depth=20, min_samples_leaf=3, min_samples_split=3; total time=   0.4s\n",
      "[CV] END max_depth=20, min_samples_leaf=3, min_samples_split=3; total time=   0.5s\n"
     ]
    },
    {
     "data": {
      "text/plain": [
       "GridSearchCV(cv=5, estimator=RandomForestClassifier(),\n",
       "             param_grid={'max_depth': array([10, 11, 12, 13, 14, 15, 16, 17, 18, 19, 20]),\n",
       "                         'min_samples_leaf': array([2, 3]),\n",
       "                         'min_samples_split': array([2, 3])},\n",
       "             scoring='accuracy', verbose=2)"
      ]
     },
     "execution_count": 47,
     "metadata": {},
     "output_type": "execute_result"
    }
   ],
   "source": [
    "from sklearn.ensemble import RandomForestClassifier\n",
    "from sklearn.model_selection import GridSearchCV\n",
    "parameters = {'max_depth' : np.arange(start = 10, stop = 21, step = 1) , \n",
    "              'min_samples_leaf' : np.arange(start = 2, stop = 4, step = 1),\n",
    "              'min_samples_split' : np.arange(start = 2, stop = 4, step = 1)}\n",
    "\n",
    "clf2 = RandomForestClassifier()\n",
    "clf2 = GridSearchCV(clf2,parameters,scoring=\"accuracy\",verbose=2,cv=5)\n",
    "clf2.fit(x_train,y_train)"
   ]
  },
  {
   "cell_type": "code",
   "execution_count": 48,
   "metadata": {},
   "outputs": [
    {
     "name": "stdout",
     "output_type": "stream",
     "text": [
      "[[934  66]\n",
      " [117 883]]\n",
      "Précision : 0.9085\n"
     ]
    }
   ],
   "source": [
    "y_pred = clf2.predict(x_test)\n",
    "print(confusion_matrix(y_test,y_pred))\n",
    "print(\"Précision : \" + str(accuracy_score(y_test,y_pred)))\n",
    "\n",
    "if accuracy_score(y_test,y_pred)>best_acc:\n",
    "    best_model = clf2\n",
    "    best_acc = accuracy_score(y_test,y_pred)"
   ]
  },
  {
   "attachments": {},
   "cell_type": "markdown",
   "metadata": {},
   "source": [
    "#### Modèles 3 : AdaBoost"
   ]
  },
  {
   "cell_type": "code",
   "execution_count": 49,
   "metadata": {},
   "outputs": [
    {
     "data": {
      "text/plain": [
       "AdaBoostClassifier()"
      ]
     },
     "execution_count": 49,
     "metadata": {},
     "output_type": "execute_result"
    }
   ],
   "source": [
    "from sklearn.ensemble import AdaBoostClassifier\n",
    "clf3 = AdaBoostClassifier()\n",
    "clf3.fit(x_train,y_train)"
   ]
  },
  {
   "cell_type": "code",
   "execution_count": 50,
   "metadata": {},
   "outputs": [
    {
     "name": "stdout",
     "output_type": "stream",
     "text": [
      "[[932  68]\n",
      " [120 880]]\n",
      "Précision : 0.906\n"
     ]
    }
   ],
   "source": [
    "y_pred = clf3.predict(x_test)\n",
    "print(confusion_matrix(y_test,y_pred))\n",
    "print(\"Précision : \" + str(accuracy_score(y_test,y_pred)))\n",
    "\n",
    "if accuracy_score(y_test,y_pred)>best_acc:\n",
    "    best_model = clf3\n",
    "    best_acc = accuracy_score(y_test,y_pred)"
   ]
  },
  {
   "attachments": {},
   "cell_type": "markdown",
   "metadata": {},
   "source": [
    "#### Modèle 4 : Lightgbm"
   ]
  },
  {
   "cell_type": "code",
   "execution_count": 51,
   "metadata": {},
   "outputs": [
    {
     "data": {
      "text/plain": [
       "LGBMClassifier()"
      ]
     },
     "execution_count": 51,
     "metadata": {},
     "output_type": "execute_result"
    }
   ],
   "source": [
    "import lightgbm as lgb\n",
    "clf4 = lgb.LGBMClassifier()\n",
    "clf4.fit(x_train,y_train)"
   ]
  },
  {
   "cell_type": "code",
   "execution_count": 52,
   "metadata": {},
   "outputs": [
    {
     "name": "stdout",
     "output_type": "stream",
     "text": [
      "[[928  72]\n",
      " [112 888]]\n",
      "Précision : 0.908\n"
     ]
    }
   ],
   "source": [
    "y_pred = clf4.predict(x_test)\n",
    "print(confusion_matrix(y_test,y_pred))\n",
    "print(\"Précision : \" + str(accuracy_score(y_test,y_pred)))\n",
    "\n",
    "if accuracy_score(y_test,y_pred)>best_acc:\n",
    "    best_model = clf4\n",
    "    best_acc = accuracy_score(y_test,y_pred)"
   ]
  },
  {
   "attachments": {},
   "cell_type": "markdown",
   "metadata": {},
   "source": [
    "#### Modèle 5 : Bagging"
   ]
  },
  {
   "cell_type": "code",
   "execution_count": 53,
   "metadata": {},
   "outputs": [
    {
     "data": {
      "text/plain": [
       "BaggingClassifier()"
      ]
     },
     "execution_count": 53,
     "metadata": {},
     "output_type": "execute_result"
    }
   ],
   "source": [
    "from sklearn.ensemble import BaggingClassifier\n",
    "clf5 = BaggingClassifier()\n",
    "clf5.fit(x_train,y_train)"
   ]
  },
  {
   "cell_type": "code",
   "execution_count": 54,
   "metadata": {},
   "outputs": [
    {
     "name": "stdout",
     "output_type": "stream",
     "text": [
      "[[914  86]\n",
      " [142 858]]\n",
      "Précision : 0.886\n"
     ]
    }
   ],
   "source": [
    "y_pred = clf5.predict(x_test)\n",
    "print(confusion_matrix(y_test,y_pred))\n",
    "print(\"Précision : \" + str(accuracy_score(y_test,y_pred)))\n",
    "\n",
    "if accuracy_score(y_test,y_pred)>best_acc:\n",
    "    best_model = clf5\n",
    "    best_acc = accuracy_score(y_test,y_pred)"
   ]
  },
  {
   "cell_type": "code",
   "execution_count": 55,
   "metadata": {},
   "outputs": [
    {
     "name": "stdout",
     "output_type": "stream",
     "text": [
      "GridSearchCV(cv=5, estimator=RandomForestClassifier(),\n",
      "             param_grid={'max_depth': array([10, 11, 12, 13, 14, 15, 16, 17, 18, 19, 20]),\n",
      "                         'min_samples_leaf': array([2, 3]),\n",
      "                         'min_samples_split': array([2, 3])},\n",
      "             scoring='accuracy', verbose=2)\n"
     ]
    }
   ],
   "source": [
    "print(best_model)"
   ]
  },
  {
   "attachments": {},
   "cell_type": "markdown",
   "metadata": {},
   "source": [
    "#### Conclusion"
   ]
  },
  {
   "attachments": {},
   "cell_type": "markdown",
   "metadata": {},
   "source": [
    "Notre meilleur modèle est :"
   ]
  },
  {
   "cell_type": "code",
   "execution_count": 60,
   "metadata": {},
   "outputs": [
    {
     "name": "stdout",
     "output_type": "stream",
     "text": [
      "Notre meilleur modèle est : GridSearchCV(cv=5, estimator=RandomForestClassifier(),\n",
      "             param_grid={'max_depth': array([10, 11, 12, 13, 14, 15, 16, 17, 18, 19, 20]),\n",
      "                         'min_samples_leaf': array([2, 3]),\n",
      "                         'min_samples_split': array([2, 3])},\n",
      "             scoring='accuracy', verbose=2)\n",
      "avec une précision de 0.9085\n"
     ]
    }
   ],
   "source": [
    "print(\"Notre meilleur modèle est : \"+str(best_model))\n",
    "print(\"avec une précision de \"+ str(best_acc))"
   ]
  },
  {
   "cell_type": "code",
   "execution_count": null,
   "metadata": {},
   "outputs": [],
   "source": []
  }
 ],
 "metadata": {
  "kernelspec": {
   "display_name": "Python 3.9.12 ('base')",
   "language": "python",
   "name": "python3"
  },
  "language_info": {
   "codemirror_mode": {
    "name": "ipython",
    "version": 3
   },
   "file_extension": ".py",
   "mimetype": "text/x-python",
   "name": "python",
   "nbconvert_exporter": "python",
   "pygments_lexer": "ipython3",
   "version": "3.9.12"
  },
  "orig_nbformat": 4,
  "vscode": {
   "interpreter": {
    "hash": "e4cce46d6be9934fbd27f9ca0432556941ea5bdf741d4f4d64c6cd7f8dfa8fba"
   }
  }
 },
 "nbformat": 4,
 "nbformat_minor": 2
}
