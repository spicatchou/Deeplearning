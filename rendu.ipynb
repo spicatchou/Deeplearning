{
 "cells": [
  {
   "attachments": {},
   "cell_type": "markdown",
   "metadata": {},
   "source": [
    "# PROJET DEEP LEARNING"
   ]
  },
  {
   "attachments": {},
   "cell_type": "markdown",
   "metadata": {},
   "source": [
    "## IMPORTATION DES MODULES"
   ]
  },
  {
   "cell_type": "code",
<<<<<<< HEAD
   "execution_count": 1,
=======
   "execution_count": 18,
>>>>>>> 9bc6c29b389387baebf625b28d98eb2903aedd1c
   "metadata": {},
   "outputs": [],
   "source": [
    "import os\n",
    "import torch\n",
    "from torchvision import datasets, transforms\n",
    "from torch.utils.data import DataLoader\n",
    "import matplotlib.pyplot as plt\n",
    "import torch.nn as nn\n",
    "import torch.nn.functional as F\n",
    "from torchsummary import summary\n",
    "import torchvision\n",
    "import numpy as np"
   ]
  },
  {
   "attachments": {},
   "cell_type": "markdown",
   "metadata": {},
   "source": [
    "## PRE-TRAITEMENT DES DONNEES"
   ]
  },
  {
   "cell_type": "code",
   "execution_count": 2,
   "metadata": {},
   "outputs": [
    {
     "name": "stdout",
     "output_type": "stream",
     "text": [
      "total training damage images:  5000\n",
      "total validation damage images:  1000\n",
      "total test damage images:  8000\n",
      "total training no damage images:  5000\n",
      "total validation no damage images:  1000\n",
      "total test no damage images:  1000\n"
     ]
    }
   ],
   "source": [
    "print('total training damage images: ',len(os.listdir(\"./train_another/damage\")))\n",
    "print('total validation damage images: ',len(os.listdir(\"./validation_another/damage\")))\n",
    "print('total test damage images: ',len(os.listdir(\"./test_another/damage\")))\n",
    "print('total training no damage images: ',len(os.listdir(\"./train_another/no_damage\")))\n",
    "print('total validation no damage images: ',len(os.listdir(\"./validation_another/no_damage\")))\n",
    "print('total test no damage images: ',len(os.listdir(\"./test_another/no_damage\")))"
   ]
  },
  {
   "attachments": {},
   "cell_type": "markdown",
   "metadata": {},
   "source": [
    "### Importation des images en séparant en jeu train / test / validation"
   ]
  },
  {
   "cell_type": "code",
   "execution_count": 4,
   "metadata": {},
   "outputs": [],
   "source": [
    "transform = transforms.Compose([transforms.Resize((150,150)),\n",
    "                                 transforms.ToTensor()])\n",
    "batch_size = 20\n",
    "\n",
    "df_train = datasets.ImageFolder(\"./train_another\",transform=transform)\n",
    "train_dataloader = DataLoader(dataset=df_train, batch_size=batch_size, shuffle=True, num_workers = 4 , pin_memory = True)\n",
    "\n",
    "df_test = datasets.ImageFolder(\"./test_another\",transform=transform)\n",
    "test_dataloader = DataLoader(dataset=df_test, batch_size=batch_size, shuffle=True,num_workers = 4 , pin_memory = True)\n",
    "\n",
    "df_validation = datasets.ImageFolder(\"./validation_another\",transform=transform)\n",
    "validation_dataloader = DataLoader(dataset=df_validation, batch_size=batch_size, shuffle=True,num_workers = 4 , pin_memory = True)"
   ]
  },
  {
   "attachments": {},
   "cell_type": "markdown",
   "metadata": {},
   "source": [
    "Essayons de visualiser les classes de nos images "
   ]
  },
  {
   "cell_type": "code",
   "execution_count": 5,
   "metadata": {},
   "outputs": [
    {
     "data": {
      "text/plain": [
       "['damage', 'no_damage']"
      ]
     },
     "execution_count": 5,
     "metadata": {},
     "output_type": "execute_result"
    }
   ],
   "source": [
    "df_validation.classes"
   ]
  },
  {
   "attachments": {},
   "cell_type": "markdown",
   "metadata": {},
   "source": [
    "## MODELISATION"
   ]
  },
  {
   "attachments": {},
   "cell_type": "markdown",
   "metadata": {},
   "source": [
    "### MODELE 1 : Reproduction du modèle de CAO & CHOE"
   ]
  },
  {
   "attachments": {},
   "cell_type": "markdown",
   "metadata": {},
   "source": [
    "#### Création de la classe qui va nous permettre de faire notre classification d'images"
   ]
  },
  {
   "cell_type": "code",
   "execution_count": 5,
   "metadata": {},
   "outputs": [],
   "source": [
    "class ImageClassificationBase(nn.Module):\n",
    "    \n",
    "    def training_step(self, batch):\n",
    "        images, labels = batch \n",
    "        out = self(images)                  # Generate predictions\n",
    "        loss = F.cross_entropy(out, labels) # Calculate loss\n",
    "        return loss\n",
    "    \n",
    "    def validation_step(self, batch):\n",
    "        images, labels = batch \n",
    "        out = self(images)                    # Generate predictions\n",
    "        loss = F.cross_entropy(out, labels)   # Calculate loss\n",
    "        acc = accuracy(out, labels)           # Calculate accuracy\n",
    "        return {'val_loss': loss.detach(), 'val_acc': acc}\n",
    "        \n",
    "    def validation_epoch_end(self, outputs):\n",
    "        batch_losses = [x['val_loss'] for x in outputs]\n",
    "        epoch_loss = torch.stack(batch_losses).mean()   # Combine losses\n",
    "        batch_accs = [x['val_acc'] for x in outputs]\n",
    "        epoch_acc = torch.stack(batch_accs).mean()      # Combine accuracies\n",
    "        return {'val_loss': epoch_loss.item(), 'val_acc': epoch_acc.item()}\n",
    "    \n",
    "    def epoch_end(self, epoch, result):\n",
    "        print(\"Epoch [{}], train_loss: {:.4f}, val_loss: {:.4f}, val_acc: {:.4f}\".format(\n",
    "            epoch, result['train_loss'], result['val_loss'], result['val_acc']))"
   ]
  },
  {
   "attachments": {},
   "cell_type": "markdown",
   "metadata": {},
   "source": [
    "#### Création de la classe qui va permettre de créer notre premier modèle"
   ]
  },
  {
   "cell_type": "code",
   "execution_count": 6,
   "metadata": {},
   "outputs": [],
   "source": [
    "class HurricaneClassification(ImageClassificationBase):\n",
    "    def __init__(self):\n",
    "        super().__init__()\n",
    "        self.network = nn.Sequential(\n",
    "            \n",
    "            nn.Conv2d(3,32, kernel_size = (3,3)),\n",
    "            nn.ReLU(),\n",
    "            nn.MaxPool2d(2,2),\n",
    "            nn.Conv2d(32,64, kernel_size = (3,3)),\n",
    "            nn.ReLU(),\n",
    "            nn.MaxPool2d(2,2),\n",
    "        \n",
    "            nn.Conv2d(64, 128, kernel_size = (3,3)),\n",
    "            nn.ReLU(),\n",
    "            nn.MaxPool2d(2,2),\n",
    "            nn.Conv2d(128,128, kernel_size = (3,3)),\n",
    "            nn.ReLU(),\n",
    "            nn.MaxPool2d(2,2),\n",
    "            \n",
    "            nn.Flatten(),\n",
    "            nn.Dropout(0.5),\n",
    "            nn.Linear(6272, 512),\n",
    "            nn.ReLU(),\n",
    "            nn.Linear(512, 2),\n",
    "            nn.ReLU(),\n",
    "        )\n",
    "    \n",
    "    def forward(self, xb):\n",
    "        return self.network(xb)"
   ]
  },
  {
   "attachments": {},
   "cell_type": "markdown",
   "metadata": {},
   "source": [
    "#### Création des fonctions qui vont permettre d'évaluer notre modèle"
   ]
  },
  {
   "cell_type": "code",
<<<<<<< HEAD
   "execution_count": 8,
=======
   "execution_count": 7,
>>>>>>> 9bc6c29b389387baebf625b28d98eb2903aedd1c
   "metadata": {},
   "outputs": [],
   "source": [
    "def accuracy(outputs, labels):\n",
    "    _, preds = torch.max(outputs, dim=1)\n",
    "    return torch.tensor(torch.sum(preds == labels).item() / len(preds))\n",
    "\n",
    "  \n",
    "@torch.no_grad()\n",
    "def evaluate(model, val_loader):\n",
    "    model.eval()\n",
    "    nb_etape = 0\n",
    "    outputs = []\n",
    "    for batch in val_loader:\n",
    "        nb_etape = nb_etape + 1\n",
    "        outputs.append(model.validation_step(batch))\n",
    "        if nb_etape == 50:\n",
    "            break\n",
    "            \n",
    "    return model.validation_epoch_end(outputs)\n",
    "\n",
    "  \n",
    "def fit(epochs, lr, model, train_loader, val_loader, opt_func = torch.optim.SGD):\n",
    "    \n",
    "    history = []\n",
    "    optimizer = opt_func(model.parameters(),lr)\n",
    "    for epoch in range(epochs):\n",
    "        \n",
    "        model.train()\n",
    "        train_losses = []\n",
    "        nb_etape = 0\n",
    "        \n",
    "        for batch in train_loader:\n",
    "            loss = model.training_step(batch)\n",
    "            train_losses.append(loss)\n",
    "            loss.backward()\n",
    "            optimizer.step()\n",
    "            optimizer.zero_grad()\n",
    "            nb_etape = nb_etape+1\n",
    "            if nb_etape == 100:\n",
    "                break\n",
    "                \n",
    "        result = evaluate(model, val_loader)\n",
    "        result['train_loss'] = torch.stack(train_losses).mean().item()\n",
    "        model.epoch_end(epoch, result)\n",
    "        history.append(result)\n",
    "    \n",
    "    return history, train_losses"
   ]
  },
  {
   "cell_type": "code",
<<<<<<< HEAD
   "execution_count": 23,
   "metadata": {},
   "outputs": [],
   "source": [
    "def acc_val(net, valLoader):\n",
=======
   "execution_count": 17,
   "metadata": {},
   "outputs": [],
   "source": [
    "def val_CNN(net, valLoader):\n",
>>>>>>> 9bc6c29b389387baebf625b28d98eb2903aedd1c
    "    correct, total = 0, 0\n",
    "    predictions = []\n",
    "    net.eval()\n",
    "    for i, data in enumerate(valLoader, 0):\n",
    "        inputs, labels = data\n",
    "        outputs = net(inputs)    \n",
    "        _, predicted = torch.max(outputs.data, 1)\n",
    "        predictions.append(outputs)\n",
    "        total += labels.size(0)\n",
    "        correct += (predicted == labels).sum().item()\n",
<<<<<<< HEAD
    "    print('The accuracy of the network on the validation images is: %d %%' % (100 * correct / total))"
=======
    "    print('The testing set accuracy of the network is: %d %%' % (100 * correct / total))"
>>>>>>> 9bc6c29b389387baebf625b28d98eb2903aedd1c
   ]
  },
  {
   "cell_type": "code",
<<<<<<< HEAD
   "execution_count": 61,
=======
   "execution_count": 22,
>>>>>>> 9bc6c29b389387baebf625b28d98eb2903aedd1c
   "metadata": {},
   "outputs": [
    {
     "name": "stdout",
     "output_type": "stream",
     "text": [
      "Epoch [0], train_loss: 0.6821, val_loss: 0.6515, val_acc: 0.5650\n",
      "Epoch [1], train_loss: 0.6334, val_loss: 0.5907, val_acc: 0.8250\n",
      "Epoch [2], train_loss: 0.5575, val_loss: 0.6227, val_acc: 0.7550\n",
      "Epoch [3], train_loss: 0.5333, val_loss: 0.5010, val_acc: 0.8580\n",
      "Epoch [4], train_loss: 0.5103, val_loss: 0.4826, val_acc: 0.8700\n",
      "Epoch [5], train_loss: 0.5146, val_loss: 0.5591, val_acc: 0.8220\n",
      "Epoch [6], train_loss: 0.4572, val_loss: 0.4724, val_acc: 0.8850\n",
      "Epoch [7], train_loss: 0.4917, val_loss: 0.4612, val_acc: 0.8740\n",
      "Epoch [8], train_loss: 0.4732, val_loss: 0.4577, val_acc: 0.8810\n",
      "Epoch [9], train_loss: 0.4659, val_loss: 0.4786, val_acc: 0.8850\n",
      "Epoch [10], train_loss: 0.4610, val_loss: 0.4379, val_acc: 0.9030\n",
      "Epoch [11], train_loss: 0.4699, val_loss: 0.4426, val_acc: 0.8940\n",
      "Epoch [12], train_loss: 0.4499, val_loss: 0.4408, val_acc: 0.8970\n",
      "Epoch [13], train_loss: 0.4513, val_loss: 0.4420, val_acc: 0.9070\n",
      "Epoch [14], train_loss: 0.4375, val_loss: 0.4525, val_acc: 0.9000\n",
      "Epoch [15], train_loss: 0.4500, val_loss: 0.4490, val_acc: 0.8940\n",
      "Epoch [16], train_loss: 0.4485, val_loss: 0.4280, val_acc: 0.9120\n",
      "Epoch [17], train_loss: 0.4451, val_loss: 0.4436, val_acc: 0.9020\n",
      "Epoch [18], train_loss: 0.4432, val_loss: 0.4334, val_acc: 0.9130\n",
      "Epoch [19], train_loss: 0.4422, val_loss: 0.4435, val_acc: 0.9140\n",
      "Epoch [20], train_loss: 0.4365, val_loss: 0.4346, val_acc: 0.9180\n",
      "Epoch [21], train_loss: 0.4245, val_loss: 0.4473, val_acc: 0.9020\n",
      "Epoch [22], train_loss: 0.4319, val_loss: 0.4240, val_acc: 0.9120\n",
      "Epoch [23], train_loss: 0.4206, val_loss: 0.4389, val_acc: 0.9080\n",
      "Epoch [24], train_loss: 0.4439, val_loss: 0.4293, val_acc: 0.9140\n",
      "Epoch [25], train_loss: 0.4335, val_loss: 0.4695, val_acc: 0.8720\n",
      "Epoch [26], train_loss: 0.4281, val_loss: 0.4080, val_acc: 0.9220\n",
      "Epoch [27], train_loss: 0.4113, val_loss: 0.4267, val_acc: 0.9120\n",
      "Epoch [28], train_loss: 0.4259, val_loss: 0.4171, val_acc: 0.9150\n",
      "Epoch [29], train_loss: 0.4174, val_loss: 0.4384, val_acc: 0.9130\n",
      "Epoch [30], train_loss: 0.4213, val_loss: 0.4381, val_acc: 0.9010\n",
      "Epoch [31], train_loss: 0.4160, val_loss: 0.4349, val_acc: 0.9130\n",
      "Epoch [32], train_loss: 0.4115, val_loss: 0.4272, val_acc: 0.9190\n",
      "Epoch [33], train_loss: 0.4186, val_loss: 0.4093, val_acc: 0.9290\n",
      "Epoch [34], train_loss: 0.4273, val_loss: 0.4328, val_acc: 0.9230\n",
      "Epoch [35], train_loss: 0.4396, val_loss: 0.4241, val_acc: 0.9250\n",
      "Epoch [36], train_loss: 0.4346, val_loss: 0.4133, val_acc: 0.9230\n",
      "Epoch [37], train_loss: 0.4246, val_loss: 0.4083, val_acc: 0.9300\n",
      "Epoch [38], train_loss: 0.4132, val_loss: 0.4024, val_acc: 0.9310\n",
      "Epoch [39], train_loss: 0.4140, val_loss: 0.4195, val_acc: 0.9210\n",
      "Epoch [40], train_loss: 0.4198, val_loss: 0.4033, val_acc: 0.9360\n",
      "Epoch [41], train_loss: 0.4118, val_loss: 0.4677, val_acc: 0.8990\n",
      "Epoch [42], train_loss: 0.4263, val_loss: 0.4129, val_acc: 0.9190\n",
      "Epoch [43], train_loss: 0.4147, val_loss: 0.4187, val_acc: 0.9250\n",
      "Epoch [44], train_loss: 0.4000, val_loss: 0.4198, val_acc: 0.9200\n",
      "Epoch [45], train_loss: 0.4295, val_loss: 0.4073, val_acc: 0.9240\n",
      "Epoch [46], train_loss: 0.4060, val_loss: 0.4131, val_acc: 0.9320\n",
      "Epoch [47], train_loss: 0.4052, val_loss: 0.4100, val_acc: 0.9140\n",
      "Epoch [48], train_loss: 0.4039, val_loss: 0.4251, val_acc: 0.9210\n",
      "Epoch [49], train_loss: 0.4144, val_loss: 0.4011, val_acc: 0.9320\n"
     ]
    }
   ],
   "source": [
    "model = HurricaneClassification()\n",
    "num_epochs = 50\n",
    "opt_func = torch.optim.Adam\n",
    "lr = 1e-4\n",
    "#fitting the model on training data and record the result after each epoch\n",
    "history, loss = fit(num_epochs, lr, model, train_dataloader, validation_dataloader, opt_func)"
   ]
  },
  {
   "cell_type": "code",
   "execution_count": 62,
   "metadata": {},
   "outputs": [
    {
     "name": "stdout",
     "output_type": "stream",
     "text": [
      "----------------------------------------------------------------\n",
      "        Layer (type)               Output Shape         Param #\n",
      "================================================================\n",
      "            Conv2d-1         [-1, 32, 148, 148]             896\n",
      "              ReLU-2         [-1, 32, 148, 148]               0\n",
      "         MaxPool2d-3           [-1, 32, 74, 74]               0\n",
      "            Conv2d-4           [-1, 64, 72, 72]          18,496\n",
      "              ReLU-5           [-1, 64, 72, 72]               0\n",
      "         MaxPool2d-6           [-1, 64, 36, 36]               0\n",
      "            Conv2d-7          [-1, 128, 34, 34]          73,856\n",
      "              ReLU-8          [-1, 128, 34, 34]               0\n",
      "         MaxPool2d-9          [-1, 128, 17, 17]               0\n",
      "           Conv2d-10          [-1, 128, 15, 15]         147,584\n",
      "             ReLU-11          [-1, 128, 15, 15]               0\n",
      "        MaxPool2d-12            [-1, 128, 7, 7]               0\n",
      "          Flatten-13                 [-1, 6272]               0\n",
      "          Dropout-14                 [-1, 6272]               0\n",
      "           Linear-15                  [-1, 512]       3,211,776\n",
      "             ReLU-16                  [-1, 512]               0\n",
      "           Linear-17                    [-1, 2]           1,026\n",
      "             ReLU-18                    [-1, 2]               0\n",
      "================================================================\n",
      "Total params: 3,453,634\n",
      "Trainable params: 3,453,634\n",
      "Non-trainable params: 0\n",
      "----------------------------------------------------------------\n",
      "Input size (MB): 0.26\n",
      "Forward/backward pass size (MB): 20.86\n",
      "Params size (MB): 13.17\n",
      "Estimated Total Size (MB): 34.29\n",
      "----------------------------------------------------------------\n"
     ]
    }
   ],
   "source": [
    "summary(model,(3, 150, 150))"
   ]
  },
  {
   "attachments": {},
   "cell_type": "markdown",
   "metadata": {},
   "source": [
    "#### Sauvegarde du modèle"
   ]
  },
  {
<<<<<<< HEAD
=======
   "cell_type": "code",
   "execution_count": null,
   "metadata": {},
   "outputs": [],
   "source": [
    "torch.save(model.state_dict(),\"model1\")"
   ]
  },
  {
   "attachments": {},
   "cell_type": "markdown",
   "metadata": {},
   "source": [
    "En commentaire car ça bug"
   ]
  },
  {
>>>>>>> 9bc6c29b389387baebf625b28d98eb2903aedd1c
   "cell_type": "code",
   "execution_count": 63,
   "metadata": {},
   "outputs": [],
   "source": [
    "torch.save(model.state_dict(),\"model1\")"
   ]
  },
  {
   "attachments": {},
   "cell_type": "markdown",
   "metadata": {},
   "source": [
    "On crée également un sauvegarde de la variable loss pour éviter de la recharger en cas de crash à cause de matplotlib"
   ]
  },
  {
   "cell_type": "code",
   "execution_count": 64,
   "metadata": {},
   "outputs": [],
   "source": [
    "import pickle\n",
    "\n",
    "# sauvegarde\n",
    "with open(\"loss1\",\"wb\") as f:\n",
    "    pickle.dump(loss,f)\n",
    "\n",
    "\n",
    "\n"
   ]
  },
  {
   "cell_type": "code",
   "execution_count": 65,
   "metadata": {},
   "outputs": [],
   "source": [
    "# chargement\n",
    "with open(\"loss1\",\"rb\") as f:\n",
    "    loss_loaded = pickle.load(f)"
   ]
  },
  {
   "cell_type": "code",
   "execution_count": 66,
   "metadata": {},
   "outputs": [
    {
     "name": "stdout",
     "output_type": "stream",
     "text": [
      "[tensor(0.4509, requires_grad=True), tensor(0.3548, requires_grad=True), tensor(0.5223, requires_grad=True), tensor(0.4511, requires_grad=True), tensor(0.3464, requires_grad=True), tensor(0.2550, requires_grad=True), tensor(0.5251, requires_grad=True), tensor(0.3134, requires_grad=True), tensor(0.3033, requires_grad=True), tensor(0.3829, requires_grad=True), tensor(0.3678, requires_grad=True), tensor(0.4022, requires_grad=True), tensor(0.2800, requires_grad=True), tensor(0.4875, requires_grad=True), tensor(0.2494, requires_grad=True), tensor(0.3815, requires_grad=True), tensor(0.4023, requires_grad=True), tensor(0.4261, requires_grad=True), tensor(0.3152, requires_grad=True), tensor(0.3257, requires_grad=True), tensor(0.6313, requires_grad=True), tensor(0.3922, requires_grad=True), tensor(0.3583, requires_grad=True), tensor(0.3142, requires_grad=True), tensor(0.5271, requires_grad=True), tensor(0.4069, requires_grad=True), tensor(0.3888, requires_grad=True), tensor(0.4729, requires_grad=True), tensor(0.2824, requires_grad=True), tensor(0.4586, requires_grad=True), tensor(0.4186, requires_grad=True), tensor(0.3631, requires_grad=True), tensor(0.4243, requires_grad=True), tensor(0.4224, requires_grad=True), tensor(0.3150, requires_grad=True), tensor(0.5640, requires_grad=True), tensor(0.3672, requires_grad=True), tensor(0.3576, requires_grad=True), tensor(0.4285, requires_grad=True), tensor(0.4775, requires_grad=True), tensor(0.5302, requires_grad=True), tensor(0.5245, requires_grad=True), tensor(0.4959, requires_grad=True), tensor(0.3422, requires_grad=True), tensor(0.3491, requires_grad=True), tensor(0.3833, requires_grad=True), tensor(0.4774, requires_grad=True), tensor(0.3839, requires_grad=True), tensor(0.5069, requires_grad=True), tensor(0.5006, requires_grad=True), tensor(0.3449, requires_grad=True), tensor(0.4321, requires_grad=True), tensor(0.4280, requires_grad=True), tensor(0.6287, requires_grad=True), tensor(0.4892, requires_grad=True), tensor(0.3467, requires_grad=True), tensor(0.4687, requires_grad=True), tensor(0.5023, requires_grad=True), tensor(0.3818, requires_grad=True), tensor(0.4588, requires_grad=True), tensor(0.1887, requires_grad=True), tensor(0.3149, requires_grad=True), tensor(0.5536, requires_grad=True), tensor(0.1863, requires_grad=True), tensor(0.4562, requires_grad=True), tensor(0.5617, requires_grad=True), tensor(0.4509, requires_grad=True), tensor(0.4652, requires_grad=True), tensor(0.2407, requires_grad=True), tensor(0.3277, requires_grad=True), tensor(0.4941, requires_grad=True), tensor(0.5382, requires_grad=True), tensor(0.4812, requires_grad=True), tensor(0.3993, requires_grad=True), tensor(0.4297, requires_grad=True), tensor(0.3530, requires_grad=True), tensor(0.3818, requires_grad=True), tensor(0.4855, requires_grad=True), tensor(0.3888, requires_grad=True), tensor(0.4823, requires_grad=True), tensor(0.4433, requires_grad=True), tensor(0.3258, requires_grad=True), tensor(0.3586, requires_grad=True), tensor(0.4195, requires_grad=True), tensor(0.2789, requires_grad=True), tensor(0.3156, requires_grad=True), tensor(0.3803, requires_grad=True), tensor(0.3502, requires_grad=True), tensor(0.5491, requires_grad=True), tensor(0.3860, requires_grad=True), tensor(0.4214, requires_grad=True), tensor(0.3547, requires_grad=True), tensor(0.5208, requires_grad=True), tensor(0.4168, requires_grad=True), tensor(0.6343, requires_grad=True), tensor(0.2705, requires_grad=True), tensor(0.5661, requires_grad=True), tensor(0.3561, requires_grad=True), tensor(0.4658, requires_grad=True), tensor(0.5564, requires_grad=True)]\n"
     ]
    }
   ],
   "source": [
<<<<<<< HEAD
    "print(loss_loaded)"
=======
    "loss_tensor = torch.stack(loss)\n",
    "loss_np=torch.detach(loss_tensor).numpy()\n",
    "\n",
    "#plt.plot(loss)\n",
    "#plt.xlabel('Itération')\n",
    "#plt.ylabel('Perte')\n",
    "#plt.show()"
   ]
  },
  {
   "cell_type": "code",
   "execution_count": null,
   "metadata": {},
   "outputs": [],
   "source": [
    "val_model1 = val_CNN(model,validation_dataloader)"
>>>>>>> 9bc6c29b389387baebf625b28d98eb2903aedd1c
   ]
  },
  {
   "attachments": {},
   "cell_type": "markdown",
   "metadata": {},
   "source": [
<<<<<<< HEAD
    "En commentaire car ça bug"
=======
    "### MODELE 2 : Fine tuning VGG-19"
>>>>>>> 9bc6c29b389387baebf625b28d98eb2903aedd1c
   ]
  },
  {
   "cell_type": "code",
<<<<<<< HEAD
   "execution_count": 68,
   "metadata": {},
   "outputs": [
    {
     "data": {
      "image/png": "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",
      "text/plain": [
       "<Figure size 640x480 with 1 Axes>"
=======
   "execution_count": 11,
   "metadata": {},
   "outputs": [
    {
     "name": "stderr",
     "output_type": "stream",
     "text": [
      "c:\\Users\\spica\\anaconda3\\lib\\site-packages\\torchvision\\models\\_utils.py:208: UserWarning: The parameter 'pretrained' is deprecated since 0.13 and may be removed in the future, please use 'weights' instead.\n",
      "  warnings.warn(\n",
      "c:\\Users\\spica\\anaconda3\\lib\\site-packages\\torchvision\\models\\_utils.py:223: UserWarning: Arguments other than a weight enum or `None` for 'weights' are deprecated since 0.13 and may be removed in the future. The current behavior is equivalent to passing `weights=VGG19_Weights.IMAGENET1K_V1`. You can also use `weights=VGG19_Weights.DEFAULT` to get the most up-to-date weights.\n",
      "  warnings.warn(msg)\n",
      "Downloading: \"https://download.pytorch.org/models/vgg19-dcbb9e9d.pth\" to C:\\Users\\spica/.cache\\torch\\hub\\checkpoints\\vgg19-dcbb9e9d.pth\n"
     ]
    },
    {
     "data": {
      "application/vnd.jupyter.widget-view+json": {
       "model_id": "7e4b9e32cc5d4546b487cfec03da5d6b",
       "version_major": 2,
       "version_minor": 0
      },
      "text/plain": [
       "  0%|          | 0.00/548M [00:00<?, ?B/s]"
>>>>>>> 9bc6c29b389387baebf625b28d98eb2903aedd1c
      ]
     },
     "metadata": {},
     "output_type": "display_data"
<<<<<<< HEAD
    }
   ],
   "source": [
    "loss_tensor = torch.stack(loss_loaded)\n",
    "loss_np=torch.detach(loss_tensor).numpy()\n",
    "\n",
    "plt.plot(loss_np)\n",
    "plt.xlabel('Itération')\n",
    "plt.ylabel('Perte')\n",
    "plt.show()"
=======
    },
    {
     "name": "stdout",
     "output_type": "stream",
     "text": [
      "VGG(\n",
      "  (features): Sequential(\n",
      "    (0): Conv2d(3, 64, kernel_size=(3, 3), stride=(1, 1), padding=(1, 1))\n",
      "    (1): ReLU(inplace=True)\n",
      "    (2): Conv2d(64, 64, kernel_size=(3, 3), stride=(1, 1), padding=(1, 1))\n",
      "    (3): ReLU(inplace=True)\n",
      "    (4): MaxPool2d(kernel_size=2, stride=2, padding=0, dilation=1, ceil_mode=False)\n",
      "    (5): Conv2d(64, 128, kernel_size=(3, 3), stride=(1, 1), padding=(1, 1))\n",
      "    (6): ReLU(inplace=True)\n",
      "    (7): Conv2d(128, 128, kernel_size=(3, 3), stride=(1, 1), padding=(1, 1))\n",
      "    (8): ReLU(inplace=True)\n",
      "    (9): MaxPool2d(kernel_size=2, stride=2, padding=0, dilation=1, ceil_mode=False)\n",
      "    (10): Conv2d(128, 256, kernel_size=(3, 3), stride=(1, 1), padding=(1, 1))\n",
      "    (11): ReLU(inplace=True)\n",
      "    (12): Conv2d(256, 256, kernel_size=(3, 3), stride=(1, 1), padding=(1, 1))\n",
      "    (13): ReLU(inplace=True)\n",
      "    (14): Conv2d(256, 256, kernel_size=(3, 3), stride=(1, 1), padding=(1, 1))\n",
      "    (15): ReLU(inplace=True)\n",
      "    (16): Conv2d(256, 256, kernel_size=(3, 3), stride=(1, 1), padding=(1, 1))\n",
      "    (17): ReLU(inplace=True)\n",
      "    (18): MaxPool2d(kernel_size=2, stride=2, padding=0, dilation=1, ceil_mode=False)\n",
      "    (19): Conv2d(256, 512, kernel_size=(3, 3), stride=(1, 1), padding=(1, 1))\n",
      "    (20): ReLU(inplace=True)\n",
      "    (21): Conv2d(512, 512, kernel_size=(3, 3), stride=(1, 1), padding=(1, 1))\n",
      "    (22): ReLU(inplace=True)\n",
      "    (23): Conv2d(512, 512, kernel_size=(3, 3), stride=(1, 1), padding=(1, 1))\n",
      "    (24): ReLU(inplace=True)\n",
      "    (25): Conv2d(512, 512, kernel_size=(3, 3), stride=(1, 1), padding=(1, 1))\n",
      "    (26): ReLU(inplace=True)\n",
      "    (27): MaxPool2d(kernel_size=2, stride=2, padding=0, dilation=1, ceil_mode=False)\n",
      "    (28): Conv2d(512, 512, kernel_size=(3, 3), stride=(1, 1), padding=(1, 1))\n",
      "    (29): ReLU(inplace=True)\n",
      "    (30): Conv2d(512, 512, kernel_size=(3, 3), stride=(1, 1), padding=(1, 1))\n",
      "    (31): ReLU(inplace=True)\n",
      "    (32): Conv2d(512, 512, kernel_size=(3, 3), stride=(1, 1), padding=(1, 1))\n",
      "    (33): ReLU(inplace=True)\n",
      "    (34): Conv2d(512, 512, kernel_size=(3, 3), stride=(1, 1), padding=(1, 1))\n",
      "    (35): ReLU(inplace=True)\n",
      "    (36): MaxPool2d(kernel_size=2, stride=2, padding=0, dilation=1, ceil_mode=False)\n",
      "  )\n",
      "  (avgpool): AdaptiveAvgPool2d(output_size=(7, 7))\n",
      "  (classifier): Sequential(\n",
      "    (0): Linear(in_features=25088, out_features=4096, bias=True)\n",
      "    (1): ReLU(inplace=True)\n",
      "    (2): Dropout(p=0.5, inplace=False)\n",
      "    (3): Linear(in_features=4096, out_features=4096, bias=True)\n",
      "    (4): ReLU(inplace=True)\n",
      "    (5): Dropout(p=0.5, inplace=False)\n",
      "    (6): Linear(in_features=4096, out_features=1000, bias=True)\n",
      "  )\n",
      ")\n"
     ]
    }
   ],
   "source": [
    "model2 = torchvision.models.vgg19(pretrained=True)\n",
    "print(model2)"
   ]
  },
  {
   "cell_type": "code",
   "execution_count": 13,
   "metadata": {},
   "outputs": [
    {
     "name": "stdout",
     "output_type": "stream",
     "text": [
      "[1,    11] loss: 5.797\n",
      "[2,    11] loss: 4.272\n",
      "[3,    11] loss: 2.825\n",
      "[4,    11] loss: 1.972\n",
      "[5,    11] loss: 1.696\n"
     ]
    }
   ],
   "source": [
    "num_classes = 1000\n",
    "\n",
    "# Verrouillage des couches du modèle (sauf la dernière) pour éviter leur mise à jour lors de l'entraînement\n",
    "for param in model2.parameters():\n",
    "    param.requires_grad = False\n",
    "\n",
    "# Modification du nombre de classes en sortie (par défaut 1000) si nécessaire\n",
    "model2.classifier[6] = torch.nn.Linear(in_features=4096, out_features=num_classes)\n",
    "\n",
    "# Déverrouillage de la dernière couche pour permettre son entraînement\n",
    "for param in model2.classifier[6].parameters():\n",
    "    param.requires_grad = True\n",
    "\n",
    "# Conversion en mode \"entraînement\"\n",
    "model2.train()\n",
    "\n",
    "# Préparation des transformateurs pour les données d'entraînement\n",
    "transform = transforms.Compose([\n",
    "    transforms.Resize(256),\n",
    "    transforms.CenterCrop(224),\n",
    "    transforms.ToTensor(),\n",
    "    transforms.Normalize(mean=[0.485, 0.456, 0.406],\n",
    "                         std=[0.229, 0.224, 0.225])\n",
    "])\n",
    "\n",
    "batch_size = 20\n",
    "num_epochs = 5\n",
    "\n",
    "trainset = torchvision.datasets.ImageFolder(root='./train_another', transform=transform)\n",
    "trainloader = torch.utils.data.DataLoader(trainset, batch_size=batch_size,\n",
    "                                          shuffle=True, num_workers=2)\n",
    "loss_values = []\n",
    "\n",
    "# Boucle d'entraînement\n",
    "for epoch in range(num_epochs):\n",
    "    for i, data in enumerate(trainloader, 0):\n",
    "        # Chargement des entrées et des étiquettes\n",
    "        inputs, labels = data\n",
    "        \n",
    "        # Calcul des sorties à l'aide de la méthode forward\n",
    "        outputs = model2(inputs)\n",
    "        \n",
    "        # Calcul de la perte\n",
    "        criterion = torch.nn.CrossEntropyLoss()\n",
    "        loss = criterion(outputs, labels)\n",
    "        \n",
    "        # Ajout de la perte à la liste\n",
    "        loss_values.append(loss.item())\n",
    "        # Calcul des gradients pour la rétropropagation\n",
    "        optimizer = torch.optim.SGD(model2.classifier[6].parameters(), lr=0.001, momentum=0.9)\n",
    "        optimizer.zero_grad()\n",
    "        loss.backward()\n",
    "        \n",
    "        # Mise à jour des paramètres du modèle\n",
    "        optimizer.step()\n",
    "        \n",
    "        # Affichage de la progression de l'entraînement toutes les 100 itérations\n",
    "        if i ==10:\n",
    "            print('[%d, %5d] loss: %.3f' %\n",
    "                  (epoch + 1, i + 1, loss.item()))\n",
    "            break"
   ]
  },
  {
   "attachments": {},
   "cell_type": "markdown",
   "metadata": {},
   "source": [
    "On sauvegarde le modèle"
   ]
  },
  {
   "cell_type": "code",
   "execution_count": 14,
   "metadata": {},
   "outputs": [],
   "source": [
    "torch.save(model2.state_dict(),\"model2\")"
   ]
  },
  {
   "attachments": {},
   "cell_type": "markdown",
   "metadata": {},
   "source": [
    "#### Courbe de gain"
   ]
  },
  {
   "cell_type": "code",
   "execution_count": null,
   "metadata": {},
   "outputs": [],
   "source": [
    "#plt.plot(loss_values)\n",
    "#plt.xlabel('Itération')\n",
    "#plt.ylabel('Perte')\n",
    "#plt.show()"
   ]
  },
  {
   "cell_type": "code",
   "execution_count": 15,
   "metadata": {},
   "outputs": [],
   "source": []
  },
  {
   "cell_type": "code",
   "execution_count": 16,
   "metadata": {},
   "outputs": [
    {
     "name": "stdout",
     "output_type": "stream",
     "text": [
      "The testing set accuracy of the network is: 62 %\n"
     ]
    }
   ],
   "source": [
    "val_model2 = val_CNN(model2,validation_dataloader)"
   ]
  },
  {
   "attachments": {},
   "cell_type": "markdown",
   "metadata": {},
   "source": [
    "### MODELES DE MACHINE LEARNING"
   ]
  },
  {
   "attachments": {},
   "cell_type": "markdown",
   "metadata": {},
   "source": [
    "#### Extraction des features du modèles"
   ]
  },
  {
   "cell_type": "code",
   "execution_count": 19,
   "metadata": {},
   "outputs": [],
   "source": [
    "def extract_features(dataloader, model, n_sample, n_features):\n",
    "    features = np.zeros(shape=(n_sample,n_features))\n",
    "    batchSize = dataloader.batch_size\n",
    "    labels = np.zeros(shape = (n_sample))\n",
    "    i = 0\n",
    "    for inputs_batch, labels_batch in dataloader:\n",
    "        model.eval()\n",
    "        features_batch = model(inputs_batch).detach().numpy()\n",
    "        features[i * batchSize: (i + 1) * batchSize] = features_batch\n",
    "        labels[i * batchSize: (i + 1) * batchSize] = labels_batch\n",
    "        i += 1\n",
    "        if i * batchSize >= n_sample:\n",
    "            break\n",
    "    return features, labels"
   ]
  },
  {
   "cell_type": "code",
   "execution_count": 21,
   "metadata": {},
   "outputs": [],
   "source": [
    "x_train, y_train = extract_features(train_dataloader,model2,10000,1000)\n",
    "x_test, y_test = extract_features(validation_dataloader, model2, 2000, 1000)\n"
   ]
  },
  {
   "attachments": {},
   "cell_type": "markdown",
   "metadata": {},
   "source": [
    "#### Modèle 1 : Arbres de décisions"
   ]
  },
  {
   "cell_type": "code",
   "execution_count": 25,
   "metadata": {},
   "outputs": [
    {
     "data": {
      "text/plain": [
       "DecisionTreeClassifier()"
      ]
     },
     "execution_count": 25,
     "metadata": {},
     "output_type": "execute_result"
    }
   ],
   "source": [
    "from sklearn.tree import DecisionTreeClassifier\n",
    "clf = DecisionTreeClassifier()\n",
    "clf.fit(x_train,y_train)"
   ]
  },
  {
   "cell_type": "code",
   "execution_count": 39,
   "metadata": {},
   "outputs": [
    {
     "name": "stdout",
     "output_type": "stream",
     "text": [
      "[[746 254]\n",
      " [240 760]]\n",
      "Précision : 0.753\n"
     ]
    }
   ],
   "source": [
    "from sklearn.metrics import accuracy_score, confusion_matrix \n",
    "y_pred = clf.predict(x_test)\n",
    "print(confusion_matrix(y_test,y_pred))\n",
    "print(\"Précision : \" + str(accuracy_score(y_test,y_pred)))"
   ]
  },
  {
   "attachments": {},
   "cell_type": "markdown",
   "metadata": {},
   "source": [
    "#### Modèle 2 : Fôrets aléatoires"
   ]
  },
  {
   "cell_type": "code",
   "execution_count": 28,
   "metadata": {},
   "outputs": [
    {
     "data": {
      "text/plain": [
       "RandomForestClassifier()"
      ]
     },
     "execution_count": 28,
     "metadata": {},
     "output_type": "execute_result"
    }
   ],
   "source": [
    "from sklearn.ensemble import RandomForestClassifier\n",
    "clf2 = RandomForestClassifier()\n",
    "clf2.fit(x_train,y_train)"
   ]
  },
  {
   "cell_type": "code",
   "execution_count": 29,
   "metadata": {},
   "outputs": [
    {
     "data": {
      "text/plain": [
       "0.8365"
      ]
     },
     "execution_count": 29,
     "metadata": {},
     "output_type": "execute_result"
    }
   ],
   "source": [
    "y_pred = clf2.predict(x_test)\n",
    "print(confusion_matrix(y_test,y_pred))\n",
    "print(\"Précision : \" + str(accuracy_score(y_test,y_pred)))"
   ]
  },
  {
   "attachments": {},
   "cell_type": "markdown",
   "metadata": {},
   "source": [
    "#### Modèles 3 : AdaBoost"
   ]
  },
  {
   "cell_type": "code",
   "execution_count": 30,
   "metadata": {},
   "outputs": [
    {
     "data": {
      "text/plain": [
       "AdaBoostClassifier()"
      ]
     },
     "execution_count": 30,
     "metadata": {},
     "output_type": "execute_result"
    }
   ],
   "source": [
    "from sklearn.ensemble import AdaBoostClassifier\n",
    "clf3 = AdaBoostClassifier()\n",
    "clf3.fit(x_train,y_train)"
   ]
  },
  {
   "cell_type": "code",
   "execution_count": 31,
   "metadata": {},
   "outputs": [
    {
     "data": {
      "text/plain": [
       "0.8235"
      ]
     },
     "execution_count": 31,
     "metadata": {},
     "output_type": "execute_result"
    }
   ],
   "source": [
    "y_pred = clf3.predict(x_test)\n",
    "print(confusion_matrix(y_test,y_pred))\n",
    "print(\"Précision : \" + str(accuracy_score(y_test,y_pred)))"
   ]
  },
  {
   "attachments": {},
   "cell_type": "markdown",
   "metadata": {},
   "source": [
    "#### Modèle 4 : Lightgbm"
   ]
  },
  {
   "cell_type": "code",
   "execution_count": 43,
   "metadata": {},
   "outputs": [
    {
     "data": {
      "text/plain": [
       "LGBMClassifier()"
      ]
     },
     "execution_count": 43,
     "metadata": {},
     "output_type": "execute_result"
    }
   ],
   "source": [
    "import lightgbm as lgb\n",
    "clf4 = lgb.LGBMClassifier()\n",
    "clf4.fit(x_train,y_train)"
   ]
  },
  {
   "cell_type": "code",
   "execution_count": 44,
   "metadata": {},
   "outputs": [
    {
     "name": "stdout",
     "output_type": "stream",
     "text": [
      "[[844 156]\n",
      " [117 883]]\n",
      "Précision : 0.8635\n"
     ]
    }
   ],
   "source": [
    "y_pred = clf4.predict(x_test)\n",
    "print(confusion_matrix(y_test,y_pred))\n",
    "print(\"Précision : \" + str(accuracy_score(y_test,y_pred)))"
   ]
  },
  {
   "attachments": {},
   "cell_type": "markdown",
   "metadata": {},
   "source": [
    "#### Modèle 5 : Bagging"
   ]
  },
  {
   "cell_type": "code",
   "execution_count": null,
   "metadata": {},
   "outputs": [],
   "source": [
    "from sklearn.ensemble import BaggingClassifier\n",
    "clf5 = BaggingClassifier()\n",
    "clf5.fit(x_train,y_train)"
   ]
  },
  {
   "cell_type": "code",
   "execution_count": null,
   "metadata": {},
   "outputs": [],
   "source": [
    "y_pred = clf5.predict(x_test)\n",
    "print(confusion_matrix(y_test,y_pred))\n",
    "print(\"Précision : \" + str(accuracy_score(y_test,y_pred)))"
   ]
  },
  {
   "attachments": {},
   "cell_type": "markdown",
   "metadata": {},
   "source": [
    "#### Conclusion"
   ]
  },
  {
   "attachments": {},
   "cell_type": "markdown",
   "metadata": {},
   "source": [
    "Notre meilleur modèle est :"
   ]
  },
  {
   "attachments": {},
   "cell_type": "markdown",
   "metadata": {},
   "source": [
    "## Modèle 3 : Création de notre propre CNN"
>>>>>>> 9bc6c29b389387baebf625b28d98eb2903aedd1c
   ]
  },
  {
   "cell_type": "code",
   "execution_count": 67,
   "metadata": {},
   "outputs": [
    {
     "name": "stdout",
     "output_type": "stream",
     "text": [
      "The accuracy of the network on the validation images is: 92 %\n"
     ]
    }
   ],
   "source": [
    "val_model1 = acc_val(model,validation_dataloader)"
   ]
  },
  {
   "attachments": {},
   "cell_type": "markdown",
   "metadata": {},
   "source": [
    "### MODELE 2 : Fine tuning VGG-19"
   ]
  },
  {
   "cell_type": "code",
   "execution_count": 14,
   "metadata": {},
   "outputs": [
    {
     "name": "stderr",
     "output_type": "stream",
     "text": [
      "c:\\Users\\spica\\anaconda3\\lib\\site-packages\\torchvision\\models\\_utils.py:208: UserWarning: The parameter 'pretrained' is deprecated since 0.13 and may be removed in the future, please use 'weights' instead.\n",
      "  warnings.warn(\n",
      "c:\\Users\\spica\\anaconda3\\lib\\site-packages\\torchvision\\models\\_utils.py:223: UserWarning: Arguments other than a weight enum or `None` for 'weights' are deprecated since 0.13 and may be removed in the future. The current behavior is equivalent to passing `weights=VGG19_Weights.IMAGENET1K_V1`. You can also use `weights=VGG19_Weights.DEFAULT` to get the most up-to-date weights.\n",
      "  warnings.warn(msg)\n"
     ]
    },
    {
     "name": "stdout",
     "output_type": "stream",
     "text": [
      "VGG(\n",
      "  (features): Sequential(\n",
      "    (0): Conv2d(3, 64, kernel_size=(3, 3), stride=(1, 1), padding=(1, 1))\n",
      "    (1): ReLU(inplace=True)\n",
      "    (2): Conv2d(64, 64, kernel_size=(3, 3), stride=(1, 1), padding=(1, 1))\n",
      "    (3): ReLU(inplace=True)\n",
      "    (4): MaxPool2d(kernel_size=2, stride=2, padding=0, dilation=1, ceil_mode=False)\n",
      "    (5): Conv2d(64, 128, kernel_size=(3, 3), stride=(1, 1), padding=(1, 1))\n",
      "    (6): ReLU(inplace=True)\n",
      "    (7): Conv2d(128, 128, kernel_size=(3, 3), stride=(1, 1), padding=(1, 1))\n",
      "    (8): ReLU(inplace=True)\n",
      "    (9): MaxPool2d(kernel_size=2, stride=2, padding=0, dilation=1, ceil_mode=False)\n",
      "    (10): Conv2d(128, 256, kernel_size=(3, 3), stride=(1, 1), padding=(1, 1))\n",
      "    (11): ReLU(inplace=True)\n",
      "    (12): Conv2d(256, 256, kernel_size=(3, 3), stride=(1, 1), padding=(1, 1))\n",
      "    (13): ReLU(inplace=True)\n",
      "    (14): Conv2d(256, 256, kernel_size=(3, 3), stride=(1, 1), padding=(1, 1))\n",
      "    (15): ReLU(inplace=True)\n",
      "    (16): Conv2d(256, 256, kernel_size=(3, 3), stride=(1, 1), padding=(1, 1))\n",
      "    (17): ReLU(inplace=True)\n",
      "    (18): MaxPool2d(kernel_size=2, stride=2, padding=0, dilation=1, ceil_mode=False)\n",
      "    (19): Conv2d(256, 512, kernel_size=(3, 3), stride=(1, 1), padding=(1, 1))\n",
      "    (20): ReLU(inplace=True)\n",
      "    (21): Conv2d(512, 512, kernel_size=(3, 3), stride=(1, 1), padding=(1, 1))\n",
      "    (22): ReLU(inplace=True)\n",
      "    (23): Conv2d(512, 512, kernel_size=(3, 3), stride=(1, 1), padding=(1, 1))\n",
      "    (24): ReLU(inplace=True)\n",
      "    (25): Conv2d(512, 512, kernel_size=(3, 3), stride=(1, 1), padding=(1, 1))\n",
      "    (26): ReLU(inplace=True)\n",
      "    (27): MaxPool2d(kernel_size=2, stride=2, padding=0, dilation=1, ceil_mode=False)\n",
      "    (28): Conv2d(512, 512, kernel_size=(3, 3), stride=(1, 1), padding=(1, 1))\n",
      "    (29): ReLU(inplace=True)\n",
      "    (30): Conv2d(512, 512, kernel_size=(3, 3), stride=(1, 1), padding=(1, 1))\n",
      "    (31): ReLU(inplace=True)\n",
      "    (32): Conv2d(512, 512, kernel_size=(3, 3), stride=(1, 1), padding=(1, 1))\n",
      "    (33): ReLU(inplace=True)\n",
      "    (34): Conv2d(512, 512, kernel_size=(3, 3), stride=(1, 1), padding=(1, 1))\n",
      "    (35): ReLU(inplace=True)\n",
      "    (36): MaxPool2d(kernel_size=2, stride=2, padding=0, dilation=1, ceil_mode=False)\n",
      "  )\n",
      "  (avgpool): AdaptiveAvgPool2d(output_size=(7, 7))\n",
      "  (classifier): Sequential(\n",
      "    (0): Linear(in_features=25088, out_features=4096, bias=True)\n",
      "    (1): ReLU(inplace=True)\n",
      "    (2): Dropout(p=0.5, inplace=False)\n",
      "    (3): Linear(in_features=4096, out_features=4096, bias=True)\n",
      "    (4): ReLU(inplace=True)\n",
      "    (5): Dropout(p=0.5, inplace=False)\n",
      "    (6): Linear(in_features=4096, out_features=1000, bias=True)\n",
      "  )\n",
      ")\n"
     ]
    }
   ],
   "source": [
    "model2 = torchvision.models.vgg19(pretrained=True)\n",
    "print(model2)"
   ]
  },
  {
   "cell_type": "code",
   "execution_count": 15,
   "metadata": {},
   "outputs": [
    {
     "name": "stdout",
     "output_type": "stream",
     "text": [
      "[1,   101] loss: 0.561\n",
      "[2,   101] loss: 0.459\n",
      "[3,   101] loss: 0.430\n",
      "[4,   101] loss: 0.278\n",
      "[5,   101] loss: 0.406\n",
      "[6,   101] loss: 0.122\n",
      "[7,   101] loss: 0.421\n",
      "[8,   101] loss: 0.447\n",
      "[9,   101] loss: 0.280\n",
      "[10,   101] loss: 0.244\n",
      "[11,   101] loss: 0.341\n",
      "[12,   101] loss: 0.464\n",
      "[13,   101] loss: 0.166\n",
      "[14,   101] loss: 0.304\n",
      "[15,   101] loss: 0.228\n",
      "[16,   101] loss: 0.271\n",
      "[17,   101] loss: 0.373\n",
      "[18,   101] loss: 0.301\n",
      "[19,   101] loss: 0.225\n",
      "[20,   101] loss: 0.398\n"
     ]
    }
   ],
   "source": [
    "num_classes = 1000\n",
    "\n",
    "# Verrouillage des couches du modèle (sauf la dernière) pour éviter leur mise à jour lors de l'entraînement\n",
    "for param in model2.parameters():\n",
    "    param.requires_grad = False\n",
    "\n",
    "# Modification du nombre de classes en sortie (par défaut 1000) si nécessaire\n",
    "model2.classifier[6] = torch.nn.Linear(in_features=4096, out_features=num_classes)\n",
    "\n",
    "# Déverrouillage de la dernière couche pour permettre son entraînement\n",
    "for param in model2.classifier[6].parameters():\n",
    "    param.requires_grad = True\n",
    "\n",
    "# Conversion en mode \"entraînement\"\n",
    "model2.train()\n",
    "\n",
    "# Préparation des transformateurs pour les données d'entraînement\n",
    "transform = transforms.Compose([\n",
    "    transforms.Resize(256),\n",
    "    transforms.CenterCrop(224),\n",
    "    transforms.ToTensor(),\n",
    "    transforms.Normalize(mean=[0.485, 0.456, 0.406],\n",
    "                         std=[0.229, 0.224, 0.225])\n",
    "])\n",
    "\n",
    "batch_size = 20\n",
    "num_epochs = 20\n",
    "\n",
    "trainset = torchvision.datasets.ImageFolder(root='./train_another', transform=transform)\n",
    "trainloader = torch.utils.data.DataLoader(trainset, batch_size=batch_size,\n",
    "                                          shuffle=True, num_workers=2)\n",
    "loss_values = []\n",
    "\n",
    "# Boucle d'entraînement\n",
    "for epoch in range(num_epochs):\n",
    "    for i, data in enumerate(trainloader, 0):\n",
    "        # Chargement des entrées et des étiquettes\n",
    "        inputs, labels = data\n",
    "        \n",
    "        # Calcul des sorties à l'aide de la méthode forward\n",
    "        outputs = model2(inputs)\n",
    "        \n",
    "        # Calcul de la perte\n",
    "        criterion = torch.nn.CrossEntropyLoss()\n",
    "        loss = criterion(outputs, labels)\n",
    "        \n",
    "        # Ajout de la perte à la liste\n",
    "        loss_values.append(loss.item())\n",
    "        # Calcul des gradients pour la rétropropagation\n",
    "        optimizer = torch.optim.SGD(model2.classifier[6].parameters(), lr=0.001, momentum=0.9)\n",
    "        optimizer.zero_grad()\n",
    "        loss.backward()\n",
    "        \n",
    "        # Mise à jour des paramètres du modèle\n",
    "        optimizer.step()\n",
    "        \n",
    "        # Affichage de la progression de l'entraînement toutes les 100 itérations\n",
    "        if i ==100:\n",
    "            print('[%d, %5d] loss: %.3f' %\n",
    "                  (epoch + 1, i + 1, loss.item()))\n",
    "            break"
   ]
  },
  {
   "attachments": {},
   "cell_type": "markdown",
   "metadata": {},
   "source": [
    "On sauvegarde le modèle"
   ]
  },
  {
   "cell_type": "code",
   "execution_count": 16,
   "metadata": {},
   "outputs": [],
   "source": [
    "torch.save(model2.state_dict(),\"model2\")"
   ]
  },
  {
   "cell_type": "code",
   "execution_count": 41,
   "metadata": {},
   "outputs": [],
   "source": [
    "import pickle\n",
    "\n",
    "# sauvegarde\n",
    "with open(\"loss_vgg19\", \"wb\") as f:\n",
    "    pickle.dump(loss_values, f)\n",
    "    \n",
    "# chargement\n",
    "with open(\"loss_vgg19\", \"rb\") as f:\n",
    "    loss2_loaded = pickle.load(f)"
   ]
  },
  {
   "attachments": {},
   "cell_type": "markdown",
   "metadata": {},
   "source": [
    "#### Courbe de gain"
   ]
  },
  {
   "cell_type": "code",
   "execution_count": 43,
   "metadata": {},
   "outputs": [
    {
     "data": {
      "image/png": "iVBORw0KGgoAAAANSUhEUgAAAioAAAGwCAYAAACHJU4LAAAAOXRFWHRTb2Z0d2FyZQBNYXRwbG90bGliIHZlcnNpb24zLjUuMiwgaHR0cHM6Ly9tYXRwbG90bGliLm9yZy8qNh9FAAAACXBIWXMAAA9hAAAPYQGoP6dpAABUWUlEQVR4nO3dd3gT9eMH8He6S0dYLW2h0AIyW/beIEOW8FNREBEcKAooIg70q+Aszq+TISIoDnAA+nWwZJZZ9p4ttEAZBdqUjrRN7vdHm2suOyHJXdv363n6PM3lknwul+Te91mnEgRBABEREZEC+chdACIiIiJrGFSIiIhIsRhUiIiISLEYVIiIiEixGFSIiIhIsRhUiIiISLEYVIiIiEix/OQuwO3Q6/W4dOkSwsLCoFKp5C4OEREROUAQBOTm5iImJgY+PrbrTCp0ULl06RJiY2PlLgYRERG5ICMjA/Xq1bO5ToUOKmFhYQBKNzQ8PFzm0hAREZEjNBoNYmNjxeO4LRU6qBiae8LDwxlUiIiIKhhHum2wMy0REREpFoMKERERKRaDChERESkWgwoREREpFoMKERERKZasQSUuLg4qlcrsb/LkyXIWi4iIiBRC1uHJKSkp0Ol04u0jR45gwIABGDVqlIylIiIiIqWQNahERERIbs+ZMweNGjVC7969La6v1Wqh1WrF2xqNxqPlIyIiInkppo9KUVERvv/+ezz66KNWJ4BJSkqCWq0W/zh9PhERUeWmEgRBkLsQAPDzzz/jwQcfRHp6OmJiYiyuY6lGJTY2Fjk5OZyZloiIqILQaDRQq9UOHb8VM4X+okWLMHjwYKshBQACAwMRGBjoxVIRERGRnBQRVM6fP4/169djxYoVcheFiIiIFEQRQWXx4sWIjIzE0KFD5S4KAKCwWIcbeUXwUakQpQ6SuzhERERVluydafV6PRYvXozx48fDz08RuQl/H85Etzkb8MKvB+UuChERUZUme1BZv3490tPT8eijj8pdFFGwvy+A0poVIiIiko/sVRgDBw6EQgYeiYICSoNKAYMKERGRrGSvUVEiQ41KQRGDChERkZwYVCwob/rRy1wSIiKiqo1BxYJgNv0QEREpAoOKBWz6ISIiUgYGFQsC/ErfliIdm36IiIjkxKBigb9v6dui0wvQ6ZU1IomIiKgqYVCxwFCjAgDFrFUhIiKSDYOKBf6+KvF/Nv8QERHJh0HFggDf8relqIRBhYiISC4MKhaoVCqxVoVNP0RERPJhULHCUKvCGhUiIiL5MKhY4V/WoZY1KkRERPJhULHCUKOiZY0KERGRbBhUrDDMpVKs4zwqREREcmFQsSKQTT9ERESyY1Cxwp+daYmIiGTHoGIFr/dDREQkPwYVKwzzqLBGhYiISD4MKlYEsI8KERGR7BhUrGAfFSIiIvkxqFhx6EIOAOCHXekyl4SIiKjqYlCxIqegGABwPFMjc0mIiIiqLgYVK57r3wQA0LdppMwlISIiqroYVKyoFRoAACjRs48KERGRXBhUrPDzKR2erNNzCn0iIiK5MKhY4cdr/RAREcmOQcUKw4RvrFEhIiKSD4OKFb5lTT+c8I2IiEg+DCpW+PmUvjUlrFEhIiKSDYOKFYbOtAwqRERE8mFQscKvrI9KCZt+iIiIZMOgYoXhWj/sTEtERCQfBhUr2JmWiIhIfgwqVhiGJ7OPChERkXwYVKwQR/1wwjciIiLZMKhY4SuO+mHTDxERkVwYVKwwdKZljQoREZF8GFSs8OU8KkRERLKTPahcvHgRDz30EGrVqoVq1aqhTZs22Lt3r9zFKu9My1E/REREsvGT88Vv3ryJ7t27o2/fvvjnn38QGRmJs2fPonr16nIWC0D51ZNZo0JERCQfWYPKe++9h9jYWCxevFhcFhcXJ1+BjBim0NeW6FFYrEOQv6/MJSIiIqp6ZG36+eOPP9ChQweMGjUKkZGRaNu2LRYuXGh1fa1WC41GI/nzFENQAYBZvx/12OsQERGRdbIGldTUVMybNw933HEH1qxZg0mTJuGZZ57Bd999Z3H9pKQkqNVq8S82NtZjZTPMowIAy/dkeOx1iIiIyDqVIAiydcIICAhAhw4dsH37dnHZM888g5SUFOzYscNsfa1WC61WK97WaDSIjY1FTk4OwsPD3Vq2PG0JWs5aI94+N2eoW5+fiIioqtJoNFCr1Q4dv2WtUYmOjkaLFi0ky5o3b4709HSL6wcGBiI8PFzy5ymGqycTERGRfGQNKt27d8fJkycly06dOoUGDRrIVKJyxk0/IQHsSEtERCQHWYPKc889h507d+Ldd9/FmTNn8OOPP+Krr77C5MmT5SwWgNIJ36LVQQCAPs0iZS4NERFR1SRrUOnYsSNWrlyJn376CQkJCXjrrbfwySefYOzYsXIWS/R4z4YAAF8Vm4GIiIjkIOs8KgAwbNgwDBs2TO5iWCTOTssLExIREclC9in0lcxwYcKiEs5OS0REJAcGFRv8fFijQkREJCcGFRsMNSolOtaoEBERyYFBxQbDXCrFvIIyERGRLBhUbDDUqDCoEBERyYNBxYbyUT9s+iEiIpIDg4oNhtlpi9lHhYiISBYMKjaw6YeIiEheDCo2iE0/DCpERESyYFCxwc+XTT9ERERyYlCxwTDhG5t+iIiI5MGgYkOAX9mEbxz1Q0REJAsGFRtYo0JERCQvBhUbOIU+ERGRvBhUbAj0L317Ckt00LP5h4iIyOsYVGwID/IHAAgCcKuoRObSEBERVT0MKjYE+fuKHWo1BcUyl4aIiKjqYVCxw1CroilgjQoREZG3MajYkXVLCwCYs/qEzCUhIiKqehhUHLTl1DW5i0BERFTlMKgQERGRYjGoEBERkWIxqBAREZFiMagQERGRYjGo2NExrgYAoG71YJlLQkREVPUwqNgxqkMsAKBJnVCZS0JERFT1MKjY4aMqvYIyL/VDRETkfQwqdpRdQBl6gUmFiIjI2xhU7CivUWFQISIi8jYGFTsMQUXHth8iIiKvY1Cxg31UiIiI5MOgYoehj4rAph8iIiKvY1CxQ8WmHyIiItkwqNjBph8iIiL5MKjYweHJRERE8mFQsUPF4clERESyYVCxw1fsoyJzQYiIiKogBhU7DH1UjmdqcEVTKHNpiIiIqhZZg8rs2bOhUqkkf1FRUXIWyUxZTgEAbDxxVb6CEBERVUF+chegZcuWWL9+vXjb19dXxtKYyy/Sif8H+LECioiIyJtkDyp+fn6Kq0UxlqctEf/39VHZWJOIiIjcTfYqgtOnTyMmJgbx8fEYPXo0UlNTra6r1Wqh0Wgkf56WV1QeVDjpGxERkXfJGlQ6d+6M7777DmvWrMHChQtx+fJldOvWDdevX7e4flJSEtRqtfgXGxvr+TLG1xL/L2FQISIi8iqVoKCL2OTl5aFRo0Z48cUXMX36dLP7tVottFqteFuj0SA2NhY5OTkIDw/3WLn6fbQJqdfykHRPIsZ0qu+x1yEiIqoKNBoN1Gq1Q8dv2fuoGAsJCUFiYiJOnz5t8f7AwEAEBgZ6uVRA0zphSL2WxxoVIiIiL5O9j4oxrVaL48ePIzo6Wu6iSBg60eo46xsREZFXyRpUZsyYgc2bNyMtLQ27du3CfffdB41Gg/Hjx8tZLDN+ZUGFNSpERETeJWvTz4ULFzBmzBhkZWUhIiICXbp0wc6dO9GgQQM5i2XG16c0z3HUDxERkXfJGlSWLVsm58s7jDUqRERE8lBUHxWl8vU1XJiQQYWIiMibGFQcwBoVIiIieTCoOEAc9aPnqB8iIiJvYlBxgK+KNSpERERyYFBxgNhHRcegQkRE5E0MKg5gHxUiIiJ5MKg4gPOoEBERyYNBxQGGGhWdcq7fSEREVCUwqDig/Fo/DCpERETexKDiAPZRISIikgeDigM4jwoREZE8GFQcwBoVIiIieTCoOMDXl6N+iIiI5MCg4gDWqBAREcmDQcUB5X1UGFSIiIi8iUHFAaxRISIikgeDigM46oeIiEgeDCoO8CubQr+YE74RERF5FYOKA9hHhYiISB4MKg4I8CsNKsU6Nv0QERF5E4OKA/zL5lEpKmFQISIi8iYGFQcYggprVIiIiLyLQcUBhqBSWMygQkRE5E0MKg4IKAsqF7MLkFNQLHNpiIiIqg4GFQf4+arE/9ccuSxjSYiIiKoWBhUHGJp+AKBaoK+MJSEiIqpaGFQcIAjl86eEBPjJWBIiIqKqhUHFASpVedNPkD9rVIiIiLyFQcUBjSJC5C4CERFRlcSg4gDjGpVf9mTIWBIiIqKqhUHFSSv2X5S7CERERFUGgwoREREpFoMKERERKRaDChERESkWgwoREREpFoMKERERKRaDChERESkWgwoREREpFoMKERERKZZigkpSUhJUKhWmTZsmd1GIiIhIIRQRVFJSUvDVV1+hVatWcheFiIiIFET2oHLr1i2MHTsWCxcuRI0aNWyuq9VqodFoJH9ERERUeckeVCZPnoyhQ4eif//+dtdNSkqCWq0W/2JjY71QQiIiIpKLrEFl2bJl2Lt3L5KSkhxaf+bMmcjJyRH/MjJ4JWMiIqLKzE+uF87IyMCzzz6LtWvXIigoyKHHBAYGIjAw0MMlIyIiIqWQLajs3bsXV69eRfv27cVlOp0OW7ZswRdffAGtVgtfX1+5ikdEREQKIFtQufPOO3H48GHJskceeQTNmjXDSy+9pLiQEuTvg8JiPQBAEASoVCqZS0RERFT5yRZUwsLCkJCQIFkWEhKCWrVqmS1Xgj+m9MDA/24BAOj0Avx8GVSIiIg8TfZRPxVFtLq8H02JXpCxJERERFWHbDUqlmzatEnuIljl51Oe6XQMKkRERF7BGhUH+fqUN/WwRoWIiMg7GFQc5GcUVFijQkRE5B0MKg7y8VHBMNCnRKeXtzBERERVBIOKE3zLkgorVIiIiLzD5aCSnZ2Nr7/+GjNnzsSNGzcAAPv27cPFixfdVjil8RGDCpMKERGRN7g06ufQoUPo378/1Go1zp07h4kTJ6JmzZpYuXIlzp8/j++++87d5VQEQ9MPgwoREZF3uFSjMn36dEyYMAGnT5+WXKdn8ODB2LJli9sKpzSGGhXmFCIiIu9wKaikpKTgySefNFtet25dXL58+bYLpVQ+rFEhIiLyKpeCSlBQEDQajdnykydPIiIi4rYLpVQ+7ExLRETkVS4FlREjRuDNN99EcXExAEClUiE9PR0vv/wy7r33XrcWUEnYR4WIiMi7XAoqH374Ia5du4bIyEgUFBSgd+/eaNy4McLCwvDOO++4u4yKUVCsAwCsPXpF5pIQERFVDS6N+gkPD0dycjI2bNiAffv2Qa/Xo127dujfv7+7y6coxbrSmpT3Vp/AU30ayVwaIiKiys+loPLdd9/hgQceQL9+/dCvXz9xeVFREZYtW4aHH37YbQUkIiKiqsulpp9HHnkEOTk5Zstzc3PxyCOP3HahiIiIiAAXg4ogCFCpVGbLL1y4ALVafduFIiIiIgKcbPpp27YtVCoVVCoV7rzzTvj5lT9cp9MhLS0Nd911l9sLSURERFWTU0Fl5MiRAIADBw5g0KBBCA0NFe8LCAhAXFxcpR6eTERERN7lVFCZNWsWdDodGjRogEGDBiE6OtpT5SIiIiJyvo+Kr68vJk2ahMLCQk+Uh4iIiEjkUmfaxMREpKamurssRERERBIuBZV33nkHM2bMwJ9//onMzExoNBrJHxEREZE7uDThm2Fkz9133y0ZpmwYtqzT6dxTOiIiIqrSXAoqGzdudHc5iIiIiMy4FFR69+7t7nIQERERmXGpjwoAbN26FQ899BC6deuGixcvAgCWLl2K5ORktxWOiIiIqjaXgspvv/2GQYMGITg4GPv27YNWqwVQeq2fd999160FVKrDF8yvdURERETu5VJQefvttzF//nwsXLgQ/v7+4vJu3bph3759biuckm07myV3EYiIiCo9l4LKyZMn0atXL7Pl4eHhyM7Ovt0yVQgFRRzZRERE5GkuBZXo6GicOXPGbHlycjIaNmx424WqCApLGFSIiIg8zaWg8uSTT+LZZ5/Frl27oFKpcOnSJfzwww+YMWMGnn76aXeXUZEKWaNCRETkcS4NT37xxReh0WjQt29fFBYWolevXggMDMSMGTMwZcoUd5dRkQqKGVSIiIg8zamgkp+fjxdeeAGrVq1CcXExhg8fjueffx4A0KJFC4SGhnqkkEoxc3AzJP1zAgCQzxoVIiIij3MqqMyaNQtLlizB2LFjERwcjB9//BF6vR6//PKLp8qnKJ0b1hL/L2SNChERkcc5FVRWrFiBRYsWYfTo0QCAsWPHonv37tDpdPD19fVIAZXEp/yyRigs1stXECIioirCqc60GRkZ6Nmzp3i7U6dO8PPzw6VLl9xeMCVSoTypsI8KERGR5zkVVHQ6HQICAiTL/Pz8UFJS4tZCKZVKUqPCoEJERORpTjX9CIKACRMmIDAwUFxWWFiISZMmISQkRFy2YsUK95WQiIiIqiyngsr48ePNlj300ENuK4zS+RhVqRjXrhAREZFnOBVUFi9e7NYXnzdvHubNm4dz584BAFq2bInXX38dgwcPduvruAvDCRERkXe5NDOtu9SrVw9z5szBnj17sGfPHvTr1w8jRozA0aNH5SyWVQwqRERE3uXSzLTuMnz4cMntd955B/PmzcPOnTvRsmVLs/W1Wi20Wq14W6PReLyMxoybfgTBqy9NRERUJclao2JMp9Nh2bJlyMvLQ9euXS2uk5SUBLVaLf7FxsZ6tYysUCEiIvIu2YPK4cOHERoaisDAQEyaNAkrV65EixYtLK47c+ZM5OTkiH8ZGRleLatx0w+bgYiIiDxP1qYfAGjatCkOHDiA7Oxs/Pbbbxg/fjw2b95sMawEBgZKhkZ7X3k6yc4vlrEcREREVYPsQSUgIACNGzcGAHTo0AEpKSn49NNPsWDBAplLZtuFmwXILSxGWJC/3EUhIiKqtGRv+jElCIKkw6yySHvQnrl6S6ZyEBERVQ2y1qi88sorGDx4MGJjY5Gbm4tly5Zh06ZNWL16tZzFssp0pI+KHVWIiIg8StagcuXKFYwbNw6ZmZlQq9Vo1aoVVq9ejQEDBshZLKs4IpmIiMi7ZA0qixYtkvPlbxvrU4iIiDxLcX1UiIiIiAwYVJxg3kdFnnIQERFVFQwqREREpFgMKk4QTLrT+rBKhYiIyKMYVJzACxESERF5F4OKExhUiIiIvItBxQn+vmzqISIi8iYGFSc0jgyVuwhERERVCoOKE1QqFT4c1Vq8rdOzLYiIiMiTGFRuw4gvt+GlXw/JXQwiIqJKi0HFSYJJj9rlezJkKgkREVHlx6BCREREisWg4iT2SiEiIvIeBhVnMakQERF5DYOKk0yn0SciIiLPYVBxEmenJSIi8h4GFSIiIlIsBhUnBQf4yl0EIiKiKoNBxUlDEqPlLgIREVGVwaDiJH9fHwT48m0jIiLyBh5xXVCk08tdBCIioiqBQYWIiIgUi0GFiIiIFItBxQ1ML1RIRERE7sGg4gbMKURERJ7BoOIGeiYVIiIij2BQcQM9cwoREZFHMKi44O2RCZLbrFEhIiLyDAYVF7SJrS65zZxCRETkGQwqLvBRqSS3WaNCRETkGQwqLjDJKQwqREREHsKg4gLzoCJPOYiIiCo7BhUXqCBNKpzwjYiIyDMYVFzAGhUiIiLvYFBxQUz1YMlt9lEhIiLyDAYVF4QG+kluM6gQERF5BoOKGzCnEBEReQaDihuwRoWIiMgzZA0qSUlJ6NixI8LCwhAZGYmRI0fi5MmTchbJJddytXIXgYiIqFKSNahs3rwZkydPxs6dO7Fu3TqUlJRg4MCByMvLk7NYTjt77ZbcRSAiIqqU/Oyv4jmrV6+W3F68eDEiIyOxd+9e9OrVS6ZSOS87v1juIhAREVVKiuqjkpOTAwCoWbOmxfu1Wi00Go3kTwne+N8xuYtARERUKSkmqAiCgOnTp6NHjx5ISEiwuE5SUhLUarX4Fxsb6+VSEhERkTcpJqhMmTIFhw4dwk8//WR1nZkzZyInJ0f8y8jI8GIJiYiIyNtk7aNiMHXqVPzxxx/YsmUL6tWrZ3W9wMBABAYGerFkjmlYO0TuIhAREVVKsgYVQRAwdepUrFy5Eps2bUJ8fLycxXFZsV4vdxGIiIgqJVmDyuTJk/Hjjz/i999/R1hYGC5fvgwAUKvVCA4OtvNo5Sgu4YRvREREniBrH5V58+YhJycHffr0QXR0tPi3fPlyOYvltBLWqBAREXmE7E0/lUFRCYMKERGRJyhm1E9Fpikswa97L8hdDCIiokqHQcVNZvxyUO4iEBERVToMKkRERKRYDCpERESkWAwqREREpFgMKkRERKRYDCouGtu5vtkynb5yDLcmIiJSCgYVF709MgE7ZvaTLCvWcT4VIiIid2JQcZFKpUK0WjrNP4MKERGRezGouFGJjk0/RERE7sSg4kasUSEiInIvBhU3KmZnWiIiIrdiUHGjEtaoEBERuRWDym3y81GJ/xezjwoREZFbMajcpl2v3Cn+f/pKrowlISIiqnwYVG5TrdBA8f+nftgnY0mIiIgqHwYVIiIiUiwGFSIiIlIsBhUiIiJSLAYVIiIiUiwGFTcr0ekxbtEuzPnnhNxFISIiqvAYVNxs08lr2Ho6C/M3n5W7KERERBUeg4qbZRcUy10EIiKiSoNBxQ2iwoPE/3lhQiIiIvdhUHGD+zvUE//XFutkLAkREVHlwqDiBiVGV01esv2c+P+Zq7cgCLz+DxERkasYVNxAZxRGzl3PF//v//FmfLUlVY4iERERVQoMKm6g11uvNflo3SkvloSIiKhyYVBxgxIbQUXlxXIQERFVNgwqbvBw1zir9/moGFWIiIhcxaDiBvG1Q6ze58OcQkRE5DIGFQ9jjQoREZHrGFQ8jDmFiIjIdQwqHubDth8iIiKXMah4GJt+iIiIXMeg4mGMKURERK5jUPGwQl77h4iIyGUMKh6WV1QaVK7lalFUwisrExEROUPWoLJlyxYMHz4cMTExUKlUWLVqlZzFuS1z7klEgJ/52+mjKr04Ycd31mP458kylIyIiKjikjWo5OXloXXr1vjiiy/kLIZbjO5UH8feGGS2XC+UXpwQAE5eyQUAHMjIxsu/HcL1W1qvlpGIiKii8ZPzxQcPHozBgwfLWQS38vN1LPeN/HIbACC3sARfjm3nySIRERFVaLIGFWdptVpoteW1EBqNRsbS3L5TZTUsREREZFmF6kyblJQEtVot/sXGxspdJCIiIvKgChVUZs6ciZycHPEvIyND7iLdFkHuAhARESlchWr6CQwMRGBgoNzFuC3fbj8n/i8I0qgiCAKW7jyPOyLD0LVRLS+XjIiISHkqVFCpDGb9cVT837RGZUfqdbz+e+n95+YM9WKpiIiIlEnWoHLr1i2cOXNGvJ2WloYDBw6gZs2aqF+/vowl8xKTpJJxI1+echARESmUrEFlz5496Nu3r3h7+vTpAIDx48djyZIlMpXKe1Kz8iS3VbwyEBERkYSsQaVPnz5m/TSqMuMLLV+4mY96NarJVxgiIqrQCop02HjyKno1iUBoYMXt6VGhRv1UBCEBvgCAHo1rO/1YlVFS+WDNSbeViYiIqp5XVh7G0z/sw9Qf98ldlNvCoOJmv0/pgQnd4vDR/a2dfqxxw0+JjjVNVPkcuZiDj9aeRH5RidxFIar0Vu6/CADYePKazCW5PRW3LkihGkeGYvbdLR1ef/YfR3Fn80h0iq+JK7mF4nIBAtKv5+PpH/eiXf0aSL2WhzdGtESjiFCLz1NQpENwWW2Ooy7czIemoAQtYsKdepw1er0AlUpaM0RkbFjZhTmLSvSYOaS5zKUhooqANSoyW7L9HMYt2o23/zyO91eXN/fo9AJe/O0gjlzU4Lsd55F8JgtjF+7CvE1nsTvtBiYt3YuNJ68CAJbuPI/mr6/G7wcuOvXaPd7biCGfbUVmTsFtb4dOL2DY58l4YMHO2+p3VFisw4gvtyHu5b/wyfpTt10uUqYjl3LkLgIRVRAMKgqxdOd5yW2dXsD1W0WSZZc1hXhv9Qncv2AHVh+9jEcWpwAAXlt1BADw7LIDLr32qSu3XHqcsfPX83AsU4Pd526g+Daarf538BIOZmQDAD5Zf5qdrSspvV7uEti34cQVbD1dsavMb1exTo9Hl6Tg839Py10UqsIYVBTq3xNXcfrq7QUInV5A1i2t/RXLFBTpcOhCtkvhwF1xQm/y2voqllP0egGPf7tHDJ9y0nnwzRcUfgGJ7PwiPLpkD8Yt2o1iXQVIVR6y7tgVbDhxFR+tY+0myYdBxYPmP9TO5cc6mhVyC4ut3vfokhR0eHs99qXftPNapS82ZuFO3P3FNqzYdxFXcwux4+x1h0OL8WqmYcMZvj7Sj6QnD5ZKdPhiDtYfv2JWw2aw/tgVnLjs+auGH72Ug8TZa7Bg81mPPL/Sd2tOQfn3qqp9Bo0VFOnkLoLiFRbr8E1yGtJM5sUi92FQ8aCujZwfouysxNlrJbf1Rj+qm0+VVlsv3WH5oGdgyBUHyppclu/JQI85GzFm4U7xOewrf13TnFKs0zt8VurvK+2IezuhRwnm/HMC/3XibDTfxoHh8IUcPP7dHtz1yVZ3FM2m/6w6gvwiHZL+OeGR51d6k56tbHJVU4gxX+3E34czvVcgmSh7LynDFxvO4M0/j6Hvh5vc9pwlOj1KqnBNnikGFQ8K8PX+2zvks60unQEaOuYaFJV9SZJPZzn0eGs1Kjq9gG5zNqBr0gZJuW7mFeHstVu4fkuLW9ryoap+lahG5aqmEPM3n8Wn/55GYbFjZ6a2At2pK7lW71u1/yKGf56MCzctX4bB2fdR7+H3Xam7VRAE7E67getGTaammeqdv49jR+p1PP1DxZ6bwhFKD5RKsCvtulufT6cX0PuDTej30WaPfw8rCgYVDwry9/7be+JyLtJNrhl0S1uCp3/YKzkDNP4BEiBg7sYzsCTP5AxfrxdwI6/IbD3j75PO6Llv5hfhWq4WWbe0yM4vf1zbt9bhzo82o/3b65Ewa4243NdHWqOic8MP5aXsAjz9w16knLtx288FAJrCYty08B6YKjAKJ45uhnFQOerEyJhpyw/g8MUcvPG/Y2b3pWXloc2ba52q2bH3vt/MK8KPu9KhsdH0aPP5HfwB9vaBcsOJq7h/wQ7cN3+HuMy0Vu9mvmvbXBHxMGmfuz+i13K1uJhdgPQb+bjF+YYAMKh4lEqlwoejWiNGHeTV1y0q0WP0V+U/tOuOXcHfhy9LzgCNjxN6vfUz3J92p0uCyWPfpqDdW+tw6EK21dcXjCoFjL/E9uZX0ekF/Lr3gnSZTnC4NsKaF349iL8PX8Yoo4PP9rNZ+OuQ81X3giCg1ey1aPvWOrvt98YHY0cDV1FJ+Zs39LNkhwKRsTyt+Q/b+6tPILewBJ86MXLDXq3zE0v34JWVh/HCLwedKp+BIwFk7dHLaPXGWmw8cdXuuu6yZPs5s2X/XXcKXxoFeZ+qNE2Qh5PKzbwibDuTVaFrDlxtni4q0bPGykEMKh52X/t62D7zTq++5oLNZ7Ez1XLtwRcbTuOKptDsy1Vi9ENh+ju842x51aZhhkNDv5c8bQmOXMyRjOLQC6Xh4rnlB/DXoUvicuODsClBEPDDrvNYf/yKZPnUn/ajzZtrcTmn0Gz9jBv5Nr/ogiBg6c7z2HbGvGr2wYW7MPnHfTavWK3XC3hu+QF8saH8AG8cPi5mF6CwWIermkJLDzdrAnNEkUlCyMwpxLmsPFzKLoAj8+hZWsfHhQn47B04Us6VdtBec/SKzfWsEQDsOXcD13Ktj0p7Yule5BaW4JElKU4//1VNIXamOlcln349H1stNHV+nZyGD9aUz6bryvspB1sd7R1lb3SWcS2pK4Z9noyxX+/Civ3OzQHlKL1ecLnWz1GuRI3s/CK0fmMtJn63x8LzGdV2s5sKAAaVSunoJeujQj5cewoTFqdIDqJnr90S5y6x5PyNPLNA8MveC7jzo01oOWsNhn2ejPXHyg9YekHA0h3nsXL/Rcw2aorokvQvvttxzuJrlOgF7LIQrpLPZKGwWI9vTR73zl/H0fP9jfjWwhmwwaaT1ywO8zUODdcsDN821ODsPncDK/dfxIdry5tMjN8FvSCg74eb0Ondfy0GHuPMsfnUNQz/PBnHbOwbAGZz0NzSlqDPh5vQbc4Gx4KKhStw+7hQBWBaA3S7tVqmDl3IwX3zd6Br0r9ufV6Dzkn/YvRXO52aB2VHqu3+WIZ9I1eNys28Ios1Zpb8fuAiEmevxbxNtkdtZdzIxx4bTaK2Tvh/23sBbd5ch0/Xuz7HysXs0skm1xy97PJz2DJm4U60mr0W5697bkSOo5VBzy7bj3GLdkGvF/DnoUwUFOuw/rjt2kJ3NH1XBgwqXuJIf5U59yS65bVO2uh0CQDHMzX440B5TYe9kR3vrz6JTyz8GJ29Vv7lX5aSIf6vF4CsPMtnyq//ftTi8k0nr+EvG6MorpjUqHydnAYAmP2/Y7h/wQ5JILmUXYDE2Wssnoln5xdBW1J+0PU1Ofr3+3ATmr22GgczsrE/Pdvs8cYh55mf9iOzrFybLIyOKjGa1eyZn/bj8MUci2dQ0ueXnkJdzC4PQI5c/8lyjYrdh0kIgoAzRnP4PLf8AJq9thp7z9se5m76HC/8chBv/2neZ8ZYiYeq/A2/7452BneEYd+7+xIRRy7miAdsa25pS9D2rXVoOat0yLi9/kszyprk3ltt+7vd8/2NuG/+DpeGvM9ceRgA8F8XZ5A2Pmnxc2P6KyjSYdqy/Vh9JBO70kpD2EoP1dgA5s2YlmojBUHA7wcuYevpLJy5Znt+LOOnq8iDCdyJQcVLVj7dHUMSo2yuM7pTfdzTtq5XyvPCr4ecWt9e/4YLN8t/aPWCAH8f6x+tn/dkmC2zdwC/bKV5BQB2p92QzDsy6JMtyC20fOZ5MbtA0rck6Z/j4giP45kapJbNhfDgwp0Wf+SNf0ROXC4PhJZ+Zi0FC3tV5bZ+l0ybhW7kFeG3vRckF/izdBB19qTs78PSs1vDj/y987Y7/BxpWXn4Ze8FfJ2cJm//AzdmCkNHZ+NwO+TTrU43f2hLdDhX9jlLv56PYZ8no/ucDTYfYxwck/45gaGfJdtc39kRh4cyLAcfW3vO9ABdWKzDI4t326zlNLiaWyg5aTHtRH87vt6ailUHLmHS9+V98izVNBrsS7+Jl349ZDZI4Jc9GXjx14N2w4Lx2/DVlrNo8+ZasyBpXFMqCLbfV+PXc7X/S0GRzmO1VHJgUPGS5tHhmDu2vWTZtpf7YWLPeMkyJVzQ73YPK7/sybD5w/OikyEJAK7a6MtgylpIMSg06iuzM/UGXvqt9MzQeCZg09FOcS//hR1nr1v94bC0237YZT5/jaX+DZrCYszffBYXbubb/GEy7c/x8De78PwvB/GWUa2F6bPfzCvCHwcvwRFJfx/Hk0v3ODU6ytrHVWv0HturvjZtVrqlLTELN19uPINxi3ZJasO8zdDHyjiDH8vUYP7mVKeeZ8I3Kejz4SYkn87CsUzHajJs/Sqcv56HLu/+i34fbkLGjXys2n9R8vm9fkvr0AzVu9NumE1TIJl2wGSfmB6/l+1Ox8aT1zDrD/Na06ISPVLO3RDDXr5Wuh/dWaNifHFXA5WqtKZ15opDOHlZWuN8z9ztWL4nw6yZ+IVfD+HnPRds1vQC0jDx7t8noCkswdDPkiW1ZGZhx8Z3QtIJ38WQ/+rKw3hy6V6XHqtEDCoyqls92KzqWwkjCnan3d4w3g/XnnLrDw8AhyY/EgQB28/arur3UanMRuscLBvBVGyjsy8AjP16p/WgYuFQ8vOeC5ZWNDP796OY888J3DN3u9nv13PLy0fVmDa/HblYepD782D5D6lpcDBukjN2+EKO5CwdABZsScWao1ew57zj+99ax1JnOhIb+qkIgoDDF3KQMGsNxi/eLVnngzUnsfV0FpbuOI/cwmJk5xfZnFfGFfZOXg0HWdOTCWfD046yTr6/7rW8b/R6AfvTb0qe19b5y0u/HcJlTSFSs/Lw0KJdmLb8gOT+9m+vR4e310s6s/97/IrZjNX3L9iBRxanYOaKw2ItnXHHTtPAabyPP/v3tKQ/mqk3/zyKUfN34KmyWg7Tz43pjNTupgLw9A/78NPuDNz9heXaKGuh0XiWYkusfW6eXFpeS2z83qtUdmpUXOiEb8pTnZPlwqDiZe0b1AAA9G4SAcD8g6iAChWrnPnS+Ll5sjtHOpUVFOvw4MJdNte5mV8kaSoByqvyf9ydbvOxegHYZ6HfilPKNkOvF7D6SCau5hYi+UxpuLqaq3V4uOKbVg4K9j4+O85ex8frTmH4F8no//Fmi+vcslMjZcxaHnXmkgqGeUnmbT6L4WUHEUujbwDg7b+OI3H2WnRN2oCB/93iUN8KvV7AoQvZkoPFX4cyxTNrR2dNNlTfm/ZrsrV5xTo9HluSgvkWLkVQJzzI4v5esCUV/zd3O5r+Z7UY0C0FwtzCYnz+72lJX6rz162PYvvs39PYn34T6dfz8di3e3DP3PKmPON99NPudLz3zwnkaUts7kfjmx/bmaPn+52l3631x6/g55QMs985d5/YWGKYeVtr5YTEWodxH1Vpp2PT37+iEj32p9+0GnAMJxJA6WfbQAXpe7fhhHTknN7FGpUzV3Mx5NOtWH3Ecg2Qox2xlYhBxcu+Gtces4a3wKej2wAwH+XRNCpchlI5ptErfzu8rrt/eAx9TPV6wercHcY/DNY8uHCX2RmSprAYq/ZfdKiz6Phvdlu9zzAc9PotrdWrzeaW/Vj8vCcDk77fh3Ff74a/Uahz9JIF32xLs7jc9IBmekAYs3AnPvvXfLi18Y+jtR9yA+ODa7FOsFizYVwrp9MLdn8kV+y7gPdXn7S5jjHDZHrGQ+et+WprKu7+Yhue+/kAgNI5dCb/uA+DPtmC55YfwB2v/oO7v0i2u/+LxdBgfZ1V+y/ijf8dhV4v4H8HL2Hswl3498RVzCnrsL7WqN/Ab/su4CmjuY10egEFRTpJ36jlZf25LJ3AvPv3cXy07pTd/WXwxcYz+L+523Eh2zzMFJscEL/dcR4tZ63BBqM5bJy94rVeL+DIxRyzaQk+WX/KLPTszzB/729pS7Dm6GWzEwt7LAXH5Sb94rafzUJhsQ7/M2oWzcwplMySbfDnwUz0fH8jnjOqqdKW6NDkP//g/+ba7rf1U9nJz6Lk8uZB0+zx6JI9kpFXkhoVJ/qoPP/zQRzL1Ej65hizdnIDlNYafbXlLC7Z6dQtFwYVL6sVGohHusejerUAAOajPB7u2kCOYrmdpYmzbsfF7AJ8uv40pv60H7/stdCkgtKqa0eMWyQNG/lFOrPqcme9svIwEmevxXurT+CRJSl2rzZrqJo9eSVX0pZtb7iiJbla48600vuy7cyiWqzT41J2Adq8WX7NqMwc6x2X/zqUidZvSK8vNfC/WyS3j13S4E2jfjPzN59Fy1lrbHbum/6zaxPHGT/n+et5+H7nebMD41dbUsWyA6WjbAwMHYUPXcix+rkyKLJRu2EwbfkBLN52Dv+euIqpP+3HbqMDUE5BMZ4w6jeQdcu882bz11dLls35uzS0WGpadLWJ9p/D5vvBWtOqJKg42bFz8fZzGPZ5Mpr85x/Jcr1gXlNw6sots74jT/+wD08u3YsWr6/By7/Z79e2av9FfL3Vcn8h487+ALDlVBae/+Ugpv60X7K8zwcbIQiC5ITB0FRn3NfLkQ7DADBzxWE8/M1uyQnpzfwi7DdpdjuWqYFeL6CoRC/phG+pRqVEp4deL2D7mSzJhJAaOzWhy/dkQFuiQ05Bsdl7/dqqI3j37xMO/4Z6m5/cBajqTEeG+MtwfSBPsDfc0hWuDoP0JnvzVhikXvPUvA4qpF67hY/XnUKNagFWr8JsUKzTY+6mM3Z/5Awm/2j5bC3rlhZPLt2LqPAgdGlYU3LflxtL3xNPdO7bmXoD57LyEFc7BL0/2ATApE+BIK3dG/55MoIDfF16reKS0lDnSPv/VQsdOq/b6dD68orDZstytSVInLUGjeuEmt3n6sRzlj4Tjgx9d3ZOD2vfBZ0gWDwAD/pkC7o2rIXPxrRFRFggthiFhWUpGXjn/xIlnfQLinR4f80JDGoZhS4Na4knG10b1rJbNk1hscWZqbNuFSHpnxNiuDWVlpWH+jWrmQUfW7aY1JKO/mqn2TpB/r548OudSDl3E98/1llcrtMLyCkoxi97MjAkMRqXsgvw1A/7xI71dasHY9vL/QA4NsBtV+oNPP/LQVzL1eKPKd3Rql51AMCmsk7Uxtt15mouvtx4FlP7NUbDCPPPnzcxqMhsVIdYrNh/EW3rV5e7KOQl2hKdQ6MwXHE1txD9PrLc98SSEp2ALaduf66RbkkbxBoHQz8sbzmeqZHUJH2wRtqEZBz+DxvVpjirWCdImmoMlmw/h4YRIXi4a5y4zNIszK6O6MvVllic08ed/dlML11hibPDzK31/dHrBavz5+xIvY7nlh/A9IFNzO7TFBSjRkiAeHvBlrNYvO0cFm87h7SkIeXrOTAT7Y+7rPdHsxZSAKDvh5vweI94t8//YzwScszC8iCj0wt4deVh/HkoE2//ddzscZITQgc+DyV6vRhyNp28JgYV48/m1J/249HucXj+l4NIvZaHlfsvYu7YdhiSGO3kVrkPg4rMujaqhS0v9EWUnesBdWlY0+q0+AZLH+uEzSeviZOhkTLlaT03xPbQBecOxMU6vdlFLF1hPMdLgZtnsbXHUngwWLAlFfVrVnPL6xy8kG11BufXfz+KJnXCxNuWLg7p7sm7bM0N4ix7k0QCpbVXyWeu4aW7miEsyN/u+tYumVGit1yjYpB8JkvsYG5s4dZU3Nk8EgG+vhj91Q7JEOzhRiN53DkniyVfJ6ehf/M6Hn0NA70gYNNJx/qtObLVxjVn1azULP7v4CX8eeiSpK/P6iOXGVSquvq17P+QqoOlPwzDWkUjLStPnC6/dWx19LwjAj0a14Y62B91awS73O5PnvW3nXkZvGm1ByaFMq3RkJs7ghhgf7ssVekbc/ccMI6EC3ea9H1p052fjw9m393S7vpWa1QE6zUqtszddBZzN52Fv6/KbBCCcUd6b8xFZXpNMk95deURix18jQmCAJVKZTYhpCXGJxHGTaCmb5kgADVDAsRJ8OTuksCgUkGEBJTvquNv3iVOyR8/UzoSR6VSYeqddwAoHRFhr4Ogwdyx7SRXVybP+Y+F6w/JxdolDcj98u1cbbuiWLL9HOrVCLa5zrYzWVbDiF4vmA0icIZpSDF1zM7lBSoSR5oquyT9i49GtUHGDfv9Zowve2JoAsq4kW+x032wf3mQ8feVd96MytFzs5K5q2XpVPud4ss7JQYZpd/gAF+oVCq7Zw4fjGrt8ARyrnYwVCJHttm0horI085etX2Nl4rEUn8JY2O/tj6fkbZEb3Oo7O2yF2QqmysaLR5aZHv+KAPjqQk+WX8aN/OKrHZyNz4msEaFzHw2pi1OXs5FrrZYnMDM38V2V0drWAP9Kk9mVQf7i5OIWRMRFmh3xkkid7I0qqcqKtELOOhkXyryjHZvr7M6YaHxzNVyB5XKc3SqRAL8fJBYT42uDWthUu9G+HR0G0RXt13Vai3HOJJv1kzrZTbbJgB0a1Q+zO/hrg3QxGiI5Ig2Mfaf2Ipzc4bi4/tbu/x4e8IdqC2JCA302Ot7gpJnLCaiisnREeds+iGrVCoVXh7cDCPa1MWEbnEY3jpGnNHW4M0RLVErJABJ9yRafI5Xh7YAUNrD+47IUIvBpWlUmMU5EsZ2tj753Jx7WuH5AU3QOb4mninrE2OJtQnshrVyPejY8+aIBLvrdIyvaXcdbxrTKdbqfXdEhuLA6wNdfu737rX82SAicoTcjWkMKhVEkL8vPh/TFiPa1JUsf7hrHPb8pz+aWZl6/5Fucfh1Ulfse20A1k3vjebR0vWWPdEFgOWhk9VM2ig/uK81aocG4oP7WiE4wBdT77wDy5/siojQAMnjZgxsghNv3YUdM/vhzREJ+OLBtkbbUfqRC/DzwZl3BjvxDlg2qn09s2W9m0RgzbReeKhLfauPK3ByWm53CPD1wbBWlof49bojArVN3keD7mUjuVyRUDccD3Ssj2f6NXbp8UREWi9POWCKfVQqAVudan18VOgQZ7n24NUhzdGlbBZH06Ayok0MejeJwKtDmuPXvRfwdJ9GqBUaiJRX7zR7PdPbTeqEIcjfF9Hq0uaqYa1iUL9mNWTcKJDMWurMhQtfHdIcXRvVwuojl9HjjtrYmXodOr2A6QOa4M9DmWZzdzSNCsOs4S3Fi6GZGtAiCgu3ms83E+Dr49AwP1fMuTcR97Srhz8P/WV2X2ZOIQL9pB2a2zeogeGtojGqg/XaFnsMc23c2bwOPttwxuI6vj4qt8/xQY6LrRns0IiNqibI3weFxZ75LpJzHL2elKewRqWKMR7mnFBXLf5vfB2PD+5rhU9Ht4WPjwoTezXEmud6oVZZnw5Loch4gqW3RiZgQAvzyZBa1auOoa2ixecx1TgyFA90iMXjPeLRODIU6mB/bHi+N166qxn+mNIdE3s1REJdNWYMalo6XXb/Jnh+YFOoVCo8b2EWS8D8KrfGOsXXFGtjmkWF4a6WUXhhUFOr6xvWm9gz3uY6tlQLkJ4XTOtf3mTWMiYcw1pLa1um9G2MCd3jERJY+riwQOfPK8KDSx/TOra604+15cfHO1utHXJVZJj8/YZGd3Q9FBo4+xl5olej235NY3dEujbd+bk5Q902OZ47VMSQUtdOX8KKKlfmKy8zqFQxSWX9FepWD5bUbhiHFmfP4KPCy2fVHdelgUsTLiXEhOO9+1rhP8NaYP303tj32gA0jAjFU30aidM8W/No93iLPxA+VnoST+gWBwCYc28rfP9YZ/w8qSvmj2uPyX0b27zw2oqnu0nmFjBw9ErRrWNL3+OUV/tj/fRemNa/CXa/cid+fLwzOsXXxHP9m+CzMW3x2Zi2eHVIc/RpGiF5fGhQeVD5+cmukvvqVg/Gc/1LA1tp0GyDFtHhePf/7PdPMa5NsdRp7vVhLcyWtYqtji8ebCferh0aaPUaK53ja6KDA9PqJ7/UD8kv9cWKp7uhTrjl0PLNhA749tFOdp/LoFeTCPsrlfllUlfMubcV4muH2F333nblTY4fjZJ2DB/Tqb7deUaM1ahW3qw3qGUdbJzRx+HHWlLb5GTA8LmwpWNc6f6xNlupt5i+l3J5/75WVvv9WRNfOwQv3mX9ZGe8jQvO/jGlu1Ov5YjHesSjZojl5mRntYi23LXAWxhUqphGEaE4N2cotr3cTxIoIsOCkPxSXxyc5XynzT5NI/BUn0aSviiO+nNqD0zoFodZw6UzXTozDbaPjwo/TeyCejWC8YbJjJn7XhuAXa/cKd7uGFcDs4a3EF+jxx21EW40HfhzA0p/1C11bq0W4CcJP/8Z2hyNIkKw/eV+OPPOYPxf27oY0ykW93eohzdHlJdj1yt3Yt1zvcSmsIiwQDSOLJ1uPTI8CN0a14ZKpUKQvy/ubh2Du1vHYGKvhmaBr2VM+Y9FJ5POwHclRGFKv8bY/nI/jOoQixFt6uLvZ3uiQS37B11jYzrVR6e4mpjUu/ws389Xhf8+0Bqt6qnRLCoMc8e2Q6hJ7c6zdzbGQ12kP8SGacY/ur813jX50V81uTu+e7QTtrzQF+FBfhjTKRYBfj6oV6Ma2tWvgaZGfa4GltXQ/fVMD/RrVge9m0TgzmaRAIAnejXEzMHNsGh8B3xocpDr3SQCn49piw9HtcbjPaS1HJ1N3r8nejVEx7Im0uVPdsEck/J2b1wewmqHBuCj+1vjmwkdsGBce9zbvh62vNBXvN/f1wfTHAgHBtWDyw8m93eIRXztEKyZ1ks8AXjj7pZOjfr66P7WuM+o79bQVlE214+vHYJFEzoCcP4KyY5co+zIG4Mcfr6RbetaXP7ZmLZeO1geeWMQ7u8QizGd6mOqE3271k/vbXMYr6131vRk7IVBTZFQ1/b2Bth4rdBAP7w2rIVDozMdmZpifNnJnVzYR4VE9Wq4Vu2rUqnw0l3NXHpsQl21pDbHVfVrVUPyS/3MlpueUbStX8Nmjc/TfRqhf/M6aBwZip92Z5jdb1x78njPhni8Z0Px9n8faCP+LwgCsnK1aBYdjjrhQagTbvtaTo5IuqcVQv86hgfLRmP982xP/N/cbejTJBLTBzSBr48KMbdZ9RylDhJHTdWvWQ1/HLyIAS3qIFodjP9ra95x+a9nemDH2etimcKD/KApLEGwvy8WjGuPgmKdGGp+e6obdqZeR0RoINoYNUXtfW2A2Q/8B/e1wgdrTmJ81zg0iw7DzbwiRBq9h1+ObYdDF3LQvkENMdQeupAteQ5DzYvhoG24BlbLmHC8NTIBA/+7BUBps+MrQ5qLj4sMC8LoTvUl854YX6nY0F7fr1l5E2dIYHlNhI+PCve1r4cODWpgz/mbmPFL+aUsfp3UFfM3n0VszWpYvO0cAKC6UY2KYWh906gwbJjRG8cuadCufg2knLuBPw9lIr52CB7pHieZUXhqv8ZoHh2OK5pCjO5YH8EBvnjv3lZYd+wKSnR6xNUKwZ7/9EeHt9fDkrb1q4th3birUs87amPraesXrPxxYmd0ia+Fh7/ZLV6bZ+ljnTBu0W7JeiFWamlaxoSLlwAx8PVRIcDPB0UletStHixedM8Q4Du+sx7XcrW4p21dh65i/c2EDnh0yR5xew5mZNu9UrhxCB/WKgafm/Ttev++VpKLCBqX3daVm+9qGYXvdpxHXK1qKNYJZleYH5wQhX+OXEbHuBqY3LcxJvdtjLiXzfuzGaye1tPqBUgN4d6RC0mun94bPd/faPX+h7rUNzsx8TbWqFCV8PXDHTCiTYzNodRAaehqGhVmVqPz1sjSg7e15iRLzzN9YFO3XsgrIiwQn4xuK9amNI8Ox4m3BmP+uPZiPxZHPdmrodgn578PWK5uf7BzfSx7oqtYE2RJyxg1Hu/ZEL4+Kvj6qHBw1kAsntARm17oA18fleQHrn2D0h/g+036gVg6C60THoQPR7VGYj01/H19JCEFKB0F1ym+pmQ/tapXHYlloXfR+A5mz2loYln4cAfJBQStNd01jCivjUqsqxZrtAa1NK+hMH7/i8uCTFztENzXvh6e6lNeO9Uhria+Ht8RnYw6uBvX6IUZNe9VC/BDh7ia8PFR4T9DW2BK38b4dVJXjO3cAGM7l49oC/L3xZDEaDzSPV6cTdTXR4WdM+/E3tcGwM/XB0FGTZYNTK4t1qdppPi/cY3KF2Pa4Y27W6KhUVNYs6jy961zfC34+KgktXs97yitxWocGYpHu8fj3+d7Q6VSYcsLffG/KT3QOb4mRraJwfaX+4k1WADwSPc4sflj20v98OukrmJTqbFlT3TB8wOa4M2RlqcgGN0xVtIfy7hm7uk+jSU1xg0jQtAoIgRPG+0f035STaPCkPJqf/RvXv4eWdr/htGMxld37tcsUtzPLwxqim6Na2PHzH5Y+XR3/PpUV3GqCMNITENz04Jx5Z9d4xMt06kpGkaEYv5D7cXbJ966Cz0a1wZQ+t0FgKEOTAMRW7OaWXPjPe3Ka7Zsff+9hTUqVCX0b1EH/S108rXlt6e64ZP1p/D6sBa4o+zANiQhGu+vPonGLnZYlNOs4S3wxv+O4c0RLfFw1zgApf17ggN88dzy0rP+270ir0qlQt9mkfZX9JD/Te0BbYnObAQVAGx7uR80BSVmVyq3NuLJuGp9ar878GiPeKw+ctlidXqgnw/6N68DTUGxWYfUiT0bYvvZ67jP6Mff+CWNpyq3duYapQ7CDKPO3u/8XyJ+2FU6oi3RSo2k6fMOTYxGkU6PkW3qYvKP5df1ahFdHj6a1glDatn1YNTV/DG+Wxy6NaqFAWW1T7891Q3707ORWE8thsRGEdLvwvDWMRjeWvoeGS68utyob9ULg5oiIiwQdyVESZ4jIiwQEWGBWJ5iXqPZKCJUvJbZ2yMTsOnkVaw/flW8/80RCci4mY87y2oajN9PfdnF+wwaR4Tiq4dLQ8GgllH4cO1JzBxcXrNmXJ7hrWPE1zGuIUq6JxHJp7MkYfTHiZ2RfDoLzw1oYhbCjQ/6qUlDcS4rT/w8hgX5Y0wn6ZQKK5/uhh93p+OxHvGIDAvCztTrkpreO5tHokmdUESrgxHk74slj3RE1q0i8Tk7xdfE+um9UCc8CNUC/PDLngx8tO6UeJ0fQ5+g+NohWPF0N9wzdzsA4OP722Bkm7pYd+wKHu3u+gACd2FQIbKifYMaWPpYZ8myuNohSHm1f4W8VtAj3eMxsk1dyVlfZbrGk4GlkAKU1lCYjrwCYHGyQwAY0aYuTqw+gYYRIQgO8EVwgK9ZPxwDlUqFry3U4gClZ8W/T5Z2lgwOKD+ABfqX/+9MFfufU3vg1JVchzsMfzm2tPOzIAj4c2oPLNl+Djq9IAkJb49MQK3QAIzuWH7AbBwZit5NIlAtwBchgX7ocUdtyfMOSYzCa8NaSJrzHBES6IfJfa33AXlhUFNcuFlg9T1/qEsDPNSlAb7dfg6z/ihtCvP3VaFRRChGta+HkEA/hAdJgwpQWqP27fZzkokhW8dWN/uuGxteVjPRul51ybQKjSNDzcJFt0a10a2R9D2yJs5Ox+0GtUIk4emlu5pBU1giNmf6+/pg9bO9xD5Mfr4+ZkHc0B8OAEZ3qo9RHWKx5dQ1tKqnlozCbFe/Bl4Y1FTsG9WrSYRTndE9SSUITvaeUhCNRgO1Wo2cnByEh8vbK5moIhv79U5sO3Md21/ud9v9XCqKSUv3YvXRy0i6J9HsYAMAJTo9/j1xFR0a1LA6rN5VOr2AZ37aj5Z1w/F0n8b4dH3pxeKe7W+7aZIs25d+E8H+vmYTWgIQ+3l8/1hns5Dlqg/WnMDZq3mYO7adw83BJOXM8Vv2oDJ37lx88MEHyMzMRMuWLfHJJ5+gZ8+eDj2WQYXIPfR6AQXFOqf7ulRkxTo90rLycEdkqEtD6qlimLniME5e1mD5k11lv7gelXPm+C3rr9Ly5csxbdo0zJ07F927d8eCBQswePBgHDt2DPXrW5/+nIjcy8dHVaVCClBabW7cqZYqJ2fnQyHlkbVGpXPnzmjXrh3mzZsnLmvevDlGjhyJpKQks/W1Wi20Wq14W6PRIDY2ljUqREREFYgzNSqy1YMVFRVh7969GDhQOsHYwIEDsX37douPSUpKglqtFv9iY29/umsiIiJSLtmCSlZWFnQ6HerUkQ4ZrVOnDi5fvmzxMTNnzkROTo74l5FhPnyNiIiIKg/ZG6VNO7EJJmPdjQUGBiIwUP4LlxEREZF3yFajUrt2bfj6+prVnly9etWsloWIiIiqJtmCSkBAANq3b49169ZJlq9btw7dunWTqVRERESkJLI2/UyfPh3jxo1Dhw4d0LVrV3z11VdIT0/HpEmT5CwWERERKYSsQeWBBx7A9evX8eabbyIzMxMJCQn4+++/0aCB5SmTiYiIqGqRfWba28GZaYmIiCqeCjGPChEREZE9DCpERESkWAwqREREpFgMKkRERKRYDCpERESkWLJPoX87DAOWNBqNzCUhIiIiRxmO244MPK7QQSU3NxcAeBVlIiKiCig3NxdqtdrmOhV6HhW9Xo9Lly4hLCzM6oUMXaXRaBAbG4uMjIxKOUdLZd6+yrxtALevouP2VWyVefu8uW2CICA3NxcxMTHw8bHdC6VC16j4+PigXr16Hn2N8PDwSvdhNFaZt68ybxvA7avouH0VW2XePm9tm72aFAN2piUiIiLFYlAhIiIixWJQsSIwMBCzZs1CYGCg3EXxiMq8fZV52wBuX0XH7avYKvP2KXXbKnRnWiIiIqrcWKNCREREisWgQkRERIrFoEJERESKxaBCREREisWgYsHcuXMRHx+PoKAgtG/fHlu3bpW7SHYlJSWhY8eOCAsLQ2RkJEaOHImTJ09K1pkwYQJUKpXkr0uXLpJ1tFotpk6ditq1ayMkJAR33303Lly44M1NsWj27NlmZY+KihLvFwQBs2fPRkxMDIKDg9GnTx8cPXpU8hxK3TYAiIuLM9s+lUqFyZMnA6h4+27Lli0YPnw4YmJioFKpsGrVKsn97tpfN2/exLhx46BWq6FWqzFu3DhkZ2d7eOtsb19xcTFeeuklJCYmIiQkBDExMXj44Ydx6dIlyXP06dPHbJ+OHj1a8dsHuO/zKMf22ds2S99DlUqFDz74QFxHyfvOkWNBRfv+MaiYWL58OaZNm4ZXX30V+/fvR8+ePTF48GCkp6fLXTSbNm/ejMmTJ2Pnzp1Yt24dSkpKMHDgQOTl5UnWu+uuu5CZmSn+/f3335L7p02bhpUrV2LZsmVITk7GrVu3MGzYMOh0Om9ujkUtW7aUlP3w4cPife+//z4+/vhjfPHFF0hJSUFUVBQGDBggXg8KUPa2paSkSLZt3bp1AIBRo0aJ61SkfZeXl4fWrVvjiy++sHi/u/bXgw8+iAMHDmD16tVYvXo1Dhw4gHHjxsm6ffn5+di3bx9ee+017Nu3DytWrMCpU6dw9913m607ceJEyT5dsGCB5H4lbp+BOz6PcmyfvW0z3qbMzEx88803UKlUuPfeeyXrKXXfOXIsqHDfP4EkOnXqJEyaNEmyrFmzZsLLL78sU4lcc/XqVQGAsHnzZnHZ+PHjhREjRlh9THZ2tuDv7y8sW7ZMXHbx4kXBx8dHWL16tSeLa9esWbOE1q1bW7xPr9cLUVFRwpw5c8RlhYWFglqtFubPny8IgrK3zZJnn31WaNSokaDX6wVBqNj7DoCwcuVK8ba79texY8cEAMLOnTvFdXbs2CEAEE6cOOHhrSpnun2W7N69WwAgnD9/XlzWu3dv4dlnn7X6GCVvnzs+j0rYPkf23YgRI4R+/fpJllWUfScI5seCivj9Y42KkaKiIuzduxcDBw6ULB84cCC2b98uU6lck5OTAwCoWbOmZPmmTZsQGRmJJk2aYOLEibh69ap43969e1FcXCzZ/piYGCQkJChi+0+fPo2YmBjEx8dj9OjRSE1NBQCkpaXh8uXLknIHBgaid+/eYrmVvm3GioqK8P333+PRRx+VXGyzIu87Y+7aXzt27IBarUbnzp3Fdbp06QK1Wq24bc7JyYFKpUL16tUly3/44QfUrl0bLVu2xIwZMyRntErfvtv9PCp9+wDgypUr+Ouvv/DYY4+Z3VdR9p3psaAifv8q9EUJ3S0rKws6nQ516tSRLK9Tpw4uX74sU6mcJwgCpk+fjh49eiAhIUFcPnjwYIwaNQoNGjRAWloaXnvtNfTr1w979+5FYGAgLl++jICAANSoUUPyfErY/s6dO+O7775DkyZNcOXKFbz99tvo1q0bjh49KpbN0n47f/48ACh620ytWrUK2dnZmDBhgrisIu87U+7aX5cvX0ZkZKTZ80dGRipqmwsLC/Hyyy/jwQcflFzobezYsYiPj0dUVBSOHDmCmTNn4uDBg2Kzn5K3zx2fRyVvn8G3336LsLAw3HPPPZLlFWXfWToWVMTvH4OKBcZnsUDpzjZdpmRTpkzBoUOHkJycLFn+wAMPiP8nJCSgQ4cOaNCgAf766y+zL6IxJWz/4MGDxf8TExPRtWtXNGrUCN9++63Yic+V/aaEbTO1aNEiDB48GDExMeKyirzvrHHH/rK0vpK2ubi4GKNHj4Zer8fcuXMl902cOFH8PyEhAXfccQc6dOiAffv2oV27dgCUu33u+jwqdfsMvvnmG4wdOxZBQUGS5RVl31k7FgAV6/vHph8jtWvXhq+vr1kavHr1qln6VKqpU6fijz/+wMaNG1GvXj2b60ZHR6NBgwY4ffo0ACAqKgpFRUW4efOmZD0lbn9ISAgSExNx+vRpcfSPrf1WUbbt/PnzWL9+PR5//HGb61Xkfeeu/RUVFYUrV66YPf+1a9cUsc3FxcW4//77kZaWhnXr1klqUyxp164d/P39JftUydtnzJXPo9K3b+vWrTh58qTd7yKgzH1n7VhQEb9/DCpGAgIC0L59e7H6zmDdunXo1q2bTKVyjCAImDJlClasWIENGzYgPj7e7mOuX7+OjIwMREdHAwDat28Pf39/yfZnZmbiyJEjitt+rVaL48ePIzo6WqyCNS53UVERNm/eLJa7omzb4sWLERkZiaFDh9pcryLvO3ftr65duyInJwe7d+8W19m1axdycnJk32ZDSDl9+jTWr1+PWrVq2X3M0aNHUVxcLO5TJW+fKVc+j0rfvkWLFqF9+/Zo3bq13XWVtO/sHQsq5PfPrV1zK4Fly5YJ/v7+wqJFi4Rjx44J06ZNE0JCQoRz587JXTSbnnrqKUGtVgubNm0SMjMzxb/8/HxBEAQhNzdXeP7554Xt27cLaWlpwsaNG4WuXbsKdevWFTQajfg8kyZNEurVqyesX79e2Ldvn9CvXz+hdevWQklJiVybJgiCIDz//PPCpk2bhNTUVGHnzp3CsGHDhLCwMHG/zJkzR1Cr1cKKFSuEw4cPC2PGjBGio6MrxLYZ6HQ6oX79+sJLL70kWV4R911ubq6wf/9+Yf/+/QIA4eOPPxb2798vjnpx1/666667hFatWgk7duwQduzYISQmJgrDhg2TdfuKi4uFu+++W6hXr55w4MAByfdRq9UKgiAIZ86cEd544w0hJSVFSEtLE/766y+hWbNmQtu2bRW/fe78PMqxffY+m4IgCDk5OUK1atWEefPmmT1e6fvO3rFAECre949BxYIvv/xSaNCggRAQECC0a9dOMsRXqQBY/Fu8eLEgCIKQn58vDBw4UIiIiBD8/f2F+vXrC+PHjxfS09Mlz1NQUCBMmTJFqFmzphAcHCwMGzbMbB05PPDAA0J0dLTg7+8vxMTECPfcc49w9OhR8X69Xi/MmjVLiIqKEgIDA4VevXoJhw8fljyHUrfNYM2aNQIA4eTJk5LlFXHfbdy40eLncfz48YIguG9/Xb9+XRg7dqwQFhYmhIWFCWPHjhVu3rwp6/alpaVZ/T5u3LhREARBSE9PF3r16iXUrFlTCAgIEBo1aiQ888wzwvXr1xW/fe78PMqxffY+m4IgCAsWLBCCg4OF7Oxss8crfd/ZOxYIQsX7/qnKNoyIiIhIcdhHhYiIiBSLQYWIiIgUi0GFiIiIFItBhYiIiBSLQYWIiIgUi0GFiIiIFItBhYiIiBSLQYWIPObAgQP44IMPUFJSIndRiKiCYlAhIo+4efMm7rvvPjRv3hx+fp67UHtcXBw++eQTjz0/EcmLQYWIHDZhwgSMHDkSANCnTx9MmzbN4nqCIGDChAl48cUXMWzYMLe89pIlS1C9enWz5SkpKXjiiSfc8hpEpDyeO80hoipLpVLh999/d2jdoqIiBAQEuPxaERERLj+WiJSPNSpE5LQJEyZg8+bN+PTTT6FSqaBSqXDu3DkAwLFjxzBkyBCEhoaiTp06GDduHLKyssTH9unTB1OmTMH06dNRu3ZtDBgwAADw8ccfIzExESEhIYiNjcXTTz+NW7duAQA2bdqERx55BDk5OeLrzZ49G4B50096ejpGjBiB0NBQhIeH4/7778eVK1fE+2fPno02bdpg6dKliIuLg1qtxujRo5Gbm+vZN42IXMKgQkRO+/TTT9G1a1dMnDgRmZmZyMzMRGxsLDIzM9G7d2+0adMGe/bswerVq3HlyhXcf//9ksd/++238PPzw7Zt27BgwQIAgI+PDz777DMcOXIE3377LTZs2IAXX3wRANCtWzd88sknCA8PF19vxowZZuUSBAEjR47EjRs3sHnzZqxbtw5nz57FAw88IFnv7NmzWLVqFf7880/8+eef2Lx5M+bMmeOhd4uIbgebfojIaWq1GgEBAahWrRqioqLE5fPmzUO7du3w7rvvisu++eYbxMbG4tSpU2jSpAkAoHHjxnj//fclz2nc3yU+Ph5vvfUWnnrqKcydOxcBAQFQq9VQqVSS1zO1fv16HDp0CGlpaYiNjQUALF26FC1btkRKSgo6duwIANDr9ViyZAnCwsIAAOPGjcO///6Ld9555/beGCJyO9aoEJHb7N27Fxs3bkRoaKj416xZMwCltRgGHTp0MHvsxo0bMWDAANStWxdhYWF4+OGHcf36deTl5Tn8+sePH0dsbKwYUgCgRYsWqF69Oo4fPy4ui4uLE0MKAERHR+Pq1atObSsReQdrVIjIbfR6PYYPH4733nvP7L7o6Gjx/5CQEMl958+fx5AhQzBp0iS89dZbqFmzJpKTk/HYY4+huLjY4dcXBAEqlcrucn9/f8n9KpUKer3e4dchIu9hUCEilwQEBECn00mWtWvXDr/99hvi4uKcmjtlz549KCkpwUcffQQfn9KK3p9//tnu65lq0aIF0tPTkZGRIdaqHDt2DDk5OWjevLnD5SEi5WDTDxG5JC4uDrt27cK5c+eQlZUFvV6PyZMn48aNGxgzZgx2796N1NRUrF27Fo8++qjNkNGoUSOUlJTg888/R2pqKpYuXYr58+ebvd6tW7fw77//IisrC/n5+WbP079/f7Rq1Qpjx47Fvn37sHv3bjz88MPo3bu3xeYmIlI+BhUicsmMGTPg6+uLFi1aICIiAunp6YiJicG2bdug0+kwaNAgJCQk4Nlnn4VarRZrSixp06YNPv74Y7z33ntISEjADz/8gKSkJMk63bp1w6RJk/DAAw8gIiLCrDMuUNqEs2rVKtSoUQO9evVC//790bBhQyxfvtzt209E3qESBEGQuxBERERElrBGhYiIiBSLQYWIiIgUi0GFiIiIFItBhYiIiBSLQYWIiIgUi0GFiIiIFItBhYiIiBSLQYWIiIgUi0GFiIiIFItBhYiIiBSLQYWIiIgU6/8BaeLAhloauksAAAAASUVORK5CYII=",
      "text/plain": [
       "<Figure size 640x480 with 1 Axes>"
      ]
     },
     "metadata": {},
     "output_type": "display_data"
    }
   ],
   "source": [
    "plt.plot(loss2_loaded)\n",
    "plt.xlabel('Itération')\n",
    "plt.ylabel('Perte')\n",
    "plt.show()"
   ]
  },
  {
   "cell_type": "code",
   "execution_count": 44,
   "metadata": {},
   "outputs": [
    {
     "name": "stdout",
     "output_type": "stream",
     "text": [
      "The testing set accuracy of the network is: 50 %\n"
     ]
    }
   ],
   "source": [
    "val_model2 = val_CNN(model2,validation_dataloader)"
   ]
  },
  {
   "attachments": {},
   "cell_type": "markdown",
   "metadata": {},
   "source": [
    "### MODELES DE MACHINE LEARNING"
   ]
  },
  {
   "attachments": {},
   "cell_type": "markdown",
   "metadata": {},
   "source": [
    "#### Extraction des features du modèles"
   ]
  },
  {
   "cell_type": "code",
   "execution_count": 25,
   "metadata": {},
   "outputs": [],
   "source": [
    "def extract_features(dataloader, model, n_sample, n_features):\n",
    "    features = np.zeros(shape=(n_sample,n_features))\n",
    "    batchSize = dataloader.batch_size\n",
    "    labels = np.zeros(shape = (n_sample))\n",
    "    i = 0\n",
    "    for inputs_batch, labels_batch in dataloader:\n",
    "        model.eval()\n",
    "        features_batch = model(inputs_batch).detach().numpy()\n",
    "        features[i * batchSize: (i + 1) * batchSize] = features_batch\n",
    "        labels[i * batchSize: (i + 1) * batchSize] = labels_batch\n",
    "        i += 1\n",
    "        if i * batchSize >= n_sample:\n",
    "            break\n",
    "    return features, labels"
   ]
  },
  {
   "attachments": {},
   "cell_type": "markdown",
   "metadata": {},
   "source": [
    "On regarde les outputs de notre modèle"
   ]
  },
  {
   "cell_type": "code",
   "execution_count": null,
   "metadata": {},
   "outputs": [],
   "source": [
    "summary(model, (3,150,150))"
   ]
  },
  {
   "cell_type": "code",
   "execution_count": 27,
   "metadata": {},
   "outputs": [],
   "source": [
    "x_train, y_train = extract_features(train_dataloader,model,10000,2)\n",
    "x_test, y_test = extract_features(validation_dataloader, model, 2000, 2)\n"
   ]
  },
  {
   "cell_type": "code",
   "execution_count": 43,
   "metadata": {},
   "outputs": [],
   "source": [
    "best_model = \"\"\n",
    "best_acc = 0"
   ]
  },
  {
   "attachments": {},
   "cell_type": "markdown",
   "metadata": {},
   "source": [
    "#### Modèle 1 : Arbres de décisions"
   ]
  },
  {
   "cell_type": "code",
   "execution_count": 44,
   "metadata": {},
   "outputs": [
    {
     "data": {
      "text/plain": [
       "DecisionTreeClassifier()"
      ]
     },
     "execution_count": 44,
     "metadata": {},
     "output_type": "execute_result"
    }
   ],
   "source": [
    "from sklearn.tree import DecisionTreeClassifier\n",
    "clf = DecisionTreeClassifier()\n",
    "clf.fit(x_train,y_train)"
   ]
  },
  {
   "cell_type": "code",
   "execution_count": 46,
   "metadata": {},
   "outputs": [
    {
     "name": "stdout",
     "output_type": "stream",
     "text": [
      "[[875 125]\n",
      " [150 850]]\n",
      "Précision : 0.8625\n",
      "DecisionTreeClassifier()\n"
     ]
    }
   ],
   "source": [
    "from sklearn.metrics import accuracy_score, confusion_matrix \n",
    "y_pred = clf.predict(x_test)\n",
    "print(confusion_matrix(y_test,y_pred))\n",
    "print(\"Précision : \" + str(accuracy_score(y_test,y_pred)))\n",
    "\n",
    "if accuracy_score(y_test,y_pred)>best_acc:\n",
    "    best_model = clf\n",
    "    best_acc = accuracy_score(y_test,y_pred)"
   ]
  },
  {
   "attachments": {},
   "cell_type": "markdown",
   "metadata": {},
   "source": [
    "#### Modèle 2 : Fôrets aléatoires + GridSearch"
   ]
  },
  {
   "cell_type": "code",
   "execution_count": 47,
   "metadata": {},
   "outputs": [
    {
     "name": "stdout",
     "output_type": "stream",
     "text": [
      "Fitting 5 folds for each of 44 candidates, totalling 220 fits\n",
      "[CV] END max_depth=10, min_samples_leaf=2, min_samples_split=2; total time=   0.5s\n",
      "[CV] END max_depth=10, min_samples_leaf=2, min_samples_split=2; total time=   0.5s\n",
      "[CV] END max_depth=10, min_samples_leaf=2, min_samples_split=2; total time=   0.4s\n",
      "[CV] END max_depth=10, min_samples_leaf=2, min_samples_split=2; total time=   0.5s\n",
      "[CV] END max_depth=10, min_samples_leaf=2, min_samples_split=2; total time=   0.4s\n",
      "[CV] END max_depth=10, min_samples_leaf=2, min_samples_split=3; total time=   0.4s\n",
      "[CV] END max_depth=10, min_samples_leaf=2, min_samples_split=3; total time=   0.4s\n",
      "[CV] END max_depth=10, min_samples_leaf=2, min_samples_split=3; total time=   0.4s\n",
      "[CV] END max_depth=10, min_samples_leaf=2, min_samples_split=3; total time=   0.4s\n",
      "[CV] END max_depth=10, min_samples_leaf=2, min_samples_split=3; total time=   0.4s\n",
      "[CV] END max_depth=10, min_samples_leaf=3, min_samples_split=2; total time=   0.4s\n",
      "[CV] END max_depth=10, min_samples_leaf=3, min_samples_split=2; total time=   0.4s\n",
      "[CV] END max_depth=10, min_samples_leaf=3, min_samples_split=2; total time=   0.4s\n",
      "[CV] END max_depth=10, min_samples_leaf=3, min_samples_split=2; total time=   0.4s\n",
      "[CV] END max_depth=10, min_samples_leaf=3, min_samples_split=2; total time=   0.4s\n",
      "[CV] END max_depth=10, min_samples_leaf=3, min_samples_split=3; total time=   0.4s\n",
      "[CV] END max_depth=10, min_samples_leaf=3, min_samples_split=3; total time=   0.4s\n",
      "[CV] END max_depth=10, min_samples_leaf=3, min_samples_split=3; total time=   0.4s\n",
      "[CV] END max_depth=10, min_samples_leaf=3, min_samples_split=3; total time=   0.4s\n",
      "[CV] END max_depth=10, min_samples_leaf=3, min_samples_split=3; total time=   0.4s\n",
      "[CV] END max_depth=11, min_samples_leaf=2, min_samples_split=2; total time=   0.4s\n",
      "[CV] END max_depth=11, min_samples_leaf=2, min_samples_split=2; total time=   0.4s\n",
      "[CV] END max_depth=11, min_samples_leaf=2, min_samples_split=2; total time=   0.4s\n",
      "[CV] END max_depth=11, min_samples_leaf=2, min_samples_split=2; total time=   0.5s\n",
      "[CV] END max_depth=11, min_samples_leaf=2, min_samples_split=2; total time=   0.4s\n",
      "[CV] END max_depth=11, min_samples_leaf=2, min_samples_split=3; total time=   0.4s\n",
      "[CV] END max_depth=11, min_samples_leaf=2, min_samples_split=3; total time=   0.4s\n",
      "[CV] END max_depth=11, min_samples_leaf=2, min_samples_split=3; total time=   0.4s\n",
      "[CV] END max_depth=11, min_samples_leaf=2, min_samples_split=3; total time=   0.4s\n",
      "[CV] END max_depth=11, min_samples_leaf=2, min_samples_split=3; total time=   0.4s\n",
      "[CV] END max_depth=11, min_samples_leaf=3, min_samples_split=2; total time=   0.4s\n",
      "[CV] END max_depth=11, min_samples_leaf=3, min_samples_split=2; total time=   0.4s\n",
      "[CV] END max_depth=11, min_samples_leaf=3, min_samples_split=2; total time=   0.4s\n",
      "[CV] END max_depth=11, min_samples_leaf=3, min_samples_split=2; total time=   0.4s\n",
      "[CV] END max_depth=11, min_samples_leaf=3, min_samples_split=2; total time=   0.4s\n",
      "[CV] END max_depth=11, min_samples_leaf=3, min_samples_split=3; total time=   0.4s\n",
      "[CV] END max_depth=11, min_samples_leaf=3, min_samples_split=3; total time=   0.4s\n",
      "[CV] END max_depth=11, min_samples_leaf=3, min_samples_split=3; total time=   0.4s\n",
      "[CV] END max_depth=11, min_samples_leaf=3, min_samples_split=3; total time=   0.4s\n",
      "[CV] END max_depth=11, min_samples_leaf=3, min_samples_split=3; total time=   0.4s\n",
      "[CV] END max_depth=12, min_samples_leaf=2, min_samples_split=2; total time=   0.4s\n",
      "[CV] END max_depth=12, min_samples_leaf=2, min_samples_split=2; total time=   0.4s\n",
      "[CV] END max_depth=12, min_samples_leaf=2, min_samples_split=2; total time=   0.4s\n",
      "[CV] END max_depth=12, min_samples_leaf=2, min_samples_split=2; total time=   0.4s\n",
      "[CV] END max_depth=12, min_samples_leaf=2, min_samples_split=2; total time=   0.4s\n",
      "[CV] END max_depth=12, min_samples_leaf=2, min_samples_split=3; total time=   0.4s\n",
      "[CV] END max_depth=12, min_samples_leaf=2, min_samples_split=3; total time=   0.4s\n",
      "[CV] END max_depth=12, min_samples_leaf=2, min_samples_split=3; total time=   0.4s\n",
      "[CV] END max_depth=12, min_samples_leaf=2, min_samples_split=3; total time=   0.4s\n",
      "[CV] END max_depth=12, min_samples_leaf=2, min_samples_split=3; total time=   0.4s\n",
      "[CV] END max_depth=12, min_samples_leaf=3, min_samples_split=2; total time=   0.4s\n",
      "[CV] END max_depth=12, min_samples_leaf=3, min_samples_split=2; total time=   0.4s\n",
      "[CV] END max_depth=12, min_samples_leaf=3, min_samples_split=2; total time=   0.4s\n",
      "[CV] END max_depth=12, min_samples_leaf=3, min_samples_split=2; total time=   0.4s\n",
      "[CV] END max_depth=12, min_samples_leaf=3, min_samples_split=2; total time=   0.4s\n",
      "[CV] END max_depth=12, min_samples_leaf=3, min_samples_split=3; total time=   0.4s\n",
      "[CV] END max_depth=12, min_samples_leaf=3, min_samples_split=3; total time=   0.4s\n",
      "[CV] END max_depth=12, min_samples_leaf=3, min_samples_split=3; total time=   0.4s\n",
      "[CV] END max_depth=12, min_samples_leaf=3, min_samples_split=3; total time=   0.4s\n",
      "[CV] END max_depth=12, min_samples_leaf=3, min_samples_split=3; total time=   0.4s\n",
      "[CV] END max_depth=13, min_samples_leaf=2, min_samples_split=2; total time=   0.4s\n",
      "[CV] END max_depth=13, min_samples_leaf=2, min_samples_split=2; total time=   0.4s\n",
      "[CV] END max_depth=13, min_samples_leaf=2, min_samples_split=2; total time=   0.5s\n",
      "[CV] END max_depth=13, min_samples_leaf=2, min_samples_split=2; total time=   0.5s\n",
      "[CV] END max_depth=13, min_samples_leaf=2, min_samples_split=2; total time=   0.5s\n",
      "[CV] END max_depth=13, min_samples_leaf=2, min_samples_split=3; total time=   0.4s\n",
      "[CV] END max_depth=13, min_samples_leaf=2, min_samples_split=3; total time=   0.4s\n",
      "[CV] END max_depth=13, min_samples_leaf=2, min_samples_split=3; total time=   0.4s\n",
      "[CV] END max_depth=13, min_samples_leaf=2, min_samples_split=3; total time=   0.5s\n",
      "[CV] END max_depth=13, min_samples_leaf=2, min_samples_split=3; total time=   0.5s\n",
      "[CV] END max_depth=13, min_samples_leaf=3, min_samples_split=2; total time=   0.4s\n",
      "[CV] END max_depth=13, min_samples_leaf=3, min_samples_split=2; total time=   0.4s\n",
      "[CV] END max_depth=13, min_samples_leaf=3, min_samples_split=2; total time=   0.4s\n",
      "[CV] END max_depth=13, min_samples_leaf=3, min_samples_split=2; total time=   0.5s\n",
      "[CV] END max_depth=13, min_samples_leaf=3, min_samples_split=2; total time=   0.4s\n",
      "[CV] END max_depth=13, min_samples_leaf=3, min_samples_split=3; total time=   0.4s\n",
      "[CV] END max_depth=13, min_samples_leaf=3, min_samples_split=3; total time=   0.4s\n",
      "[CV] END max_depth=13, min_samples_leaf=3, min_samples_split=3; total time=   0.4s\n",
      "[CV] END max_depth=13, min_samples_leaf=3, min_samples_split=3; total time=   0.4s\n",
      "[CV] END max_depth=13, min_samples_leaf=3, min_samples_split=3; total time=   0.5s\n",
      "[CV] END max_depth=14, min_samples_leaf=2, min_samples_split=2; total time=   0.4s\n",
      "[CV] END max_depth=14, min_samples_leaf=2, min_samples_split=2; total time=   0.5s\n",
      "[CV] END max_depth=14, min_samples_leaf=2, min_samples_split=2; total time=   0.5s\n",
      "[CV] END max_depth=14, min_samples_leaf=2, min_samples_split=2; total time=   0.5s\n",
      "[CV] END max_depth=14, min_samples_leaf=2, min_samples_split=2; total time=   0.5s\n",
      "[CV] END max_depth=14, min_samples_leaf=2, min_samples_split=3; total time=   0.4s\n",
      "[CV] END max_depth=14, min_samples_leaf=2, min_samples_split=3; total time=   0.5s\n",
      "[CV] END max_depth=14, min_samples_leaf=2, min_samples_split=3; total time=   0.5s\n",
      "[CV] END max_depth=14, min_samples_leaf=2, min_samples_split=3; total time=   0.5s\n",
      "[CV] END max_depth=14, min_samples_leaf=2, min_samples_split=3; total time=   0.5s\n",
      "[CV] END max_depth=14, min_samples_leaf=3, min_samples_split=2; total time=   0.4s\n",
      "[CV] END max_depth=14, min_samples_leaf=3, min_samples_split=2; total time=   0.4s\n",
      "[CV] END max_depth=14, min_samples_leaf=3, min_samples_split=2; total time=   0.4s\n",
      "[CV] END max_depth=14, min_samples_leaf=3, min_samples_split=2; total time=   0.5s\n",
      "[CV] END max_depth=14, min_samples_leaf=3, min_samples_split=2; total time=   0.5s\n",
      "[CV] END max_depth=14, min_samples_leaf=3, min_samples_split=3; total time=   0.4s\n",
      "[CV] END max_depth=14, min_samples_leaf=3, min_samples_split=3; total time=   0.5s\n",
      "[CV] END max_depth=14, min_samples_leaf=3, min_samples_split=3; total time=   0.4s\n",
      "[CV] END max_depth=14, min_samples_leaf=3, min_samples_split=3; total time=   0.5s\n",
      "[CV] END max_depth=14, min_samples_leaf=3, min_samples_split=3; total time=   0.4s\n",
      "[CV] END max_depth=15, min_samples_leaf=2, min_samples_split=2; total time=   0.5s\n",
      "[CV] END max_depth=15, min_samples_leaf=2, min_samples_split=2; total time=   0.5s\n",
      "[CV] END max_depth=15, min_samples_leaf=2, min_samples_split=2; total time=   0.5s\n",
      "[CV] END max_depth=15, min_samples_leaf=2, min_samples_split=2; total time=   0.5s\n",
      "[CV] END max_depth=15, min_samples_leaf=2, min_samples_split=2; total time=   0.5s\n",
      "[CV] END max_depth=15, min_samples_leaf=2, min_samples_split=3; total time=   0.5s\n",
      "[CV] END max_depth=15, min_samples_leaf=2, min_samples_split=3; total time=   0.5s\n",
      "[CV] END max_depth=15, min_samples_leaf=2, min_samples_split=3; total time=   0.5s\n",
      "[CV] END max_depth=15, min_samples_leaf=2, min_samples_split=3; total time=   0.5s\n",
      "[CV] END max_depth=15, min_samples_leaf=2, min_samples_split=3; total time=   0.5s\n",
      "[CV] END max_depth=15, min_samples_leaf=3, min_samples_split=2; total time=   0.4s\n",
      "[CV] END max_depth=15, min_samples_leaf=3, min_samples_split=2; total time=   0.4s\n",
      "[CV] END max_depth=15, min_samples_leaf=3, min_samples_split=2; total time=   0.5s\n",
      "[CV] END max_depth=15, min_samples_leaf=3, min_samples_split=2; total time=   0.5s\n",
      "[CV] END max_depth=15, min_samples_leaf=3, min_samples_split=2; total time=   0.4s\n",
      "[CV] END max_depth=15, min_samples_leaf=3, min_samples_split=3; total time=   0.5s\n",
      "[CV] END max_depth=15, min_samples_leaf=3, min_samples_split=3; total time=   0.4s\n",
      "[CV] END max_depth=15, min_samples_leaf=3, min_samples_split=3; total time=   0.4s\n",
      "[CV] END max_depth=15, min_samples_leaf=3, min_samples_split=3; total time=   0.5s\n",
      "[CV] END max_depth=15, min_samples_leaf=3, min_samples_split=3; total time=   0.4s\n",
      "[CV] END max_depth=16, min_samples_leaf=2, min_samples_split=2; total time=   0.4s\n",
      "[CV] END max_depth=16, min_samples_leaf=2, min_samples_split=2; total time=   0.5s\n",
      "[CV] END max_depth=16, min_samples_leaf=2, min_samples_split=2; total time=   0.5s\n",
      "[CV] END max_depth=16, min_samples_leaf=2, min_samples_split=2; total time=   0.5s\n",
      "[CV] END max_depth=16, min_samples_leaf=2, min_samples_split=2; total time=   0.5s\n",
      "[CV] END max_depth=16, min_samples_leaf=2, min_samples_split=3; total time=   0.5s\n",
      "[CV] END max_depth=16, min_samples_leaf=2, min_samples_split=3; total time=   0.5s\n",
      "[CV] END max_depth=16, min_samples_leaf=2, min_samples_split=3; total time=   0.5s\n",
      "[CV] END max_depth=16, min_samples_leaf=2, min_samples_split=3; total time=   0.5s\n",
      "[CV] END max_depth=16, min_samples_leaf=2, min_samples_split=3; total time=   0.5s\n",
      "[CV] END max_depth=16, min_samples_leaf=3, min_samples_split=2; total time=   0.5s\n",
      "[CV] END max_depth=16, min_samples_leaf=3, min_samples_split=2; total time=   0.4s\n",
      "[CV] END max_depth=16, min_samples_leaf=3, min_samples_split=2; total time=   0.5s\n",
      "[CV] END max_depth=16, min_samples_leaf=3, min_samples_split=2; total time=   0.5s\n",
      "[CV] END max_depth=16, min_samples_leaf=3, min_samples_split=2; total time=   0.5s\n",
      "[CV] END max_depth=16, min_samples_leaf=3, min_samples_split=3; total time=   0.4s\n",
      "[CV] END max_depth=16, min_samples_leaf=3, min_samples_split=3; total time=   0.5s\n",
      "[CV] END max_depth=16, min_samples_leaf=3, min_samples_split=3; total time=   0.4s\n",
      "[CV] END max_depth=16, min_samples_leaf=3, min_samples_split=3; total time=   0.5s\n",
      "[CV] END max_depth=16, min_samples_leaf=3, min_samples_split=3; total time=   0.5s\n",
      "[CV] END max_depth=17, min_samples_leaf=2, min_samples_split=2; total time=   0.5s\n",
      "[CV] END max_depth=17, min_samples_leaf=2, min_samples_split=2; total time=   0.5s\n",
      "[CV] END max_depth=17, min_samples_leaf=2, min_samples_split=2; total time=   0.5s\n",
      "[CV] END max_depth=17, min_samples_leaf=2, min_samples_split=2; total time=   0.5s\n",
      "[CV] END max_depth=17, min_samples_leaf=2, min_samples_split=2; total time=   0.5s\n",
      "[CV] END max_depth=17, min_samples_leaf=2, min_samples_split=3; total time=   0.5s\n",
      "[CV] END max_depth=17, min_samples_leaf=2, min_samples_split=3; total time=   0.5s\n",
      "[CV] END max_depth=17, min_samples_leaf=2, min_samples_split=3; total time=   0.5s\n",
      "[CV] END max_depth=17, min_samples_leaf=2, min_samples_split=3; total time=   0.5s\n",
      "[CV] END max_depth=17, min_samples_leaf=2, min_samples_split=3; total time=   0.5s\n",
      "[CV] END max_depth=17, min_samples_leaf=3, min_samples_split=2; total time=   0.5s\n",
      "[CV] END max_depth=17, min_samples_leaf=3, min_samples_split=2; total time=   0.5s\n",
      "[CV] END max_depth=17, min_samples_leaf=3, min_samples_split=2; total time=   0.5s\n",
      "[CV] END max_depth=17, min_samples_leaf=3, min_samples_split=2; total time=   0.5s\n",
      "[CV] END max_depth=17, min_samples_leaf=3, min_samples_split=2; total time=   0.5s\n",
      "[CV] END max_depth=17, min_samples_leaf=3, min_samples_split=3; total time=   0.4s\n",
      "[CV] END max_depth=17, min_samples_leaf=3, min_samples_split=3; total time=   0.4s\n",
      "[CV] END max_depth=17, min_samples_leaf=3, min_samples_split=3; total time=   0.5s\n",
      "[CV] END max_depth=17, min_samples_leaf=3, min_samples_split=3; total time=   0.5s\n",
      "[CV] END max_depth=17, min_samples_leaf=3, min_samples_split=3; total time=   0.5s\n",
      "[CV] END max_depth=18, min_samples_leaf=2, min_samples_split=2; total time=   0.5s\n",
      "[CV] END max_depth=18, min_samples_leaf=2, min_samples_split=2; total time=   0.5s\n",
      "[CV] END max_depth=18, min_samples_leaf=2, min_samples_split=2; total time=   0.5s\n",
      "[CV] END max_depth=18, min_samples_leaf=2, min_samples_split=2; total time=   0.5s\n",
      "[CV] END max_depth=18, min_samples_leaf=2, min_samples_split=2; total time=   0.5s\n",
      "[CV] END max_depth=18, min_samples_leaf=2, min_samples_split=3; total time=   0.5s\n",
      "[CV] END max_depth=18, min_samples_leaf=2, min_samples_split=3; total time=   0.5s\n",
      "[CV] END max_depth=18, min_samples_leaf=2, min_samples_split=3; total time=   0.5s\n",
      "[CV] END max_depth=18, min_samples_leaf=2, min_samples_split=3; total time=   0.5s\n",
      "[CV] END max_depth=18, min_samples_leaf=2, min_samples_split=3; total time=   0.5s\n",
      "[CV] END max_depth=18, min_samples_leaf=3, min_samples_split=2; total time=   0.4s\n",
      "[CV] END max_depth=18, min_samples_leaf=3, min_samples_split=2; total time=   0.5s\n",
      "[CV] END max_depth=18, min_samples_leaf=3, min_samples_split=2; total time=   0.5s\n",
      "[CV] END max_depth=18, min_samples_leaf=3, min_samples_split=2; total time=   0.5s\n",
      "[CV] END max_depth=18, min_samples_leaf=3, min_samples_split=2; total time=   0.5s\n",
      "[CV] END max_depth=18, min_samples_leaf=3, min_samples_split=3; total time=   0.5s\n",
      "[CV] END max_depth=18, min_samples_leaf=3, min_samples_split=3; total time=   0.4s\n",
      "[CV] END max_depth=18, min_samples_leaf=3, min_samples_split=3; total time=   0.4s\n",
      "[CV] END max_depth=18, min_samples_leaf=3, min_samples_split=3; total time=   0.5s\n",
      "[CV] END max_depth=18, min_samples_leaf=3, min_samples_split=3; total time=   0.4s\n",
      "[CV] END max_depth=19, min_samples_leaf=2, min_samples_split=2; total time=   0.5s\n",
      "[CV] END max_depth=19, min_samples_leaf=2, min_samples_split=2; total time=   0.5s\n",
      "[CV] END max_depth=19, min_samples_leaf=2, min_samples_split=2; total time=   0.5s\n",
      "[CV] END max_depth=19, min_samples_leaf=2, min_samples_split=2; total time=   0.5s\n",
      "[CV] END max_depth=19, min_samples_leaf=2, min_samples_split=2; total time=   0.5s\n",
      "[CV] END max_depth=19, min_samples_leaf=2, min_samples_split=3; total time=   0.5s\n",
      "[CV] END max_depth=19, min_samples_leaf=2, min_samples_split=3; total time=   0.5s\n",
      "[CV] END max_depth=19, min_samples_leaf=2, min_samples_split=3; total time=   0.5s\n",
      "[CV] END max_depth=19, min_samples_leaf=2, min_samples_split=3; total time=   0.5s\n",
      "[CV] END max_depth=19, min_samples_leaf=2, min_samples_split=3; total time=   0.5s\n",
      "[CV] END max_depth=19, min_samples_leaf=3, min_samples_split=2; total time=   0.4s\n",
      "[CV] END max_depth=19, min_samples_leaf=3, min_samples_split=2; total time=   0.5s\n",
      "[CV] END max_depth=19, min_samples_leaf=3, min_samples_split=2; total time=   0.5s\n",
      "[CV] END max_depth=19, min_samples_leaf=3, min_samples_split=2; total time=   0.5s\n",
      "[CV] END max_depth=19, min_samples_leaf=3, min_samples_split=2; total time=   0.5s\n",
      "[CV] END max_depth=19, min_samples_leaf=3, min_samples_split=3; total time=   0.5s\n",
      "[CV] END max_depth=19, min_samples_leaf=3, min_samples_split=3; total time=   0.4s\n",
      "[CV] END max_depth=19, min_samples_leaf=3, min_samples_split=3; total time=   0.4s\n",
      "[CV] END max_depth=19, min_samples_leaf=3, min_samples_split=3; total time=   0.5s\n",
      "[CV] END max_depth=19, min_samples_leaf=3, min_samples_split=3; total time=   0.4s\n",
      "[CV] END max_depth=20, min_samples_leaf=2, min_samples_split=2; total time=   0.5s\n",
      "[CV] END max_depth=20, min_samples_leaf=2, min_samples_split=2; total time=   0.5s\n",
      "[CV] END max_depth=20, min_samples_leaf=2, min_samples_split=2; total time=   0.5s\n",
      "[CV] END max_depth=20, min_samples_leaf=2, min_samples_split=2; total time=   0.5s\n",
      "[CV] END max_depth=20, min_samples_leaf=2, min_samples_split=2; total time=   0.5s\n",
      "[CV] END max_depth=20, min_samples_leaf=2, min_samples_split=3; total time=   0.5s\n",
      "[CV] END max_depth=20, min_samples_leaf=2, min_samples_split=3; total time=   0.5s\n",
      "[CV] END max_depth=20, min_samples_leaf=2, min_samples_split=3; total time=   0.5s\n",
      "[CV] END max_depth=20, min_samples_leaf=2, min_samples_split=3; total time=   0.5s\n",
      "[CV] END max_depth=20, min_samples_leaf=2, min_samples_split=3; total time=   0.5s\n",
      "[CV] END max_depth=20, min_samples_leaf=3, min_samples_split=2; total time=   0.4s\n",
      "[CV] END max_depth=20, min_samples_leaf=3, min_samples_split=2; total time=   0.5s\n",
      "[CV] END max_depth=20, min_samples_leaf=3, min_samples_split=2; total time=   0.5s\n",
      "[CV] END max_depth=20, min_samples_leaf=3, min_samples_split=2; total time=   0.5s\n",
      "[CV] END max_depth=20, min_samples_leaf=3, min_samples_split=2; total time=   0.5s\n",
      "[CV] END max_depth=20, min_samples_leaf=3, min_samples_split=3; total time=   0.4s\n",
      "[CV] END max_depth=20, min_samples_leaf=3, min_samples_split=3; total time=   0.5s\n",
      "[CV] END max_depth=20, min_samples_leaf=3, min_samples_split=3; total time=   0.4s\n",
      "[CV] END max_depth=20, min_samples_leaf=3, min_samples_split=3; total time=   0.4s\n",
      "[CV] END max_depth=20, min_samples_leaf=3, min_samples_split=3; total time=   0.5s\n"
     ]
    },
    {
     "data": {
      "text/plain": [
       "GridSearchCV(cv=5, estimator=RandomForestClassifier(),\n",
       "             param_grid={'max_depth': array([10, 11, 12, 13, 14, 15, 16, 17, 18, 19, 20]),\n",
       "                         'min_samples_leaf': array([2, 3]),\n",
       "                         'min_samples_split': array([2, 3])},\n",
       "             scoring='accuracy', verbose=2)"
      ]
     },
     "execution_count": 47,
     "metadata": {},
     "output_type": "execute_result"
    }
   ],
   "source": [
    "from sklearn.ensemble import RandomForestClassifier\n",
    "from sklearn.model_selection import GridSearchCV\n",
    "parameters = {'max_depth' : np.arange(start = 10, stop = 21, step = 1) , \n",
    "              'min_samples_leaf' : np.arange(start = 2, stop = 4, step = 1),\n",
    "              'min_samples_split' : np.arange(start = 2, stop = 4, step = 1)}\n",
    "\n",
    "clf2 = RandomForestClassifier()\n",
    "clf2 = GridSearchCV(clf2,parameters,scoring=\"accuracy\",verbose=2,cv=5)\n",
    "clf2.fit(x_train,y_train)"
   ]
  },
  {
   "cell_type": "code",
   "execution_count": 48,
   "metadata": {},
   "outputs": [
    {
     "name": "stdout",
     "output_type": "stream",
     "text": [
      "[[934  66]\n",
      " [117 883]]\n",
      "Précision : 0.9085\n"
     ]
    }
   ],
   "source": [
    "y_pred = clf2.predict(x_test)\n",
    "print(confusion_matrix(y_test,y_pred))\n",
    "print(\"Précision : \" + str(accuracy_score(y_test,y_pred)))\n",
    "\n",
    "if accuracy_score(y_test,y_pred)>best_acc:\n",
    "    best_model = clf2\n",
    "    best_acc = accuracy_score(y_test,y_pred)"
   ]
  },
  {
   "attachments": {},
   "cell_type": "markdown",
   "metadata": {},
   "source": [
    "#### Modèles 3 : AdaBoost"
   ]
  },
  {
   "cell_type": "code",
   "execution_count": 49,
   "metadata": {},
   "outputs": [
    {
     "data": {
      "text/plain": [
       "AdaBoostClassifier()"
      ]
     },
     "execution_count": 49,
     "metadata": {},
     "output_type": "execute_result"
    }
   ],
   "source": [
    "from sklearn.ensemble import AdaBoostClassifier\n",
    "clf3 = AdaBoostClassifier()\n",
    "clf3.fit(x_train,y_train)"
   ]
  },
  {
   "cell_type": "code",
   "execution_count": 50,
   "metadata": {},
   "outputs": [
    {
     "name": "stdout",
     "output_type": "stream",
     "text": [
      "[[932  68]\n",
      " [120 880]]\n",
      "Précision : 0.906\n"
     ]
    }
   ],
   "source": [
    "y_pred = clf3.predict(x_test)\n",
    "print(confusion_matrix(y_test,y_pred))\n",
    "print(\"Précision : \" + str(accuracy_score(y_test,y_pred)))\n",
    "\n",
    "if accuracy_score(y_test,y_pred)>best_acc:\n",
    "    best_model = clf3\n",
    "    best_acc = accuracy_score(y_test,y_pred)"
   ]
  },
  {
   "attachments": {},
   "cell_type": "markdown",
   "metadata": {},
   "source": [
    "#### Modèle 4 : Lightgbm"
   ]
  },
  {
   "cell_type": "code",
   "execution_count": 51,
   "metadata": {},
   "outputs": [
    {
     "data": {
      "text/plain": [
       "LGBMClassifier()"
      ]
     },
     "execution_count": 51,
     "metadata": {},
     "output_type": "execute_result"
    }
   ],
   "source": [
    "import lightgbm as lgb\n",
    "clf4 = lgb.LGBMClassifier()\n",
    "clf4.fit(x_train,y_train)"
   ]
  },
  {
   "cell_type": "code",
   "execution_count": 52,
   "metadata": {},
   "outputs": [
    {
     "name": "stdout",
     "output_type": "stream",
     "text": [
      "[[928  72]\n",
      " [112 888]]\n",
      "Précision : 0.908\n"
     ]
    }
   ],
   "source": [
    "y_pred = clf4.predict(x_test)\n",
    "print(confusion_matrix(y_test,y_pred))\n",
    "print(\"Précision : \" + str(accuracy_score(y_test,y_pred)))\n",
    "\n",
    "if accuracy_score(y_test,y_pred)>best_acc:\n",
    "    best_model = clf4\n",
    "    best_acc = accuracy_score(y_test,y_pred)"
   ]
  },
  {
   "attachments": {},
   "cell_type": "markdown",
   "metadata": {},
   "source": [
    "#### Modèle 5 : Bagging"
   ]
  },
  {
   "cell_type": "code",
   "execution_count": 53,
   "metadata": {},
   "outputs": [
    {
     "data": {
      "text/plain": [
       "BaggingClassifier()"
      ]
     },
     "execution_count": 53,
     "metadata": {},
     "output_type": "execute_result"
    }
   ],
   "source": [
    "from sklearn.ensemble import BaggingClassifier\n",
    "clf5 = BaggingClassifier()\n",
    "clf5.fit(x_train,y_train)"
   ]
  },
  {
   "cell_type": "code",
   "execution_count": 54,
   "metadata": {},
   "outputs": [
    {
     "name": "stdout",
     "output_type": "stream",
     "text": [
      "[[914  86]\n",
      " [142 858]]\n",
      "Précision : 0.886\n"
     ]
    }
   ],
   "source": [
    "y_pred = clf5.predict(x_test)\n",
    "print(confusion_matrix(y_test,y_pred))\n",
    "print(\"Précision : \" + str(accuracy_score(y_test,y_pred)))\n",
    "\n",
    "if accuracy_score(y_test,y_pred)>best_acc:\n",
    "    best_model = clf5\n",
    "    best_acc = accuracy_score(y_test,y_pred)"
   ]
  },
  {
   "cell_type": "code",
   "execution_count": 55,
   "metadata": {},
   "outputs": [
    {
     "name": "stdout",
     "output_type": "stream",
     "text": [
      "GridSearchCV(cv=5, estimator=RandomForestClassifier(),\n",
      "             param_grid={'max_depth': array([10, 11, 12, 13, 14, 15, 16, 17, 18, 19, 20]),\n",
      "                         'min_samples_leaf': array([2, 3]),\n",
      "                         'min_samples_split': array([2, 3])},\n",
      "             scoring='accuracy', verbose=2)\n"
     ]
    }
   ],
   "source": [
    "print(best_model)"
   ]
  },
  {
   "attachments": {},
   "cell_type": "markdown",
   "metadata": {},
   "source": [
    "#### Conclusion"
   ]
  },
  {
   "attachments": {},
   "cell_type": "markdown",
   "metadata": {},
   "source": [
    "Notre meilleur modèle est :"
   ]
  },
  {
   "cell_type": "code",
   "execution_count": 60,
   "metadata": {},
   "outputs": [
    {
     "name": "stdout",
     "output_type": "stream",
     "text": [
      "Notre meilleur modèle est : GridSearchCV(cv=5, estimator=RandomForestClassifier(),\n",
      "             param_grid={'max_depth': array([10, 11, 12, 13, 14, 15, 16, 17, 18, 19, 20]),\n",
      "                         'min_samples_leaf': array([2, 3]),\n",
      "                         'min_samples_split': array([2, 3])},\n",
      "             scoring='accuracy', verbose=2)\n",
      "avec une précision de 0.9085\n"
     ]
    }
   ],
   "source": [
    "print(\"Notre meilleur modèle est : \"+str(best_model))\n",
    "print(\"avec une précision de \"+ str(best_acc))"
   ]
  },
  {
   "attachments": {},
   "cell_type": "markdown",
   "metadata": {},
   "source": [
    "## Modèle 3 : Création de notre propre CNN"
   ]
  }
 ],
 "metadata": {
  "kernelspec": {
   "display_name": "base",
   "language": "python",
   "name": "python3"
  },
  "language_info": {
   "codemirror_mode": {
    "name": "ipython",
    "version": 3
   },
   "file_extension": ".py",
   "mimetype": "text/x-python",
   "name": "python",
   "nbconvert_exporter": "python",
   "pygments_lexer": "ipython3",
   "version": "3.9.13"
  },
  "orig_nbformat": 4,
  "vscode": {
   "interpreter": {
    "hash": "43846aba58453b3fc7a3ceda9f4997b299ab26354919d73b0d9b0c9dbd4441fc"
   }
  }
 },
 "nbformat": 4,
 "nbformat_minor": 2
}
